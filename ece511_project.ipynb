{
 "cells": [
  {
   "cell_type": "code",
   "execution_count": 1,
   "metadata": {
    "tags": []
   },
   "outputs": [],
   "source": [
    "import math\n",
    "import random\n",
    "import datetime\n",
    "import numpy as np\n",
    "import torch\n",
    "import torch.nn as nn\n",
    "import torch.optim as optim\n",
    "from torch.utils.data import Dataset, DataLoader\n",
    "from tqdm import tqdm\n",
    "import matplotlib.pyplot as plt"
   ]
  },
  {
   "cell_type": "code",
   "execution_count": 2,
   "metadata": {
    "tags": []
   },
   "outputs": [],
   "source": [
    "config=dict(\n",
    "    # RUN CONFIG:\n",
    "    RUN_NAME='unofficial_single_gpu_run',\n",
    "    RUN_DESCRIPTION='No description',\n",
    "    RUNS_FOLDER_PTH='../runs',\n",
    "    # DATA CONFIG:\n",
    "    DATASET_SIZE=30000, # WARN: This is too small but makes it easy to go through the notebook fast\n",
    "    TEST_PROPORTION=0.01,\n",
    "    MAX_SEQ_LEN=40,\n",
    "    VOCAB_SIZE=64,\n",
    "    INPUT_ADDR_NUM=16,\n",
    "    OUTPUT_ADDR_NUM=4,\n",
    "    ADDR_CHUNKS=5,\n",
    "    # TOKENIZER_TYPE='wordlevel',\n",
    "    # TRAINING CONFIG:\n",
    "    BATCH_SIZE=48,\n",
    "    GRAD_ACCUMULATION_STEPS=8,\n",
    "    WORKER_COUNT=8,\n",
    "    EPOCHS=100,\n",
    "    # OPTIMIZER CONFIG:\n",
    "    BETAS=(0.9, 0.98),\n",
    "    EPS=1e-9,\n",
    "    # SCHEDULER CONFIG:\n",
    "    N_WARMUP_STEPS=4000,\n",
    "    # MODEL CONFIG:\n",
    "    D_MODEL=512,\n",
    "    N_BLOCKS=3,\n",
    "    N_HEADS=8,\n",
    "    D_FF=2048,\n",
    "    DROPOUT_PROBA=0.1,\n",
    "    # OTHER:\n",
    "    MODEL_SAVE_EPOCH_CNT=10,\n",
    "    DEVICE='gpu',\n",
    "    LABEL_SMOOTHING=0.1,\n",
    ")"
   ]
  },
  {
   "cell_type": "markdown",
   "metadata": {
    "tags": []
   },
   "source": [
    "## Positional Embedding"
   ]
  },
  {
   "cell_type": "code",
   "execution_count": 3,
   "metadata": {
    "collapsed": false,
    "jupyter": {
     "outputs_hidden": false
    }
   },
   "outputs": [],
   "source": [
    "class PositionalEncoding(nn.Module):\n",
    "    def __init__(self, d_model, max_seq_len=500, dropout_proba=0.1):\n",
    "        super(PositionalEncoding, self).__init__()\n",
    "        self.max_seq_len=max_seq_len\n",
    "        self.d_model=d_model\n",
    "\n",
    "        pe_table=self.get_pe_table()\n",
    "        self.register_buffer('pe_table' , pe_table)\n",
    "\n",
    "        self.dropout=nn.Dropout(dropout_proba)\n",
    "\n",
    "    def get_pe_table(self):\n",
    "        position_idxs=torch.arange(self.max_seq_len).unsqueeze(1)\n",
    "        embedding_idxs=torch.arange(self.d_model).unsqueeze(0)\n",
    "\n",
    "        angle_rads = position_idxs * 1/torch.pow(10000, (2*(embedding_idxs//2))/self.d_model)\n",
    "\n",
    "        angle_rads[:, 0::2] = torch.sin(angle_rads[:, 0::2])\n",
    "        angle_rads[:, 1::2] = torch.cos(angle_rads[:, 1::2])\n",
    "\n",
    "        pe_table = angle_rads.unsqueeze(0) # So we can apply it to a batch\n",
    "\n",
    "        return pe_table\n",
    "\n",
    "    def forward(self, embeddings_batch):\n",
    "        seq_len = embeddings_batch.size(1)\n",
    "        pe_batch = self.pe_table[:, :seq_len].clone().detach()\n",
    "        return self.dropout(embeddings_batch + pe_batch)"
   ]
  },
  {
   "cell_type": "markdown",
   "metadata": {},
   "source": [
    "## Add and Norm\n"
   ]
  },
  {
   "cell_type": "code",
   "execution_count": 4,
   "metadata": {
    "collapsed": false,
    "jupyter": {
     "outputs_hidden": false
    }
   },
   "outputs": [],
   "source": [
    "class AddAndNorm(nn.Module):\n",
    "    def __init__(self, d_model):\n",
    "        super(AddAndNorm, self).__init__()\n",
    "\n",
    "        self.layer_norm=nn.LayerNorm(d_model)\n",
    "\n",
    "    def forward(self, x, residual):\n",
    "        return self.layer_norm(x+residual)"
   ]
  },
  {
   "cell_type": "markdown",
   "metadata": {},
   "source": [
    "## Feed Forward Layer"
   ]
  },
  {
   "cell_type": "code",
   "execution_count": 5,
   "metadata": {
    "collapsed": false,
    "jupyter": {
     "outputs_hidden": false
    }
   },
   "outputs": [],
   "source": [
    "class PositionWiseFeedForwardNet(nn.Module):\n",
    "    def __init__(self, d_model, d_ff):\n",
    "        super(PositionWiseFeedForwardNet, self).__init__()\n",
    "        self.w_1 = nn.Linear(d_model, d_ff)\n",
    "        self.w_2 = nn.Linear(d_ff, d_model)\n",
    "\n",
    "        # Optional Dropout (not mentioned in the paper)\n",
    "        self.dropout = nn.Dropout(0.1)\n",
    "\n",
    "    def forward(self, x):\n",
    "        return self.w_2(self.dropout(torch.relu(self.w_1(x))))"
   ]
  },
  {
   "cell_type": "markdown",
   "metadata": {},
   "source": [
    "## Attention Layer"
   ]
  },
  {
   "cell_type": "code",
   "execution_count": 6,
   "metadata": {
    "collapsed": false,
    "jupyter": {
     "outputs_hidden": false
    }
   },
   "outputs": [],
   "source": [
    "class ScaledDotProductAttention(nn.Module):\n",
    "    def __init__(self, d_head):\n",
    "        super(ScaledDotProductAttention, self).__init__()\n",
    "\n",
    "        self.d_head = d_head\n",
    "\n",
    "        # Optional dropout (not mentioned in the paper)\n",
    "        self.attention_dropout = nn.Dropout(p=0.1)\n",
    "\n",
    "    def forward(self, q, k, v, mask=None):\n",
    "        # q, k, v dims: (batch_size, n_heads, seq_len, d_head)\n",
    "\n",
    "        attention_weights = torch.matmul(q, k.transpose(-2, -1))  # (batch_size, n_heads, seq_len, seq_len)\n",
    "        scaled_attention_weights = attention_weights / math.sqrt(self.d_head)  # (batch_size, n_heads, seq_len, seq_len)\n",
    "\n",
    "        if mask is not None:\n",
    "            scaled_attention_weights = scaled_attention_weights.masked_fill(mask == 0, float('-inf')) # (batch_size, n_heads, seq_len, seq_len)\n",
    "\n",
    "        # Apply softmax over the last dimension which corresponds to attention weights for a key\n",
    "        scaled_attention_weights = nn.functional.softmax(scaled_attention_weights, dim=-1) # (batch_size, n_heads, seq_len, seq_len)\n",
    "\n",
    "        # Optional dropout (not mentioned in the paper)\n",
    "        scaled_attention_weights = self.attention_dropout(scaled_attention_weights) # (batch_size, n_heads, seq_len, seq_len)\n",
    "\n",
    "        weighted_v = torch.matmul(scaled_attention_weights, v) # (batch_size, n_heads, seq_len, d_head)\n",
    "\n",
    "        return weighted_v"
   ]
  },
  {
   "cell_type": "markdown",
   "metadata": {},
   "source": [
    "## Multi-head Attention Layer"
   ]
  },
  {
   "cell_type": "code",
   "execution_count": 7,
   "metadata": {
    "collapsed": false,
    "jupyter": {
     "outputs_hidden": false
    }
   },
   "outputs": [],
   "source": [
    "class MultiHeadAttention(nn.Module):\n",
    "    def __init__(self, d_model, n_heads):\n",
    "        super(MultiHeadAttention, self).__init__()\n",
    "\n",
    "        self.n_heads= n_heads\n",
    "\n",
    "        assert d_model % n_heads == 0\n",
    "        self.d_head = d_model // n_heads\n",
    "\n",
    "        self.dot_product_attention_layer= ScaledDotProductAttention(self.d_head)\n",
    "\n",
    "        self.W_0 = nn.Linear(d_model, d_model)\n",
    "\n",
    "    def _split_into_heads(self, q,k,v): # (batch_size, seq_len, d_model)\n",
    "        q= q.view(q.size(0), q.size(1), self.n_heads, self.d_head) # (batch_size, seq_len, n_heads, d_head)\n",
    "        k= k.view(k.size(0), k.size(1), self.n_heads, self.d_head) # (batch_size, seq_len, n_heads, d_head)\n",
    "        v= v.view(v.size(0), v.size(1), self.n_heads, self.d_head) # (batch_size, seq_len, n_heads, d_head)\n",
    "\n",
    "        q= q.transpose(1,2) # (batch_size, n_heads, seq_len, d_head)\n",
    "        k= k.transpose(1,2) # (batch_size, n_heads, seq_len, d_head)\n",
    "        v= v.transpose(1,2) # (batch_size, n_heads, seq_len, d_head)\n",
    "\n",
    "        return q,k,v\n",
    "\n",
    "    def _concatenate_heads(self,attention_output):\n",
    "        attention_output = attention_output.transpose(1,2).contiguous() # (batch_size, seq_len, n_heads, d_head)\n",
    "        attention_output = attention_output.view(attention_output.size(0), attention_output.size(1), -1) # (batch_size, seq_len, n_heads * d_head)\n",
    "\n",
    "        return attention_output\n",
    "\n",
    "    def forward(self, q, k, v, mask=None):\n",
    "        q,k,v= self._split_into_heads(q,k,v) # (batch_size, n_heads, seq_len, d_head)\n",
    "        attention_output = self.dot_product_attention_layer(q, k, v, mask) # (batch_size, n_heads, seq_len, d_head)\n",
    "        attention_output = self._concatenate_heads(attention_output) # (batch_size, seq_len, n_heads * d_head)\n",
    "\n",
    "        attention_output = self.W_0(attention_output) # (batch_size, seq_len, d_model)\n",
    "\n",
    "        return attention_output"
   ]
  },
  {
   "cell_type": "markdown",
   "metadata": {},
   "source": [
    "## Encoder Block"
   ]
  },
  {
   "cell_type": "code",
   "execution_count": 8,
   "metadata": {
    "tags": []
   },
   "outputs": [],
   "source": [
    "class TransformerEncoderBlock(nn.Module):\n",
    "    def __init__(self, d_model, n_heads, d_ff, dropout_proba):\n",
    "        super(TransformerEncoderBlock, self).__init__()\n",
    "\n",
    "        self.W_q = nn.Linear(d_model, d_model)\n",
    "        self.W_k = nn.Linear(d_model, d_model)\n",
    "        self.W_v = nn.Linear(d_model, d_model)\n",
    "\n",
    "        self.mha_layer=MultiHeadAttention(d_model, n_heads)\n",
    "        self.dropout_layer_1=nn.Dropout(dropout_proba)\n",
    "        self.add_and_norm_layer_1 = AddAndNorm(d_model)\n",
    "\n",
    "        self.ffn_layer = PositionWiseFeedForwardNet(d_model, d_ff)\n",
    "        self.dropout_layer_2=nn.Dropout(dropout_proba)\n",
    "        self.add_and_norm_layer_2 = AddAndNorm(d_model)\n",
    "\n",
    "    def forward(self, x, mask):\n",
    "        # x dims: (batch_size, src_seq_len, d_model)\n",
    "        # mask dim: (batch_size, 1, 1, src_seq_len)\n",
    "\n",
    "        q = self.W_q(x) # (batch_size, src_seq_len, d_model)\n",
    "        k = self.W_k(x) # (batch_size, src_seq_len, d_model)\n",
    "        v = self.W_v(x) # (batch_size, src_seq_len, d_model)\n",
    "\n",
    "        mha_out = self.mha_layer(q, k, v, mask) # (batch_size, src_seq_len, d_model)\n",
    "        mha_out= self.dropout_layer_1(mha_out) # (batch_size, src_seq_len, d_model)\n",
    "        mha_out = self.add_and_norm_layer_1(x, mha_out) # (batch_size, src_seq_len, d_model)\n",
    "\n",
    "        ffn_out = self.ffn_layer(mha_out) # (batch_size, src_seq_len, d_model)\n",
    "        ffn_out= self.dropout_layer_2(ffn_out) # (batch_size, src_seq_len, d_model)\n",
    "        ffn_out = self.add_and_norm_layer_2(mha_out, ffn_out)  # (batch_size, src_seq_len, d_model)\n",
    "\n",
    "        return ffn_out"
   ]
  },
  {
   "cell_type": "markdown",
   "metadata": {},
   "source": [
    "## Decoder Block"
   ]
  },
  {
   "cell_type": "code",
   "execution_count": 9,
   "metadata": {
    "collapsed": false,
    "jupyter": {
     "outputs_hidden": false
    }
   },
   "outputs": [],
   "source": [
    "class TransformerDecoderBlock(nn.Module):\n",
    "    def __init__(self, d_model, n_heads, d_ff, dropout_proba):\n",
    "        super(TransformerDecoderBlock, self).__init__()\n",
    "\n",
    "        self.W_q_1 = nn.Linear(d_model, d_model)\n",
    "        self.W_k_1 = nn.Linear(d_model, d_model)\n",
    "        self.W_v_1 = nn.Linear(d_model, d_model)\n",
    "\n",
    "        self.mha_layer_1=MultiHeadAttention(d_model, n_heads)\n",
    "        self.dropout_layer_1=nn.Dropout(dropout_proba)\n",
    "        self.add_and_norm_1 = AddAndNorm(d_model)\n",
    "\n",
    "        self.W_q_2 = nn.Linear(d_model, d_model)\n",
    "        self.W_k_2 = nn.Linear(d_model, d_model)\n",
    "        self.W_v_2 = nn.Linear(d_model, d_model)\n",
    "\n",
    "        self.mha_layer_2=MultiHeadAttention(d_model, n_heads)\n",
    "        self.dropout_layer_2=nn.Dropout(dropout_proba)\n",
    "        self.add_and_norm_2 = AddAndNorm(d_model)\n",
    "\n",
    "        self.ffn_layer = PositionWiseFeedForwardNet(d_model, d_ff)\n",
    "        self.dropout_layer_3=nn.Dropout(dropout_proba)\n",
    "        self.add_and_norm_3 = AddAndNorm(d_model)\n",
    "\n",
    "    def forward(self, x, encoder_output, src_mask, trg_mask):\n",
    "        # x dims: (batch_size, trg_seq_len, d_model)\n",
    "        # encoder_output dims: (batch_size, src_seq_len, d_model)\n",
    "        # src_mask dim: (batch_size, 1, 1, src_seq_len)\n",
    "        # trg_mask dim: (batch_size, 1, trg_seq_len, trg_seq_len)\n",
    "\n",
    "        # 1st attention layer, trg_mask is used here\n",
    "        q_1 = self.W_q_1(x) # (batch_size, trg_seq_len, d_model)\n",
    "        k_1 = self.W_k_1(x) # (batch_size, trg_seq_len, d_model)\n",
    "        v_1 = self.W_v_1(x) # (batch_size, trg_seq_len, d_model)\n",
    "\n",
    "        mha_layer_1_out = self.mha_layer_1(q_1, k_1, v_1, trg_mask) # (batch_size, trg_seq_len, d_model)\n",
    "        mha_layer_1_out= self.dropout_layer_1(mha_layer_1_out) # (batch_size, trg_seq_len, d_model)\n",
    "        mha_layer_1_out = self.add_and_norm_1(mha_layer_1_out, x) # (batch_size, trg_seq_len, d_model)\n",
    "\n",
    "        # 2nd attention layer (encoder-devoder attention layer), src_mask is used here\n",
    "        q_2 = self.W_q_2(mha_layer_1_out) # (batch_size, trg_seq_len, d_model)\n",
    "        k_2 = self.W_k_2(encoder_output) # (batch_size, src_seq_len, d_model)\n",
    "        v_2 = self.W_v_2(encoder_output) # (batch_size, src_seq_len, d_model)\n",
    "\n",
    "        mha_layer_2_out = self.mha_layer_2(q_2, k_2, v_2, src_mask) # (batch_size, trg_seq_len, d_model)\n",
    "        mha_layer_2_out= self.dropout_layer_2(mha_layer_2_out) # (batch_size, trg_seq_len, d_model)\n",
    "        mha_layer_2_out = self.add_and_norm_2(mha_layer_2_out, mha_layer_1_out) # (batch_size, trg_seq_len, d_model)\n",
    "\n",
    "        # Position-wise feed forward\n",
    "        ffn_out = self.ffn_layer(mha_layer_2_out) # (batch_size, trg_seq_len, d_model)\n",
    "        ffn_out= self.dropout_layer_3(ffn_out) # (batch_size, trg_seq_len, d_model)\n",
    "        ffn_out = self.add_and_norm_3(ffn_out, mha_layer_2_out) # (batch_size, trg_seq_len, d_model)\n",
    "\n",
    "        return ffn_out"
   ]
  },
  {
   "cell_type": "markdown",
   "metadata": {},
   "source": [
    "## Encoder"
   ]
  },
  {
   "cell_type": "code",
   "execution_count": 10,
   "metadata": {
    "collapsed": false,
    "jupyter": {
     "outputs_hidden": false
    }
   },
   "outputs": [],
   "source": [
    "class TransformerEncoder(nn.Module):\n",
    "    def __init__(self, n_blocks, n_heads, d_model, d_ff, dropout_proba=0.1):\n",
    "        super(TransformerEncoder, self).__init__()\n",
    "\n",
    "        self.encoder_blocks=nn.ModuleList([TransformerEncoderBlock(d_model, n_heads, d_ff, dropout_proba) for _ in range(n_blocks)])\n",
    "\n",
    "    def forward(self, x, mask):\n",
    "        for encoder_block in self.encoder_blocks:\n",
    "            x = encoder_block(x, mask)\n",
    "        return x"
   ]
  },
  {
   "cell_type": "markdown",
   "metadata": {},
   "source": [
    "## Decoder"
   ]
  },
  {
   "cell_type": "code",
   "execution_count": 11,
   "metadata": {
    "collapsed": false,
    "jupyter": {
     "outputs_hidden": false
    }
   },
   "outputs": [],
   "source": [
    "class TransformerDecoder(nn.Module):\n",
    "    def __init__(self, n_blocks, n_heads, d_model, d_ff, dropout_proba):\n",
    "        super(TransformerDecoder, self).__init__()\n",
    "\n",
    "        self.decoder_blocks=nn.ModuleList([TransformerDecoderBlock(d_model, n_heads, d_ff, dropout_proba) for _ in range(n_blocks)])\n",
    "\n",
    "    def forward(self, x, encoder_output, src_mask, trg_mask):\n",
    "        for decoder_block in self.decoder_blocks:\n",
    "            x = decoder_block(x, encoder_output, src_mask, trg_mask)\n",
    "        return x"
   ]
  },
  {
   "cell_type": "markdown",
   "metadata": {},
   "source": [
    "## Transformer Model\n"
   ]
  },
  {
   "cell_type": "code",
   "execution_count": 12,
   "metadata": {
    "collapsed": false,
    "jupyter": {
     "outputs_hidden": false
    }
   },
   "outputs": [],
   "source": [
    "class TransformerEncoderDecoder(nn.Module):\n",
    "    def __init__(self,d_model, n_blocks, src_vocab_size, trg_vocab_size, n_heads, d_ff, dropout_proba):\n",
    "        super(TransformerEncoderDecoder, self).__init__()\n",
    "        self.dropout_proba = dropout_proba\n",
    "        self.d_model=d_model\n",
    "\n",
    "        # Encoder part\n",
    "        self.src_embedding = nn.Embedding(src_vocab_size, d_model)\n",
    "        self.src_pos_embedding= PositionalEncoding(d_model)\n",
    "        self.encoder= TransformerEncoder(n_blocks, n_heads, d_model, d_ff, dropout_proba)\n",
    "\n",
    "        # Decoder part\n",
    "        self.trg_embedding = nn.Embedding(trg_vocab_size, d_model)\n",
    "        self.trg_pos_embedding= PositionalEncoding(d_model)\n",
    "        self.decoder= TransformerDecoder(n_blocks, n_heads, d_model, d_ff, dropout_proba)\n",
    "\n",
    "        # Linear mapping to vocab size\n",
    "        self.linear = nn.Linear(d_model, trg_vocab_size)\n",
    "\n",
    "        # Switch to xavier initialization (shown to be beneficial)\n",
    "        self.init_with_xavier()\n",
    "\n",
    "        # Sharing weights between two embedding layers and the pre-softmax linear layer\n",
    "        self.src_embedding.weight = self.trg_embedding.weight\n",
    "        self.linear.weight = self.trg_embedding.weight\n",
    "\n",
    "    def encode(self, src_token_ids, src_mask):\n",
    "        # Encoder part\n",
    "        src_embeddings = self.src_embedding(src_token_ids) * math.sqrt(self.d_model) # (batch_size, src_seq_len, d_model)\n",
    "        src_embeddings = self.src_pos_embedding(src_embeddings) # (batch_size, src_seq_len, d_model)\n",
    "        encoder_outputs = self.encoder(src_embeddings, src_mask) # (batch_size, src_seq_len, d_model)\n",
    "\n",
    "        return encoder_outputs\n",
    "\n",
    "    def decode(self, trg_token_ids, encoder_outputs, src_mask, trg_mask):\n",
    "        # Decoder part\n",
    "        trg_embeddings = self.trg_embedding(trg_token_ids) * math.sqrt(self.d_model) # (batch_size, trg_seq_len, d_model)\n",
    "        trg_embeddings = self.trg_pos_embedding(trg_embeddings) # (batch_size, trg_seq_len, d_model)\n",
    "        decoder_outputs = self.decoder(trg_embeddings, encoder_outputs, src_mask, trg_mask) # (batch_size, trg_seq_len, d_model)\n",
    "\n",
    "        # Linear mapping to vocab size\n",
    "        linear_out = self.linear(decoder_outputs) # (batch_size, trg_seq_len, trg_vocab_size)\n",
    "\n",
    "        return linear_out\n",
    " \n",
    "    def forward(self, src_token_ids, trg_token_ids, src_mask, trg_mask):\n",
    "\n",
    "        encoder_outputs= self.encode(src_token_ids, src_mask) # (batch_size, src_seq_len, d_model)\n",
    "        decoder_outputs= self.decode(trg_token_ids, encoder_outputs, src_mask, trg_mask) # (batch_size, trg_seq_len, d_model)\n",
    "\n",
    "        return decoder_outputs\n",
    "\n",
    "    def init_with_xavier(self):\n",
    "        for name, p in self.named_parameters():\n",
    "            if p.dim() > 1:\n",
    "                nn.init.xavier_uniform_(p)"
   ]
  },
  {
   "cell_type": "markdown",
   "metadata": {},
   "source": [
    "## Prediction Model"
   ]
  },
  {
   "cell_type": "code",
   "execution_count": 13,
   "metadata": {
    "collapsed": false,
    "jupyter": {
     "outputs_hidden": false
    }
   },
   "outputs": [],
   "source": [
    "class SequencePredictionTransformer(nn.Module):\n",
    "    def __init__(self, d_model,n_blocks,src_vocab_size,trg_vocab_size,n_heads,d_ff, dropout_proba):\n",
    "        super(SequencePredictionTransformer, self).__init__()\n",
    "\n",
    "        self.transformer_encoder_decoder=TransformerEncoderDecoder(\n",
    "            d_model,\n",
    "            n_blocks,\n",
    "            src_vocab_size,\n",
    "            trg_vocab_size,\n",
    "            n_heads,\n",
    "            d_ff,\n",
    "            dropout_proba\n",
    "        )\n",
    "\n",
    "    def _get_pad_mask(self, token_ids, pad_idx=0):\n",
    "        pad_mask= (token_ids != pad_idx).unsqueeze(-2) # (batch_size, 1, seq_len)\n",
    "        return pad_mask.unsqueeze(1) # (batch_size, 1, 1, seq_len)\n",
    "\n",
    "    def _get_lookahead_mask(self, token_ids):\n",
    "        sz_b, len_s = token_ids.size()\n",
    "        subsequent_mask = (1 - torch.triu(torch.ones((1, len_s, len_s), device=token_ids.device), diagonal=1)).bool()\n",
    "        return subsequent_mask.unsqueeze(1)\n",
    "\n",
    "    def forward(self, src_token_ids, trg_token_ids):\n",
    "        \n",
    "        trg_token_ids=trg_token_ids[:, :-1] # shift right operation! (actually it's just cutting off the right-most element)\n",
    "        \n",
    "        # src_mask = self._get_pad_mask(src_token_ids) # (batch_size, 1, 1, src_seq_len)\n",
    "        # trg_mask = self._get_pad_mask(trg_token_ids) & self._get_lookahead_mask(trg_token_ids)  # (batch_size, 1, trg_seq_len, trg_seq_len)\n",
    "        trg_mask = self._get_lookahead_mask(trg_token_ids)\n",
    "\n",
    "        return self.transformer_encoder_decoder(src_token_ids, trg_token_ids, src_mask=None, trg_mask=trg_mask) # Dont need padding mask\n",
    "\n",
    "\n",
    "    def translate(self, sentence):\n",
    "\n",
    "        # Infer the device of the model\n",
    "        device = next(self.parameters()).device\n",
    "\n",
    "        # sanity check\n",
    "        if len(sentence) != (config['INPUT_ADDR_NUM']+1) * config['ADDR_CHUNKS']:\n",
    "            print(f\"You should provide {config['INPUT_ADDR_NUM']+1} addresses in a row as input.\\n\")\n",
    "\n",
    "        # Initialize target sequence with SOS token.\n",
    "        trg_token_ids=torch.LongTensor([sentence[-1]]).unsqueeze(0).to(device) # (1, 1)\n",
    "\n",
    "        # Obtain src mask\n",
    "        # src_mask=self._get_pad_mask(src_token_ids) # (batch_size, src_seq_len)\n",
    "\n",
    "        # with torch.no_grad():\n",
    "        encoder_output=self.transformer_encoder_decoder.encode(src_token_ids, src_mask=None) # (batch_size, src_seq_len, d_model)\n",
    "\n",
    "        while True:\n",
    "\n",
    "            # Obtain decoder output.\n",
    "            trg_mask=self._get_lookahead_mask(trg_token_ids)  # Can also be set to None but for my config I found this works better.\n",
    "            decoder_output=self.transformer_encoder_decoder.decode(trg_token_ids, encoder_output, src_mask, trg_mask)\n",
    "\n",
    "            # Identify token with highest probability.\n",
    "            softmax_output=nn.functional.log_softmax(decoder_output, dim=-1) # (batch_size, trg_seq_len, trg_vocab_size)\n",
    "            softmax_output_last=softmax_output[:, -1, :] # (batch_size, trg_vocab_size)\n",
    "            _, token_id=softmax_output_last.max(dim=-1) # (batch_size, trg_seq_len)\n",
    "\n",
    "            # Check if token is EOS or we reached the maximum number of tokens.\n",
    "            if token_id.item() == eos_id or trg_token_ids.size(1) == max_tokens:\n",
    "                trg_token_ids=torch.cat([trg_token_ids, token_id.unsqueeze(0)], dim=-1) # (batch_size, trg_seq_len+1)\n",
    "                break\n",
    "\n",
    "            # Add token to target sequence.\n",
    "            trg_token_ids=torch.cat([trg_token_ids, token_id.unsqueeze(0)], dim=-1) # (batch_size, trg_seq_len+1)\n",
    "\n",
    "        # Detokenize sentence.\n",
    "        decoded_output=tokenizer.decode(trg_token_ids.squeeze(0).detach().cpu().numpy(), skip_special_tokens=skip_special_tokens)\n",
    "\n",
    "        return decoded_output"
   ]
  },
  {
   "cell_type": "code",
   "execution_count": 14,
   "metadata": {
    "tags": []
   },
   "outputs": [
    {
     "name": "stdout",
     "output_type": "stream",
     "text": [
      "tensor([[40,  0, 16, 86, 87,  8, 30, 71, 95, 52],\n",
      "        [84,  7, 98, 18, 95, 51, 57, 66, 35,  7],\n",
      "        [18, 19,  3, 32,  6, 85, 84,  6, 98, 36],\n",
      "        [89, 30, 88, 34,  6,  5, 14, 68, 10, 38]])\n"
     ]
    },
    {
     "data": {
      "text/plain": [
       "tensor([[[[ True, False, False, False, False, False, False, False, False, False],\n",
       "          [ True,  True, False, False, False, False, False, False, False, False],\n",
       "          [ True,  True,  True, False, False, False, False, False, False, False],\n",
       "          [ True,  True,  True,  True, False, False, False, False, False, False],\n",
       "          [ True,  True,  True,  True,  True, False, False, False, False, False],\n",
       "          [ True,  True,  True,  True,  True,  True, False, False, False, False],\n",
       "          [ True,  True,  True,  True,  True,  True,  True, False, False, False],\n",
       "          [ True,  True,  True,  True,  True,  True,  True,  True, False, False],\n",
       "          [ True,  True,  True,  True,  True,  True,  True,  True,  True, False],\n",
       "          [ True,  True,  True,  True,  True,  True,  True,  True,  True,  True]]]])"
      ]
     },
     "execution_count": 14,
     "metadata": {},
     "output_type": "execute_result"
    }
   ],
   "source": [
    "# Test of look-ahead masks\n",
    "test = torch.randint(0, 100, (4, 10))\n",
    "def _get_lookahead_mask(token_ids):\n",
    "    sz_b, len_s = token_ids.size()\n",
    "    subsequent_mask = (1 - torch.triu(torch.ones((1, len_s, len_s), device=token_ids.device), diagonal=1)).bool()\n",
    "    return subsequent_mask.unsqueeze(1)\n",
    "print(test)\n",
    "_get_lookahead_mask(test)"
   ]
  },
  {
   "cell_type": "markdown",
   "metadata": {},
   "source": [
    "## Training Initialization"
   ]
  },
  {
   "cell_type": "code",
   "execution_count": 15,
   "metadata": {
    "collapsed": false,
    "jupyter": {
     "outputs_hidden": false
    }
   },
   "outputs": [],
   "source": [
    "class CustomScheduler():\n",
    "\n",
    "    def __init__(self, optimizer, d_model, n_warmup_steps=4000):\n",
    "        self.optimizer = optimizer\n",
    "        self.d_model = d_model\n",
    "        self.n_warmup_steps = n_warmup_steps\n",
    "        self.cur_step = 0\n",
    "        self.cur_lr=None\n",
    "\n",
    "        # Init LR right away\n",
    "        self.step()\n",
    "\n",
    "    def step(self):\n",
    "        self.cur_step += 1\n",
    "        self.cur_lr=self._get_lr()\n",
    "\n",
    "        for p in self.optimizer.param_groups:\n",
    "            p['lr'] = self.cur_lr\n",
    "\n",
    "    def _get_lr(self):\n",
    "        return self.d_model**(-0.5) * min(self.cur_step**(-0.5), self.cur_step*self.n_warmup_steps**(-1.5))\n",
    "\n",
    "    def get_last_lr(self):\n",
    "        return [group['lr'] for group in self.optimizer.param_groups]\n",
    "\n",
    "    def zero_grad(self):\n",
    "        self.optimizer.zero_grad()"
   ]
  },
  {
   "cell_type": "code",
   "execution_count": 16,
   "metadata": {
    "collapsed": false,
    "jupyter": {
     "outputs_hidden": false
    }
   },
   "outputs": [
    {
     "name": "stdout",
     "output_type": "stream",
     "text": [
      "Using device cuda:0\n"
     ]
    }
   ],
   "source": [
    "device = torch.device(\"cuda:0\" if torch.cuda.is_available() else \"cpu\")\n",
    "print(f\"Using device {device}\")"
   ]
  },
  {
   "cell_type": "code",
   "execution_count": 17,
   "metadata": {
    "tags": []
   },
   "outputs": [
    {
     "data": {
      "text/plain": [
       "SequencePredictionTransformer(\n",
       "  (transformer_encoder_decoder): TransformerEncoderDecoder(\n",
       "    (src_embedding): Embedding(64, 512)\n",
       "    (src_pos_embedding): PositionalEncoding(\n",
       "      (dropout): Dropout(p=0.1, inplace=False)\n",
       "    )\n",
       "    (encoder): TransformerEncoder(\n",
       "      (encoder_blocks): ModuleList(\n",
       "        (0): TransformerEncoderBlock(\n",
       "          (W_q): Linear(in_features=512, out_features=512, bias=True)\n",
       "          (W_k): Linear(in_features=512, out_features=512, bias=True)\n",
       "          (W_v): Linear(in_features=512, out_features=512, bias=True)\n",
       "          (mha_layer): MultiHeadAttention(\n",
       "            (dot_product_attention_layer): ScaledDotProductAttention(\n",
       "              (attention_dropout): Dropout(p=0.1, inplace=False)\n",
       "            )\n",
       "            (W_0): Linear(in_features=512, out_features=512, bias=True)\n",
       "          )\n",
       "          (dropout_layer_1): Dropout(p=0.1, inplace=False)\n",
       "          (add_and_norm_layer_1): AddAndNorm(\n",
       "            (layer_norm): LayerNorm((512,), eps=1e-05, elementwise_affine=True)\n",
       "          )\n",
       "          (ffn_layer): PositionWiseFeedForwardNet(\n",
       "            (w_1): Linear(in_features=512, out_features=2048, bias=True)\n",
       "            (w_2): Linear(in_features=2048, out_features=512, bias=True)\n",
       "            (dropout): Dropout(p=0.1, inplace=False)\n",
       "          )\n",
       "          (dropout_layer_2): Dropout(p=0.1, inplace=False)\n",
       "          (add_and_norm_layer_2): AddAndNorm(\n",
       "            (layer_norm): LayerNorm((512,), eps=1e-05, elementwise_affine=True)\n",
       "          )\n",
       "        )\n",
       "        (1): TransformerEncoderBlock(\n",
       "          (W_q): Linear(in_features=512, out_features=512, bias=True)\n",
       "          (W_k): Linear(in_features=512, out_features=512, bias=True)\n",
       "          (W_v): Linear(in_features=512, out_features=512, bias=True)\n",
       "          (mha_layer): MultiHeadAttention(\n",
       "            (dot_product_attention_layer): ScaledDotProductAttention(\n",
       "              (attention_dropout): Dropout(p=0.1, inplace=False)\n",
       "            )\n",
       "            (W_0): Linear(in_features=512, out_features=512, bias=True)\n",
       "          )\n",
       "          (dropout_layer_1): Dropout(p=0.1, inplace=False)\n",
       "          (add_and_norm_layer_1): AddAndNorm(\n",
       "            (layer_norm): LayerNorm((512,), eps=1e-05, elementwise_affine=True)\n",
       "          )\n",
       "          (ffn_layer): PositionWiseFeedForwardNet(\n",
       "            (w_1): Linear(in_features=512, out_features=2048, bias=True)\n",
       "            (w_2): Linear(in_features=2048, out_features=512, bias=True)\n",
       "            (dropout): Dropout(p=0.1, inplace=False)\n",
       "          )\n",
       "          (dropout_layer_2): Dropout(p=0.1, inplace=False)\n",
       "          (add_and_norm_layer_2): AddAndNorm(\n",
       "            (layer_norm): LayerNorm((512,), eps=1e-05, elementwise_affine=True)\n",
       "          )\n",
       "        )\n",
       "        (2): TransformerEncoderBlock(\n",
       "          (W_q): Linear(in_features=512, out_features=512, bias=True)\n",
       "          (W_k): Linear(in_features=512, out_features=512, bias=True)\n",
       "          (W_v): Linear(in_features=512, out_features=512, bias=True)\n",
       "          (mha_layer): MultiHeadAttention(\n",
       "            (dot_product_attention_layer): ScaledDotProductAttention(\n",
       "              (attention_dropout): Dropout(p=0.1, inplace=False)\n",
       "            )\n",
       "            (W_0): Linear(in_features=512, out_features=512, bias=True)\n",
       "          )\n",
       "          (dropout_layer_1): Dropout(p=0.1, inplace=False)\n",
       "          (add_and_norm_layer_1): AddAndNorm(\n",
       "            (layer_norm): LayerNorm((512,), eps=1e-05, elementwise_affine=True)\n",
       "          )\n",
       "          (ffn_layer): PositionWiseFeedForwardNet(\n",
       "            (w_1): Linear(in_features=512, out_features=2048, bias=True)\n",
       "            (w_2): Linear(in_features=2048, out_features=512, bias=True)\n",
       "            (dropout): Dropout(p=0.1, inplace=False)\n",
       "          )\n",
       "          (dropout_layer_2): Dropout(p=0.1, inplace=False)\n",
       "          (add_and_norm_layer_2): AddAndNorm(\n",
       "            (layer_norm): LayerNorm((512,), eps=1e-05, elementwise_affine=True)\n",
       "          )\n",
       "        )\n",
       "      )\n",
       "    )\n",
       "    (trg_embedding): Embedding(64, 512)\n",
       "    (trg_pos_embedding): PositionalEncoding(\n",
       "      (dropout): Dropout(p=0.1, inplace=False)\n",
       "    )\n",
       "    (decoder): TransformerDecoder(\n",
       "      (decoder_blocks): ModuleList(\n",
       "        (0): TransformerDecoderBlock(\n",
       "          (W_q_1): Linear(in_features=512, out_features=512, bias=True)\n",
       "          (W_k_1): Linear(in_features=512, out_features=512, bias=True)\n",
       "          (W_v_1): Linear(in_features=512, out_features=512, bias=True)\n",
       "          (mha_layer_1): MultiHeadAttention(\n",
       "            (dot_product_attention_layer): ScaledDotProductAttention(\n",
       "              (attention_dropout): Dropout(p=0.1, inplace=False)\n",
       "            )\n",
       "            (W_0): Linear(in_features=512, out_features=512, bias=True)\n",
       "          )\n",
       "          (dropout_layer_1): Dropout(p=0.1, inplace=False)\n",
       "          (add_and_norm_1): AddAndNorm(\n",
       "            (layer_norm): LayerNorm((512,), eps=1e-05, elementwise_affine=True)\n",
       "          )\n",
       "          (W_q_2): Linear(in_features=512, out_features=512, bias=True)\n",
       "          (W_k_2): Linear(in_features=512, out_features=512, bias=True)\n",
       "          (W_v_2): Linear(in_features=512, out_features=512, bias=True)\n",
       "          (mha_layer_2): MultiHeadAttention(\n",
       "            (dot_product_attention_layer): ScaledDotProductAttention(\n",
       "              (attention_dropout): Dropout(p=0.1, inplace=False)\n",
       "            )\n",
       "            (W_0): Linear(in_features=512, out_features=512, bias=True)\n",
       "          )\n",
       "          (dropout_layer_2): Dropout(p=0.1, inplace=False)\n",
       "          (add_and_norm_2): AddAndNorm(\n",
       "            (layer_norm): LayerNorm((512,), eps=1e-05, elementwise_affine=True)\n",
       "          )\n",
       "          (ffn_layer): PositionWiseFeedForwardNet(\n",
       "            (w_1): Linear(in_features=512, out_features=2048, bias=True)\n",
       "            (w_2): Linear(in_features=2048, out_features=512, bias=True)\n",
       "            (dropout): Dropout(p=0.1, inplace=False)\n",
       "          )\n",
       "          (dropout_layer_3): Dropout(p=0.1, inplace=False)\n",
       "          (add_and_norm_3): AddAndNorm(\n",
       "            (layer_norm): LayerNorm((512,), eps=1e-05, elementwise_affine=True)\n",
       "          )\n",
       "        )\n",
       "        (1): TransformerDecoderBlock(\n",
       "          (W_q_1): Linear(in_features=512, out_features=512, bias=True)\n",
       "          (W_k_1): Linear(in_features=512, out_features=512, bias=True)\n",
       "          (W_v_1): Linear(in_features=512, out_features=512, bias=True)\n",
       "          (mha_layer_1): MultiHeadAttention(\n",
       "            (dot_product_attention_layer): ScaledDotProductAttention(\n",
       "              (attention_dropout): Dropout(p=0.1, inplace=False)\n",
       "            )\n",
       "            (W_0): Linear(in_features=512, out_features=512, bias=True)\n",
       "          )\n",
       "          (dropout_layer_1): Dropout(p=0.1, inplace=False)\n",
       "          (add_and_norm_1): AddAndNorm(\n",
       "            (layer_norm): LayerNorm((512,), eps=1e-05, elementwise_affine=True)\n",
       "          )\n",
       "          (W_q_2): Linear(in_features=512, out_features=512, bias=True)\n",
       "          (W_k_2): Linear(in_features=512, out_features=512, bias=True)\n",
       "          (W_v_2): Linear(in_features=512, out_features=512, bias=True)\n",
       "          (mha_layer_2): MultiHeadAttention(\n",
       "            (dot_product_attention_layer): ScaledDotProductAttention(\n",
       "              (attention_dropout): Dropout(p=0.1, inplace=False)\n",
       "            )\n",
       "            (W_0): Linear(in_features=512, out_features=512, bias=True)\n",
       "          )\n",
       "          (dropout_layer_2): Dropout(p=0.1, inplace=False)\n",
       "          (add_and_norm_2): AddAndNorm(\n",
       "            (layer_norm): LayerNorm((512,), eps=1e-05, elementwise_affine=True)\n",
       "          )\n",
       "          (ffn_layer): PositionWiseFeedForwardNet(\n",
       "            (w_1): Linear(in_features=512, out_features=2048, bias=True)\n",
       "            (w_2): Linear(in_features=2048, out_features=512, bias=True)\n",
       "            (dropout): Dropout(p=0.1, inplace=False)\n",
       "          )\n",
       "          (dropout_layer_3): Dropout(p=0.1, inplace=False)\n",
       "          (add_and_norm_3): AddAndNorm(\n",
       "            (layer_norm): LayerNorm((512,), eps=1e-05, elementwise_affine=True)\n",
       "          )\n",
       "        )\n",
       "        (2): TransformerDecoderBlock(\n",
       "          (W_q_1): Linear(in_features=512, out_features=512, bias=True)\n",
       "          (W_k_1): Linear(in_features=512, out_features=512, bias=True)\n",
       "          (W_v_1): Linear(in_features=512, out_features=512, bias=True)\n",
       "          (mha_layer_1): MultiHeadAttention(\n",
       "            (dot_product_attention_layer): ScaledDotProductAttention(\n",
       "              (attention_dropout): Dropout(p=0.1, inplace=False)\n",
       "            )\n",
       "            (W_0): Linear(in_features=512, out_features=512, bias=True)\n",
       "          )\n",
       "          (dropout_layer_1): Dropout(p=0.1, inplace=False)\n",
       "          (add_and_norm_1): AddAndNorm(\n",
       "            (layer_norm): LayerNorm((512,), eps=1e-05, elementwise_affine=True)\n",
       "          )\n",
       "          (W_q_2): Linear(in_features=512, out_features=512, bias=True)\n",
       "          (W_k_2): Linear(in_features=512, out_features=512, bias=True)\n",
       "          (W_v_2): Linear(in_features=512, out_features=512, bias=True)\n",
       "          (mha_layer_2): MultiHeadAttention(\n",
       "            (dot_product_attention_layer): ScaledDotProductAttention(\n",
       "              (attention_dropout): Dropout(p=0.1, inplace=False)\n",
       "            )\n",
       "            (W_0): Linear(in_features=512, out_features=512, bias=True)\n",
       "          )\n",
       "          (dropout_layer_2): Dropout(p=0.1, inplace=False)\n",
       "          (add_and_norm_2): AddAndNorm(\n",
       "            (layer_norm): LayerNorm((512,), eps=1e-05, elementwise_affine=True)\n",
       "          )\n",
       "          (ffn_layer): PositionWiseFeedForwardNet(\n",
       "            (w_1): Linear(in_features=512, out_features=2048, bias=True)\n",
       "            (w_2): Linear(in_features=2048, out_features=512, bias=True)\n",
       "            (dropout): Dropout(p=0.1, inplace=False)\n",
       "          )\n",
       "          (dropout_layer_3): Dropout(p=0.1, inplace=False)\n",
       "          (add_and_norm_3): AddAndNorm(\n",
       "            (layer_norm): LayerNorm((512,), eps=1e-05, elementwise_affine=True)\n",
       "          )\n",
       "        )\n",
       "      )\n",
       "    )\n",
       "    (linear): Linear(in_features=512, out_features=64, bias=True)\n",
       "  )\n",
       ")"
      ]
     },
     "execution_count": 17,
     "metadata": {},
     "output_type": "execute_result"
    }
   ],
   "source": [
    "model = SequencePredictionTransformer(\n",
    "    d_model=config['D_MODEL'],\n",
    "    n_blocks=config['N_BLOCKS'],\n",
    "    src_vocab_size=config['VOCAB_SIZE'],\n",
    "    trg_vocab_size=config['VOCAB_SIZE'],\n",
    "    n_heads=config['N_HEADS'],\n",
    "    d_ff=config['D_FF'],\n",
    "    dropout_proba=config['DROPOUT_PROBA']\n",
    ")\n",
    "model.to(device)"
   ]
  },
  {
   "cell_type": "code",
   "execution_count": 18,
   "metadata": {
    "collapsed": false,
    "jupyter": {
     "outputs_hidden": false
    }
   },
   "outputs": [],
   "source": [
    "loss_func = nn.CrossEntropyLoss(ignore_index=0, label_smoothing=config['LABEL_SMOOTHING'], reduction='mean')\n",
    "optimizer = optim.Adam(model.parameters(), betas=config['BETAS'], eps=config['EPS'])\n",
    "scheduler=CustomScheduler(optimizer, config['D_MODEL'], config['N_WARMUP_STEPS'])"
   ]
  },
  {
   "cell_type": "markdown",
   "metadata": {
    "tags": []
   },
   "source": [
    "## Dataset Loading"
   ]
  },
  {
   "cell_type": "code",
   "execution_count": 19,
   "metadata": {
    "collapsed": false,
    "jupyter": {
     "outputs_hidden": false
    }
   },
   "outputs": [],
   "source": [
    "memory_access = np.loadtxt(\"train_o/training_ds_milc_433.txt\", delimiter=\",\", dtype=str)"
   ]
  },
  {
   "cell_type": "code",
   "execution_count": 20,
   "metadata": {
    "collapsed": false,
    "jupyter": {
     "outputs_hidden": false
    }
   },
   "outputs": [],
   "source": [
    "data = {'addr':[], 'page_id':[], 'block_id':[], 'cache_hit':[]}\n",
    "for access in memory_access:\n",
    "    data['addr'].append(int(access[1]))\n",
    "    # data['page_id'].append(int(access[3]))\n",
    "    # data['block_id'].append(int(access[5]))\n",
    "    # data['cache_hit'].append(int(access[7]))"
   ]
  },
  {
   "cell_type": "code",
   "execution_count": 21,
   "metadata": {},
   "outputs": [
    {
     "name": "stdout",
     "output_type": "stream",
     "text": [
      "3368295\n"
     ]
    }
   ],
   "source": [
    "print(len(data['addr']))"
   ]
  },
  {
   "cell_type": "code",
   "execution_count": 69,
   "metadata": {
    "jupyter": {
     "source_hidden": true
    },
    "tags": []
   },
   "outputs": [],
   "source": [
    "# check deltas (can omit this)\n",
    "delta = []\n",
    "block_delta = []\n",
    "page_delta = []\n",
    "for i in range(len(data['addr']) - 1):\n",
    "    delta.append(data['addr'][i+1] - data['addr'][i])\n",
    "    block_delta.append(data['block_id'][i+1] - data['block_id'][i])\n",
    "    page_delta.append(data['page_id'][i+1] - data['page_id'][i])"
   ]
  },
  {
   "cell_type": "code",
   "execution_count": 22,
   "metadata": {
    "scrolled": true,
    "tags": []
   },
   "outputs": [],
   "source": [
    "class memoryAccessDataset(Dataset):\n",
    "    \n",
    "    def __init__(self, memory_access, input_addr_num=16, output_addr_num=4):\n",
    "        self.dataset_input = []\n",
    "        self.dataset_target = []\n",
    "        for i in range(len(memory_access) - (input_addr_num + output_addr_num)):\n",
    "            input_seq = []\n",
    "            target_seq = []\n",
    "            for j in range(input_addr_num):\n",
    "                input_seq.extend(self.split_address(memory_access[i+j]))\n",
    "            for j in range(output_addr_num):\n",
    "                target_seq.extend(self.split_address(memory_access[i+input_addr_num+j]))\n",
    "            self.dataset_input.append(input_seq)\n",
    "            self.dataset_target.append(target_seq)\n",
    "        \n",
    "    def split_address(self, addr): # split an address into 6-bit chunks\n",
    "\n",
    "        split_addr = []\n",
    "        addr = addr >> 6\n",
    "\n",
    "        for i in range(config['ADDR_CHUNKS']): # try ADDR_CHUNKS=5 to eliminate the zeros\n",
    "            split_addr.append(addr & 0x3F)\n",
    "            addr = addr >> 6\n",
    "\n",
    "        return split_addr\n",
    "    \n",
    "    def __len__(self):\n",
    "        return len(self.dataset_input)\n",
    "    \n",
    "    def __getitem__(self, idx):\n",
    "        src = self.dataset_input[idx]\n",
    "        trg = self.dataset_target[idx]\n",
    "        \n",
    "        return (torch.tensor(src), torch.tensor(trg))"
   ]
  },
  {
   "cell_type": "code",
   "execution_count": 23,
   "metadata": {},
   "outputs": [],
   "source": [
    "# create Datasets\n",
    "all_ds = memoryAccessDataset(data['addr'][:100000], config['INPUT_ADDR_NUM'], config['OUTPUT_ADDR_NUM'])\n",
    "train_size = int(0.7 * len(all_ds))\n",
    "val_size = int(0.2 * len(all_ds))\n",
    "test_size = len(all_ds) - train_size - val_size\n",
    "train_ds, val_ds, test_ds = torch.utils.data.random_split(all_ds, [train_size, val_size, test_size])"
   ]
  },
  {
   "cell_type": "code",
   "execution_count": 24,
   "metadata": {},
   "outputs": [
    {
     "data": {
      "text/plain": [
       "69986"
      ]
     },
     "execution_count": 24,
     "metadata": {},
     "output_type": "execute_result"
    }
   ],
   "source": [
    "train_size"
   ]
  },
  {
   "cell_type": "code",
   "execution_count": 25,
   "metadata": {},
   "outputs": [],
   "source": [
    "# create DataLoader\n",
    "train_dl = DataLoader(train_ds, batch_size=config['BATCH_SIZE'], pin_memory=True)\n",
    "val_dl = DataLoader(val_ds, batch_size=config['BATCH_SIZE'], pin_memory=True)\n",
    "test_dl = DataLoader(test_ds, batch_size=config['BATCH_SIZE'], pin_memory=True)"
   ]
  },
  {
   "cell_type": "markdown",
   "metadata": {
    "tags": []
   },
   "source": [
    "## Training"
   ]
  },
  {
   "cell_type": "code",
   "execution_count": 26,
   "metadata": {},
   "outputs": [
    {
     "name": "stdout",
     "output_type": "stream",
     "text": [
      "pred size:  torch.Size([48, 19, 64])\n",
      "yb size:  torch.Size([48, 20])\n"
     ]
    }
   ],
   "source": [
    "for batch in train_dl:\n",
    "    xb,yb=batch\n",
    "    xb,yb =xb.to(device),yb.to(device)\n",
    "    pred = model(xb, yb)\n",
    "    print('pred size: ', pred.size()) # (batch_size, trg_seq_len, trg_vocab_size)\n",
    "    print('yb size: ', yb.size())  # (batch_size, trg_seq_len)\n",
    "    break"
   ]
  },
  {
   "cell_type": "code",
   "execution_count": 27,
   "metadata": {},
   "outputs": [
    {
     "name": "stdout",
     "output_type": "stream",
     "text": [
      "torch.Size([912, 64])\n",
      "torch.Size([912])\n"
     ]
    }
   ],
   "source": [
    "pred_ = pred.reshape(-1, pred.size(-1))\n",
    "yb_ = yb[:, 1:].contiguous().view(-1)\n",
    "print(pred_.size())\n",
    "print(yb_.size())"
   ]
  },
  {
   "cell_type": "code",
   "execution_count": 28,
   "metadata": {},
   "outputs": [
    {
     "data": {
      "text/plain": [
       "tensor(5.2490, device='cuda:0', grad_fn=<AddBackward0>)"
      ]
     },
     "execution_count": 28,
     "metadata": {},
     "output_type": "execute_result"
    }
   ],
   "source": [
    "loss_func(pred_, yb_)"
   ]
  },
  {
   "cell_type": "code",
   "execution_count": 29,
   "metadata": {},
   "outputs": [],
   "source": [
    "torch.manual_seed(0)\n",
    "random.seed(0)\n",
    "np.random.seed(0)"
   ]
  },
  {
   "cell_type": "markdown",
   "metadata": {},
   "source": [
    "### Train from beginning"
   ]
  },
  {
   "cell_type": "code",
   "execution_count": 30,
   "metadata": {
    "tags": []
   },
   "outputs": [
    {
     "name": "stderr",
     "output_type": "stream",
     "text": [
      "[Epoch   1/100]: 100%|████████████████████████████████████████████████████████████████████████████████████████████████████████████████████████████████████| 69986/69986 [02:13<00:00, 522.55it/s, train loss=tensor(4.1878), validation loss=tensor(3.8093)]\n"
     ]
    },
    {
     "name": "stdout",
     "output_type": "stream",
     "text": [
      "Train Loss: 4.1878485679626465, Validation Loss: 3.8092620372772217\n"
     ]
    },
    {
     "name": "stderr",
     "output_type": "stream",
     "text": [
      "[Epoch   2/100]: 100%|████████████████████████████████████████████████████████████████████████████████████████████████████████████████████████████████████| 69986/69986 [02:15<00:00, 516.89it/s, train loss=tensor(3.4226), validation loss=tensor(2.9444)]\n"
     ]
    },
    {
     "name": "stdout",
     "output_type": "stream",
     "text": [
      "Train Loss: 3.4226319789886475, Validation Loss: 2.9443743228912354\n"
     ]
    },
    {
     "name": "stderr",
     "output_type": "stream",
     "text": [
      "[Epoch   3/100]: 100%|████████████████████████████████████████████████████████████████████████████████████████████████████████████████████████████████████| 69986/69986 [02:17<00:00, 509.88it/s, train loss=tensor(2.7507), validation loss=tensor(2.2486)]\n"
     ]
    },
    {
     "name": "stdout",
     "output_type": "stream",
     "text": [
      "Train Loss: 2.7506778240203857, Validation Loss: 2.2486093044281006\n"
     ]
    },
    {
     "name": "stderr",
     "output_type": "stream",
     "text": [
      "[Epoch   4/100]: 100%|████████████████████████████████████████████████████████████████████████████████████████████████████████████████████████████████████| 69986/69986 [02:18<00:00, 505.76it/s, train loss=tensor(2.1830), validation loss=tensor(1.7462)]\n"
     ]
    },
    {
     "name": "stdout",
     "output_type": "stream",
     "text": [
      "Train Loss: 2.1829609870910645, Validation Loss: 1.7461518049240112\n"
     ]
    },
    {
     "name": "stderr",
     "output_type": "stream",
     "text": [
      "[Epoch   5/100]: 100%|████████████████████████████████████████████████████████████████████████████████████████████████████████████████████████████████████| 69986/69986 [02:15<00:00, 515.80it/s, train loss=tensor(1.6921), validation loss=tensor(1.4283)]\n"
     ]
    },
    {
     "name": "stdout",
     "output_type": "stream",
     "text": [
      "Train Loss: 1.6921120882034302, Validation Loss: 1.4283421039581299\n"
     ]
    },
    {
     "name": "stderr",
     "output_type": "stream",
     "text": [
      "[Epoch   6/100]: 100%|████████████████████████████████████████████████████████████████████████████████████████████████████████████████████████████████████| 69986/69986 [02:18<00:00, 506.64it/s, train loss=tensor(1.3795), validation loss=tensor(1.2418)]\n"
     ]
    },
    {
     "name": "stdout",
     "output_type": "stream",
     "text": [
      "Train Loss: 1.3794887065887451, Validation Loss: 1.2417998313903809\n"
     ]
    },
    {
     "name": "stderr",
     "output_type": "stream",
     "text": [
      "[Epoch   7/100]: 100%|████████████████████████████████████████████████████████████████████████████████████████████████████████████████████████████████████| 69986/69986 [02:17<00:00, 509.08it/s, train loss=tensor(1.1952), validation loss=tensor(1.1573)]\n"
     ]
    },
    {
     "name": "stdout",
     "output_type": "stream",
     "text": [
      "Train Loss: 1.1952476501464844, Validation Loss: 1.157344937324524\n"
     ]
    },
    {
     "name": "stderr",
     "output_type": "stream",
     "text": [
      "[Epoch   8/100]: 100%|████████████████████████████████████████████████████████████████████████████████████████████████████████████████████████████████████| 69986/69986 [02:16<00:00, 513.23it/s, train loss=tensor(1.1331), validation loss=tensor(1.1259)]\n"
     ]
    },
    {
     "name": "stdout",
     "output_type": "stream",
     "text": [
      "Train Loss: 1.1330949068069458, Validation Loss: 1.1259002685546875\n"
     ]
    },
    {
     "name": "stderr",
     "output_type": "stream",
     "text": [
      "[Epoch   9/100]: 100%|████████████████████████████████████████████████████████████████████████████████████████████████████████████████████████████████████| 69986/69986 [02:16<00:00, 513.14it/s, train loss=tensor(1.1130), validation loss=tensor(1.1191)]\n"
     ]
    },
    {
     "name": "stdout",
     "output_type": "stream",
     "text": [
      "Train Loss: 1.112952470779419, Validation Loss: 1.1191439628601074\n"
     ]
    },
    {
     "name": "stderr",
     "output_type": "stream",
     "text": [
      "[Epoch  10/100]: 100%|████████████████████████████████████████████████████████████████████████████████████████████████████████████████████████████████████| 69986/69986 [02:17<00:00, 510.75it/s, train loss=tensor(1.1030), validation loss=tensor(1.1109)]\n"
     ]
    },
    {
     "name": "stdout",
     "output_type": "stream",
     "text": [
      "Train Loss: 1.103006362915039, Validation Loss: 1.1108863353729248\n"
     ]
    },
    {
     "name": "stderr",
     "output_type": "stream",
     "text": [
      "[Epoch  11/100]: 100%|████████████████████████████████████████████████████████████████████████████████████████████████████████████████████████████████████| 69986/69986 [02:15<00:00, 515.61it/s, train loss=tensor(1.0962), validation loss=tensor(1.1032)]\n"
     ]
    },
    {
     "name": "stdout",
     "output_type": "stream",
     "text": [
      "Train Loss: 1.0962392091751099, Validation Loss: 1.1031848192214966\n"
     ]
    },
    {
     "name": "stderr",
     "output_type": "stream",
     "text": [
      "[Epoch  12/100]: 100%|████████████████████████████████████████████████████████████████████████████████████████████████████████████████████████████████████| 69986/69986 [02:15<00:00, 516.40it/s, train loss=tensor(1.0928), validation loss=tensor(1.0995)]\n"
     ]
    },
    {
     "name": "stdout",
     "output_type": "stream",
     "text": [
      "Train Loss: 1.0928192138671875, Validation Loss: 1.099518895149231\n"
     ]
    },
    {
     "name": "stderr",
     "output_type": "stream",
     "text": [
      "[Epoch  13/100]: 100%|████████████████████████████████████████████████████████████████████████████████████████████████████████████████████████████████████| 69986/69986 [02:15<00:00, 517.12it/s, train loss=tensor(1.0902), validation loss=tensor(1.0951)]\n"
     ]
    },
    {
     "name": "stdout",
     "output_type": "stream",
     "text": [
      "Train Loss: 1.090213656425476, Validation Loss: 1.0951416492462158\n"
     ]
    },
    {
     "name": "stderr",
     "output_type": "stream",
     "text": [
      "[Epoch  14/100]: 100%|████████████████████████████████████████████████████████████████████████████████████████████████████████████████████████████████████| 69986/69986 [02:15<00:00, 517.45it/s, train loss=tensor(1.0875), validation loss=tensor(1.0919)]\n"
     ]
    },
    {
     "name": "stdout",
     "output_type": "stream",
     "text": [
      "Train Loss: 1.0875457525253296, Validation Loss: 1.0919464826583862\n"
     ]
    },
    {
     "name": "stderr",
     "output_type": "stream",
     "text": [
      "[Epoch  15/100]: 100%|████████████████████████████████████████████████████████████████████████████████████████████████████████████████████████████████████| 69986/69986 [02:15<00:00, 518.09it/s, train loss=tensor(1.0856), validation loss=tensor(1.0912)]\n"
     ]
    },
    {
     "name": "stdout",
     "output_type": "stream",
     "text": [
      "Train Loss: 1.0855787992477417, Validation Loss: 1.0912387371063232\n"
     ]
    },
    {
     "name": "stderr",
     "output_type": "stream",
     "text": [
      "[Epoch  16/100]: 100%|████████████████████████████████████████████████████████████████████████████████████████████████████████████████████████████████████| 69986/69986 [02:14<00:00, 520.87it/s, train loss=tensor(1.0850), validation loss=tensor(1.0902)]\n"
     ]
    },
    {
     "name": "stdout",
     "output_type": "stream",
     "text": [
      "Train Loss: 1.085016131401062, Validation Loss: 1.0902020931243896\n"
     ]
    },
    {
     "name": "stderr",
     "output_type": "stream",
     "text": [
      "[Epoch  17/100]: 100%|████████████████████████████████████████████████████████████████████████████████████████████████████████████████████████████████████| 69986/69986 [02:15<00:00, 516.45it/s, train loss=tensor(1.0810), validation loss=tensor(1.0888)]\n"
     ]
    },
    {
     "name": "stdout",
     "output_type": "stream",
     "text": [
      "Train Loss: 1.0809811353683472, Validation Loss: 1.0888296365737915\n"
     ]
    },
    {
     "name": "stderr",
     "output_type": "stream",
     "text": [
      "[Epoch  18/100]: 100%|████████████████████████████████████████████████████████████████████████████████████████████████████████████████████████████████████| 69986/69986 [02:15<00:00, 518.17it/s, train loss=tensor(1.0801), validation loss=tensor(1.0873)]\n"
     ]
    },
    {
     "name": "stdout",
     "output_type": "stream",
     "text": [
      "Train Loss: 1.0800992250442505, Validation Loss: 1.0873218774795532\n"
     ]
    },
    {
     "name": "stderr",
     "output_type": "stream",
     "text": [
      "[Epoch  19/100]: 100%|████████████████████████████████████████████████████████████████████████████████████████████████████████████████████████████████████| 69986/69986 [02:15<00:00, 516.31it/s, train loss=tensor(1.0792), validation loss=tensor(1.0857)]\n"
     ]
    },
    {
     "name": "stdout",
     "output_type": "stream",
     "text": [
      "Train Loss: 1.079229712486267, Validation Loss: 1.085658073425293\n"
     ]
    },
    {
     "name": "stderr",
     "output_type": "stream",
     "text": [
      "[Epoch  20/100]: 100%|████████████████████████████████████████████████████████████████████████████████████████████████████████████████████████████████████| 69986/69986 [02:16<00:00, 563.48it/s, train loss=tensor(1.0781), validation loss=tensor(1.0839)]"
     ]
    },
    {
     "data": {
      "image/png": "[encoded data removed]",
      "text/plain": [
       "<Figure size 640x480 with 1 Axes>"
      ]
     },
     "metadata": {},
     "output_type": "display_data"
    },
    {
     "name": "stderr",
     "output_type": "stream",
     "text": [
      "[Epoch  20/100]: 100%|████████████████████████████████████████████████████████████████████████████████████████████████████████████████████████████████████| 69986/69986 [02:17<00:00, 509.15it/s, train loss=tensor(1.0781), validation loss=tensor(1.0839)]\n"
     ]
    },
    {
     "name": "stdout",
     "output_type": "stream",
     "text": [
      "Train Loss: 1.0780869722366333, Validation Loss: 1.083855152130127\n"
     ]
    },
    {
     "name": "stderr",
     "output_type": "stream",
     "text": [
      "[Epoch  21/100]: 100%|████████████████████████████████████████████████████████████████████████████████████████████████████████████████████████████████████| 69986/69986 [02:16<00:00, 511.25it/s, train loss=tensor(1.0782), validation loss=tensor(1.0830)]\n"
     ]
    },
    {
     "name": "stdout",
     "output_type": "stream",
     "text": [
      "Train Loss: 1.0781762599945068, Validation Loss: 1.082993745803833\n"
     ]
    },
    {
     "name": "stderr",
     "output_type": "stream",
     "text": [
      "[Epoch  22/100]: 100%|████████████████████████████████████████████████████████████████████████████████████████████████████████████████████████████████████| 69986/69986 [02:15<00:00, 518.05it/s, train loss=tensor(1.0740), validation loss=tensor(1.0855)]\n"
     ]
    },
    {
     "name": "stdout",
     "output_type": "stream",
     "text": [
      "Train Loss: 1.0740221738815308, Validation Loss: 1.0854907035827637\n"
     ]
    },
    {
     "name": "stderr",
     "output_type": "stream",
     "text": [
      "[Epoch  23/100]: 100%|████████████████████████████████████████████████████████████████████████████████████████████████████████████████████████████████████| 69986/69986 [02:15<00:00, 518.06it/s, train loss=tensor(1.0722), validation loss=tensor(1.0786)]\n"
     ]
    },
    {
     "name": "stdout",
     "output_type": "stream",
     "text": [
      "Train Loss: 1.0721583366394043, Validation Loss: 1.078647255897522\n"
     ]
    },
    {
     "name": "stderr",
     "output_type": "stream",
     "text": [
      "[Epoch  24/100]: 100%|████████████████████████████████████████████████████████████████████████████████████████████████████████████████████████████████████| 69986/69986 [02:16<00:00, 514.52it/s, train loss=tensor(1.0688), validation loss=tensor(1.0775)]\n"
     ]
    },
    {
     "name": "stdout",
     "output_type": "stream",
     "text": [
      "Train Loss: 1.0688289403915405, Validation Loss: 1.0775102376937866\n"
     ]
    },
    {
     "name": "stderr",
     "output_type": "stream",
     "text": [
      "[Epoch  25/100]: 100%|████████████████████████████████████████████████████████████████████████████████████████████████████████████████████████████████████| 69986/69986 [02:22<00:00, 492.23it/s, train loss=tensor(1.0606), validation loss=tensor(1.0718)]\n"
     ]
    },
    {
     "name": "stdout",
     "output_type": "stream",
     "text": [
      "Train Loss: 1.060571312904358, Validation Loss: 1.0717886686325073\n"
     ]
    },
    {
     "name": "stderr",
     "output_type": "stream",
     "text": [
      "[Epoch  26/100]: 100%|████████████████████████████████████████████████████████████████████████████████████████████████████████████████████████████████████| 69986/69986 [02:17<00:00, 508.64it/s, train loss=tensor(1.0562), validation loss=tensor(1.0668)]\n"
     ]
    },
    {
     "name": "stdout",
     "output_type": "stream",
     "text": [
      "Train Loss: 1.0562019348144531, Validation Loss: 1.0668232440948486\n"
     ]
    },
    {
     "name": "stderr",
     "output_type": "stream",
     "text": [
      "[Epoch  27/100]: 100%|████████████████████████████████████████████████████████████████████████████████████████████████████████████████████████████████████| 69986/69986 [02:15<00:00, 515.38it/s, train loss=tensor(1.0468), validation loss=tensor(1.0599)]\n"
     ]
    },
    {
     "name": "stdout",
     "output_type": "stream",
     "text": [
      "Train Loss: 1.046814203262329, Validation Loss: 1.059909701347351\n"
     ]
    },
    {
     "name": "stderr",
     "output_type": "stream",
     "text": [
      "[Epoch  28/100]: 100%|████████████████████████████████████████████████████████████████████████████████████████████████████████████████████████████████████| 69986/69986 [02:16<00:00, 513.31it/s, train loss=tensor(1.0355), validation loss=tensor(1.0514)]\n"
     ]
    },
    {
     "name": "stdout",
     "output_type": "stream",
     "text": [
      "Train Loss: 1.0355348587036133, Validation Loss: 1.051398754119873\n"
     ]
    },
    {
     "name": "stderr",
     "output_type": "stream",
     "text": [
      "[Epoch  29/100]: 100%|████████████████████████████████████████████████████████████████████████████████████████████████████████████████████████████████████| 69986/69986 [02:17<00:00, 509.10it/s, train loss=tensor(1.0229), validation loss=tensor(1.0401)]\n"
     ]
    },
    {
     "name": "stdout",
     "output_type": "stream",
     "text": [
      "Train Loss: 1.0228806734085083, Validation Loss: 1.0401314496994019\n"
     ]
    },
    {
     "name": "stderr",
     "output_type": "stream",
     "text": [
      "[Epoch  30/100]: 100%|████████████████████████████████████████████████████████████████████████████████████████████████████████████████████████████████████| 69986/69986 [02:16<00:00, 512.18it/s, train loss=tensor(1.0116), validation loss=tensor(1.0283)]\n"
     ]
    },
    {
     "name": "stdout",
     "output_type": "stream",
     "text": [
      "Train Loss: 1.0115970373153687, Validation Loss: 1.028270959854126\n"
     ]
    },
    {
     "name": "stderr",
     "output_type": "stream",
     "text": [
      "[Epoch  31/100]: 100%|████████████████████████████████████████████████████████████████████████████████████████████████████████████████████████████████████| 69986/69986 [02:17<00:00, 509.93it/s, train loss=tensor(0.9934), validation loss=tensor(1.0148)]\n"
     ]
    },
    {
     "name": "stdout",
     "output_type": "stream",
     "text": [
      "Train Loss: 0.9933744668960571, Validation Loss: 1.0147724151611328\n"
     ]
    },
    {
     "name": "stderr",
     "output_type": "stream",
     "text": [
      "[Epoch  32/100]: 100%|████████████████████████████████████████████████████████████████████████████████████████████████████████████████████████████████████| 69986/69986 [02:20<00:00, 499.51it/s, train loss=tensor(0.9776), validation loss=tensor(0.9981)]\n"
     ]
    },
    {
     "name": "stdout",
     "output_type": "stream",
     "text": [
      "Train Loss: 0.9776259064674377, Validation Loss: 0.9981023669242859\n"
     ]
    },
    {
     "name": "stderr",
     "output_type": "stream",
     "text": [
      "[Epoch  33/100]: 100%|████████████████████████████████████████████████████████████████████████████████████████████████████████████████████████████████████| 69986/69986 [02:18<00:00, 505.13it/s, train loss=tensor(0.9610), validation loss=tensor(0.9818)]\n"
     ]
    },
    {
     "name": "stdout",
     "output_type": "stream",
     "text": [
      "Train Loss: 0.9609805345535278, Validation Loss: 0.9817813038825989\n"
     ]
    },
    {
     "name": "stderr",
     "output_type": "stream",
     "text": [
      "[Epoch  34/100]: 100%|████████████████████████████████████████████████████████████████████████████████████████████████████████████████████████████████████| 69986/69986 [02:15<00:00, 517.73it/s, train loss=tensor(0.9431), validation loss=tensor(0.9641)]\n"
     ]
    },
    {
     "name": "stdout",
     "output_type": "stream",
     "text": [
      "Train Loss: 0.9431328177452087, Validation Loss: 0.9641356468200684\n"
     ]
    },
    {
     "name": "stderr",
     "output_type": "stream",
     "text": [
      "[Epoch  35/100]: 100%|████████████████████████████████████████████████████████████████████████████████████████████████████████████████████████████████████| 69986/69986 [02:15<00:00, 516.96it/s, train loss=tensor(0.9282), validation loss=tensor(0.9469)]\n"
     ]
    },
    {
     "name": "stdout",
     "output_type": "stream",
     "text": [
      "Train Loss: 0.928236186504364, Validation Loss: 0.9468651413917542\n"
     ]
    },
    {
     "name": "stderr",
     "output_type": "stream",
     "text": [
      "[Epoch  36/100]: 100%|████████████████████████████████████████████████████████████████████████████████████████████████████████████████████████████████████| 69986/69986 [02:15<00:00, 517.67it/s, train loss=tensor(0.9114), validation loss=tensor(0.9316)]\n"
     ]
    },
    {
     "name": "stdout",
     "output_type": "stream",
     "text": [
      "Train Loss: 0.9114036560058594, Validation Loss: 0.9315926432609558\n"
     ]
    },
    {
     "name": "stderr",
     "output_type": "stream",
     "text": [
      "[Epoch  37/100]: 100%|████████████████████████████████████████████████████████████████████████████████████████████████████████████████████████████████████| 69986/69986 [02:15<00:00, 517.73it/s, train loss=tensor(0.8970), validation loss=tensor(0.9126)]\n"
     ]
    },
    {
     "name": "stdout",
     "output_type": "stream",
     "text": [
      "Train Loss: 0.8969798684120178, Validation Loss: 0.9125580787658691\n"
     ]
    },
    {
     "name": "stderr",
     "output_type": "stream",
     "text": [
      "[Epoch  38/100]: 100%|████████████████████████████████████████████████████████████████████████████████████████████████████████████████████████████████████| 69986/69986 [02:15<00:00, 517.48it/s, train loss=tensor(0.8833), validation loss=tensor(0.8998)]\n"
     ]
    },
    {
     "name": "stdout",
     "output_type": "stream",
     "text": [
      "Train Loss: 0.8833320140838623, Validation Loss: 0.8998460173606873\n"
     ]
    },
    {
     "name": "stderr",
     "output_type": "stream",
     "text": [
      "[Epoch  39/100]: 100%|████████████████████████████████████████████████████████████████████████████████████████████████████████████████████████████████████| 69986/69986 [02:15<00:00, 517.35it/s, train loss=tensor(0.8702), validation loss=tensor(0.8850)]\n"
     ]
    },
    {
     "name": "stdout",
     "output_type": "stream",
     "text": [
      "Train Loss: 0.8702483177185059, Validation Loss: 0.8849542140960693\n"
     ]
    },
    {
     "name": "stderr",
     "output_type": "stream",
     "text": [
      "[Epoch  40/100]: 100%|████████████████████████████████████████████████████████████████████████████████████████████████████████████████████████████████████| 69986/69986 [02:14<00:00, 567.26it/s, train loss=tensor(0.8570), validation loss=tensor(0.8723)]"
     ]
    },
    {
     "data": {
      "image/png": "[encoded data removed]",
      "text/plain": [
       "<Figure size 640x480 with 1 Axes>"
      ]
     },
     "metadata": {},
     "output_type": "display_data"
    },
    {
     "name": "stderr",
     "output_type": "stream",
     "text": [
      "[Epoch  40/100]: 100%|████████████████████████████████████████████████████████████████████████████████████████████████████████████████████████████████████| 69986/69986 [02:16<00:00, 513.50it/s, train loss=tensor(0.8570), validation loss=tensor(0.8723)]\n"
     ]
    },
    {
     "name": "stdout",
     "output_type": "stream",
     "text": [
      "Train Loss: 0.8569628596305847, Validation Loss: 0.872299075126648\n"
     ]
    },
    {
     "name": "stderr",
     "output_type": "stream",
     "text": [
      "[Epoch  41/100]: 100%|████████████████████████████████████████████████████████████████████████████████████████████████████████████████████████████████████| 69986/69986 [02:13<00:00, 522.46it/s, train loss=tensor(0.8468), validation loss=tensor(0.8595)]\n"
     ]
    },
    {
     "name": "stdout",
     "output_type": "stream",
     "text": [
      "Train Loss: 0.8467708826065063, Validation Loss: 0.8594854474067688\n"
     ]
    },
    {
     "name": "stderr",
     "output_type": "stream",
     "text": [
      "[Epoch  42/100]: 100%|████████████████████████████████████████████████████████████████████████████████████████████████████████████████████████████████████| 69986/69986 [02:13<00:00, 522.51it/s, train loss=tensor(0.8369), validation loss=tensor(0.8469)]\n"
     ]
    },
    {
     "name": "stdout",
     "output_type": "stream",
     "text": [
      "Train Loss: 0.8368785977363586, Validation Loss: 0.8469149470329285\n"
     ]
    },
    {
     "name": "stderr",
     "output_type": "stream",
     "text": [
      "[Epoch  43/100]: 100%|████████████████████████████████████████████████████████████████████████████████████████████████████████████████████████████████████| 69986/69986 [02:13<00:00, 522.38it/s, train loss=tensor(0.8271), validation loss=tensor(0.8386)]\n"
     ]
    },
    {
     "name": "stdout",
     "output_type": "stream",
     "text": [
      "Train Loss: 0.827052116394043, Validation Loss: 0.8386016488075256\n"
     ]
    },
    {
     "name": "stderr",
     "output_type": "stream",
     "text": [
      "[Epoch  44/100]: 100%|████████████████████████████████████████████████████████████████████████████████████████████████████████████████████████████████████| 69986/69986 [02:14<00:00, 520.36it/s, train loss=tensor(0.8187), validation loss=tensor(0.8289)]\n"
     ]
    },
    {
     "name": "stdout",
     "output_type": "stream",
     "text": [
      "Train Loss: 0.8187283277511597, Validation Loss: 0.8288558721542358\n"
     ]
    },
    {
     "name": "stderr",
     "output_type": "stream",
     "text": [
      "[Epoch  45/100]: 100%|████████████████████████████████████████████████████████████████████████████████████████████████████████████████████████████████████| 69986/69986 [02:14<00:00, 520.06it/s, train loss=tensor(0.8123), validation loss=tensor(0.8203)]\n"
     ]
    },
    {
     "name": "stdout",
     "output_type": "stream",
     "text": [
      "Train Loss: 0.812271237373352, Validation Loss: 0.8202658891677856\n"
     ]
    },
    {
     "name": "stderr",
     "output_type": "stream",
     "text": [
      "[Epoch  46/100]: 100%|████████████████████████████████████████████████████████████████████████████████████████████████████████████████████████████████████| 69986/69986 [02:15<00:00, 518.38it/s, train loss=tensor(0.8056), validation loss=tensor(0.8127)]\n"
     ]
    },
    {
     "name": "stdout",
     "output_type": "stream",
     "text": [
      "Train Loss: 0.8055548667907715, Validation Loss: 0.812719464302063\n"
     ]
    },
    {
     "name": "stderr",
     "output_type": "stream",
     "text": [
      "[Epoch  47/100]: 100%|████████████████████████████████████████████████████████████████████████████████████████████████████████████████████████████████████| 69986/69986 [02:14<00:00, 520.02it/s, train loss=tensor(0.7996), validation loss=tensor(0.8080)]\n"
     ]
    },
    {
     "name": "stdout",
     "output_type": "stream",
     "text": [
      "Train Loss: 0.7995721101760864, Validation Loss: 0.8079530000686646\n"
     ]
    },
    {
     "name": "stderr",
     "output_type": "stream",
     "text": [
      "[Epoch  48/100]: 100%|████████████████████████████████████████████████████████████████████████████████████████████████████████████████████████████████████| 69986/69986 [02:14<00:00, 519.38it/s, train loss=tensor(0.7950), validation loss=tensor(0.8040)]\n"
     ]
    },
    {
     "name": "stdout",
     "output_type": "stream",
     "text": [
      "Train Loss: 0.795035719871521, Validation Loss: 0.8040227293968201\n"
     ]
    },
    {
     "name": "stderr",
     "output_type": "stream",
     "text": [
      "[Epoch  49/100]: 100%|████████████████████████████████████████████████████████████████████████████████████████████████████████████████████████████████████| 69986/69986 [02:14<00:00, 518.91it/s, train loss=tensor(0.7910), validation loss=tensor(0.7980)]\n"
     ]
    },
    {
     "name": "stdout",
     "output_type": "stream",
     "text": [
      "Train Loss: 0.7909944653511047, Validation Loss: 0.7980045080184937\n"
     ]
    },
    {
     "name": "stderr",
     "output_type": "stream",
     "text": [
      "[Epoch  50/100]: 100%|████████████████████████████████████████████████████████████████████████████████████████████████████████████████████████████████████| 69986/69986 [02:14<00:00, 518.81it/s, train loss=tensor(0.7876), validation loss=tensor(0.7942)]\n"
     ]
    },
    {
     "name": "stdout",
     "output_type": "stream",
     "text": [
      "Train Loss: 0.787626326084137, Validation Loss: 0.7942430973052979\n"
     ]
    },
    {
     "name": "stderr",
     "output_type": "stream",
     "text": [
      "[Epoch  51/100]: 100%|████████████████████████████████████████████████████████████████████████████████████████████████████████████████████████████████████| 69986/69986 [02:14<00:00, 520.22it/s, train loss=tensor(0.7837), validation loss=tensor(0.7906)]\n"
     ]
    },
    {
     "name": "stdout",
     "output_type": "stream",
     "text": [
      "Train Loss: 0.7837386727333069, Validation Loss: 0.790632963180542\n"
     ]
    },
    {
     "name": "stderr",
     "output_type": "stream",
     "text": [
      "[Epoch  52/100]: 100%|████████████████████████████████████████████████████████████████████████████████████████████████████████████████████████████████████| 69986/69986 [02:15<00:00, 515.23it/s, train loss=tensor(0.7800), validation loss=tensor(0.7881)]\n"
     ]
    },
    {
     "name": "stdout",
     "output_type": "stream",
     "text": [
      "Train Loss: 0.7799532413482666, Validation Loss: 0.7880879044532776\n"
     ]
    },
    {
     "name": "stderr",
     "output_type": "stream",
     "text": [
      "[Epoch  53/100]: 100%|████████████████████████████████████████████████████████████████████████████████████████████████████████████████████████████████████| 69986/69986 [02:20<00:00, 498.76it/s, train loss=tensor(0.7773), validation loss=tensor(0.7855)]\n"
     ]
    },
    {
     "name": "stdout",
     "output_type": "stream",
     "text": [
      "Train Loss: 0.7772815823554993, Validation Loss: 0.7855138182640076\n"
     ]
    },
    {
     "name": "stderr",
     "output_type": "stream",
     "text": [
      "[Epoch  54/100]: 100%|████████████████████████████████████████████████████████████████████████████████████████████████████████████████████████████████████| 69986/69986 [02:20<00:00, 499.78it/s, train loss=tensor(0.7760), validation loss=tensor(0.7836)]\n"
     ]
    },
    {
     "name": "stdout",
     "output_type": "stream",
     "text": [
      "Train Loss: 0.7759621739387512, Validation Loss: 0.7836223244667053\n"
     ]
    },
    {
     "name": "stderr",
     "output_type": "stream",
     "text": [
      "[Epoch  55/100]: 100%|████████████████████████████████████████████████████████████████████████████████████████████████████████████████████████████████████| 69986/69986 [02:22<00:00, 489.99it/s, train loss=tensor(0.7726), validation loss=tensor(0.7814)]\n"
     ]
    },
    {
     "name": "stdout",
     "output_type": "stream",
     "text": [
      "Train Loss: 0.7725620269775391, Validation Loss: 0.7813590168952942\n"
     ]
    },
    {
     "name": "stderr",
     "output_type": "stream",
     "text": [
      "[Epoch  56/100]: 100%|████████████████████████████████████████████████████████████████████████████████████████████████████████████████████████████████████| 69986/69986 [02:26<00:00, 478.27it/s, train loss=tensor(0.7716), validation loss=tensor(0.7794)]\n"
     ]
    },
    {
     "name": "stdout",
     "output_type": "stream",
     "text": [
      "Train Loss: 0.771577775478363, Validation Loss: 0.7793724536895752\n"
     ]
    },
    {
     "name": "stderr",
     "output_type": "stream",
     "text": [
      "[Epoch  57/100]: 100%|████████████████████████████████████████████████████████████████████████████████████████████████████████████████████████████████████| 69986/69986 [02:26<00:00, 478.63it/s, train loss=tensor(0.7704), validation loss=tensor(0.7784)]\n"
     ]
    },
    {
     "name": "stdout",
     "output_type": "stream",
     "text": [
      "Train Loss: 0.7703852653503418, Validation Loss: 0.7783799767494202\n"
     ]
    },
    {
     "name": "stderr",
     "output_type": "stream",
     "text": [
      "[Epoch  58/100]: 100%|████████████████████████████████████████████████████████████████████████████████████████████████████████████████████████████████████| 69986/69986 [02:17<00:00, 510.01it/s, train loss=tensor(0.7679), validation loss=tensor(0.7767)]\n"
     ]
    },
    {
     "name": "stdout",
     "output_type": "stream",
     "text": [
      "Train Loss: 0.7678636908531189, Validation Loss: 0.7767356634140015\n"
     ]
    },
    {
     "name": "stderr",
     "output_type": "stream",
     "text": [
      "[Epoch  59/100]: 100%|████████████████████████████████████████████████████████████████████████████████████████████████████████████████████████████████████| 69986/69986 [02:18<00:00, 506.00it/s, train loss=tensor(0.7659), validation loss=tensor(0.7754)]\n"
     ]
    },
    {
     "name": "stdout",
     "output_type": "stream",
     "text": [
      "Train Loss: 0.7659240365028381, Validation Loss: 0.7753763794898987\n"
     ]
    },
    {
     "name": "stderr",
     "output_type": "stream",
     "text": [
      "[Epoch  60/100]: 100%|████████████████████████████████████████████████████████████████████████████████████████████████████████████████████████████████████| 69986/69986 [02:29<00:00, 508.34it/s, train loss=tensor(0.7651), validation loss=tensor(0.7745)]"
     ]
    },
    {
     "data": {
      "image/png": "[encoded data removed]",
      "text/plain": [
       "<Figure size 640x480 with 1 Axes>"
      ]
     },
     "metadata": {},
     "output_type": "display_data"
    },
    {
     "name": "stderr",
     "output_type": "stream",
     "text": [
      "[Epoch  60/100]: 100%|████████████████████████████████████████████████████████████████████████████████████████████████████████████████████████████████████| 69986/69986 [02:31<00:00, 462.59it/s, train loss=tensor(0.7651), validation loss=tensor(0.7745)]\n"
     ]
    },
    {
     "name": "stdout",
     "output_type": "stream",
     "text": [
      "Train Loss: 0.7650727033615112, Validation Loss: 0.7744835615158081\n"
     ]
    },
    {
     "name": "stderr",
     "output_type": "stream",
     "text": [
      "[Epoch  61/100]: 100%|████████████████████████████████████████████████████████████████████████████████████████████████████████████████████████████████████| 69986/69986 [02:30<00:00, 465.51it/s, train loss=tensor(0.7628), validation loss=tensor(0.7735)]\n"
     ]
    },
    {
     "name": "stdout",
     "output_type": "stream",
     "text": [
      "Train Loss: 0.7628134489059448, Validation Loss: 0.7735476493835449\n"
     ]
    },
    {
     "name": "stderr",
     "output_type": "stream",
     "text": [
      "[Epoch  62/100]: 100%|████████████████████████████████████████████████████████████████████████████████████████████████████████████████████████████████████| 69986/69986 [02:29<00:00, 468.80it/s, train loss=tensor(0.7622), validation loss=tensor(0.7722)]\n"
     ]
    },
    {
     "name": "stdout",
     "output_type": "stream",
     "text": [
      "Train Loss: 0.7621951699256897, Validation Loss: 0.7722273468971252\n"
     ]
    },
    {
     "name": "stderr",
     "output_type": "stream",
     "text": [
      "[Epoch  63/100]: 100%|████████████████████████████████████████████████████████████████████████████████████████████████████████████████████████████████████| 69986/69986 [02:29<00:00, 466.95it/s, train loss=tensor(0.7608), validation loss=tensor(0.7713)]\n"
     ]
    },
    {
     "name": "stdout",
     "output_type": "stream",
     "text": [
      "Train Loss: 0.760822594165802, Validation Loss: 0.7713444232940674\n"
     ]
    },
    {
     "name": "stderr",
     "output_type": "stream",
     "text": [
      "[Epoch  64/100]: 100%|████████████████████████████████████████████████████████████████████████████████████████████████████████████████████████████████████| 69986/69986 [02:29<00:00, 468.15it/s, train loss=tensor(0.7601), validation loss=tensor(0.7705)]\n"
     ]
    },
    {
     "name": "stdout",
     "output_type": "stream",
     "text": [
      "Train Loss: 0.7601115703582764, Validation Loss: 0.770501971244812\n"
     ]
    },
    {
     "name": "stderr",
     "output_type": "stream",
     "text": [
      "[Epoch  65/100]: 100%|████████████████████████████████████████████████████████████████████████████████████████████████████████████████████████████████████| 69986/69986 [02:29<00:00, 468.28it/s, train loss=tensor(0.7585), validation loss=tensor(0.7702)]\n"
     ]
    },
    {
     "name": "stdout",
     "output_type": "stream",
     "text": [
      "Train Loss: 0.7584838271141052, Validation Loss: 0.7702310085296631\n"
     ]
    },
    {
     "name": "stderr",
     "output_type": "stream",
     "text": [
      "[Epoch  66/100]: 100%|████████████████████████████████████████████████████████████████████████████████████████████████████████████████████████████████████| 69986/69986 [02:29<00:00, 467.66it/s, train loss=tensor(0.7589), validation loss=tensor(0.7693)]\n"
     ]
    },
    {
     "name": "stdout",
     "output_type": "stream",
     "text": [
      "Train Loss: 0.7589293122291565, Validation Loss: 0.769301176071167\n"
     ]
    },
    {
     "name": "stderr",
     "output_type": "stream",
     "text": [
      "[Epoch  67/100]: 100%|████████████████████████████████████████████████████████████████████████████████████████████████████████████████████████████████████| 69986/69986 [02:30<00:00, 463.86it/s, train loss=tensor(0.7575), validation loss=tensor(0.7688)]\n"
     ]
    },
    {
     "name": "stdout",
     "output_type": "stream",
     "text": [
      "Train Loss: 0.7575483918190002, Validation Loss: 0.7687596082687378\n"
     ]
    },
    {
     "name": "stderr",
     "output_type": "stream",
     "text": [
      "[Epoch  68/100]: 100%|████████████████████████████████████████████████████████████████████████████████████████████████████████████████████████████████████| 69986/69986 [02:29<00:00, 467.83it/s, train loss=tensor(0.7562), validation loss=tensor(0.7684)]\n"
     ]
    },
    {
     "name": "stdout",
     "output_type": "stream",
     "text": [
      "Train Loss: 0.7561787962913513, Validation Loss: 0.7683538794517517\n"
     ]
    },
    {
     "name": "stderr",
     "output_type": "stream",
     "text": [
      "[Epoch  69/100]: 100%|████████████████████████████████████████████████████████████████████████████████████████████████████████████████████████████████████| 69986/69986 [02:24<00:00, 484.66it/s, train loss=tensor(0.7563), validation loss=tensor(0.7676)]\n"
     ]
    },
    {
     "name": "stdout",
     "output_type": "stream",
     "text": [
      "Train Loss: 0.7563315629959106, Validation Loss: 0.7675938606262207\n"
     ]
    },
    {
     "name": "stderr",
     "output_type": "stream",
     "text": [
      "[Epoch  70/100]: 100%|████████████████████████████████████████████████████████████████████████████████████████████████████████████████████████████████████| 69986/69986 [02:17<00:00, 509.25it/s, train loss=tensor(0.7549), validation loss=tensor(0.7668)]\n"
     ]
    },
    {
     "name": "stdout",
     "output_type": "stream",
     "text": [
      "Train Loss: 0.7549207806587219, Validation Loss: 0.7668497562408447\n"
     ]
    },
    {
     "name": "stderr",
     "output_type": "stream",
     "text": [
      "[Epoch  71/100]: 100%|████████████████████████████████████████████████████████████████████████████████████████████████████████████████████████████████████| 69986/69986 [02:18<00:00, 506.13it/s, train loss=tensor(0.7543), validation loss=tensor(0.7666)]\n"
     ]
    },
    {
     "name": "stdout",
     "output_type": "stream",
     "text": [
      "Train Loss: 0.7542728781700134, Validation Loss: 0.766579806804657\n"
     ]
    },
    {
     "name": "stderr",
     "output_type": "stream",
     "text": [
      "[Epoch  72/100]: 100%|████████████████████████████████████████████████████████████████████████████████████████████████████████████████████████████████████| 69986/69986 [02:19<00:00, 503.29it/s, train loss=tensor(0.7539), validation loss=tensor(0.7662)]\n"
     ]
    },
    {
     "name": "stdout",
     "output_type": "stream",
     "text": [
      "Train Loss: 0.75387042760849, Validation Loss: 0.766187846660614\n"
     ]
    },
    {
     "name": "stderr",
     "output_type": "stream",
     "text": [
      "[Epoch  73/100]: 100%|████████████████████████████████████████████████████████████████████████████████████████████████████████████████████████████████████| 69986/69986 [02:15<00:00, 518.07it/s, train loss=tensor(0.7527), validation loss=tensor(0.7657)]\n"
     ]
    },
    {
     "name": "stdout",
     "output_type": "stream",
     "text": [
      "Train Loss: 0.752730667591095, Validation Loss: 0.7656754851341248\n"
     ]
    },
    {
     "name": "stderr",
     "output_type": "stream",
     "text": [
      "[Epoch  74/100]: 100%|████████████████████████████████████████████████████████████████████████████████████████████████████████████████████████████████████| 69986/69986 [02:14<00:00, 519.52it/s, train loss=tensor(0.7522), validation loss=tensor(0.7652)]\n"
     ]
    },
    {
     "name": "stdout",
     "output_type": "stream",
     "text": [
      "Train Loss: 0.7521701455116272, Validation Loss: 0.7651768922805786\n"
     ]
    },
    {
     "name": "stderr",
     "output_type": "stream",
     "text": [
      "[Epoch  75/100]: 100%|████████████████████████████████████████████████████████████████████████████████████████████████████████████████████████████████████| 69986/69986 [02:14<00:00, 520.28it/s, train loss=tensor(0.7524), validation loss=tensor(0.7649)]\n"
     ]
    },
    {
     "name": "stdout",
     "output_type": "stream",
     "text": [
      "Train Loss: 0.7523813247680664, Validation Loss: 0.7648899555206299\n"
     ]
    },
    {
     "name": "stderr",
     "output_type": "stream",
     "text": [
      "[Epoch  76/100]: 100%|████████████████████████████████████████████████████████████████████████████████████████████████████████████████████████████████████| 69986/69986 [02:15<00:00, 517.21it/s, train loss=tensor(0.7511), validation loss=tensor(0.7640)]\n"
     ]
    },
    {
     "name": "stdout",
     "output_type": "stream",
     "text": [
      "Train Loss: 0.7511179447174072, Validation Loss: 0.763991117477417\n"
     ]
    },
    {
     "name": "stderr",
     "output_type": "stream",
     "text": [
      "[Epoch  77/100]: 100%|████████████████████████████████████████████████████████████████████████████████████████████████████████████████████████████████████| 69986/69986 [02:16<00:00, 512.83it/s, train loss=tensor(0.7511), validation loss=tensor(0.7638)]\n"
     ]
    },
    {
     "name": "stdout",
     "output_type": "stream",
     "text": [
      "Train Loss: 0.7510982751846313, Validation Loss: 0.763751745223999\n"
     ]
    },
    {
     "name": "stderr",
     "output_type": "stream",
     "text": [
      "[Epoch  78/100]: 100%|████████████████████████████████████████████████████████████████████████████████████████████████████████████████████████████████████| 69986/69986 [02:15<00:00, 514.89it/s, train loss=tensor(0.7497), validation loss=tensor(0.7637)]\n"
     ]
    },
    {
     "name": "stdout",
     "output_type": "stream",
     "text": [
      "Train Loss: 0.749700129032135, Validation Loss: 0.7637038826942444\n"
     ]
    },
    {
     "name": "stderr",
     "output_type": "stream",
     "text": [
      "[Epoch  79/100]: 100%|████████████████████████████████████████████████████████████████████████████████████████████████████████████████████████████████████| 69986/69986 [02:15<00:00, 517.82it/s, train loss=tensor(0.7499), validation loss=tensor(0.7632)]\n"
     ]
    },
    {
     "name": "stdout",
     "output_type": "stream",
     "text": [
      "Train Loss: 0.7499182820320129, Validation Loss: 0.7632470726966858\n"
     ]
    },
    {
     "name": "stderr",
     "output_type": "stream",
     "text": [
      "[Epoch  80/100]: 100%|████████████████████████████████████████████████████████████████████████████████████████████████████████████████████████████████████| 69986/69986 [02:15<00:00, 568.92it/s, train loss=tensor(0.7497), validation loss=tensor(0.7631)]"
     ]
    },
    {
     "data": {
      "image/png": "[encoded data removed]",
      "text/plain": [
       "<Figure size 640x480 with 1 Axes>"
      ]
     },
     "metadata": {},
     "output_type": "display_data"
    },
    {
     "name": "stderr",
     "output_type": "stream",
     "text": [
      "[Epoch  80/100]: 100%|████████████████████████████████████████████████████████████████████████████████████████████████████████████████████████████████████| 69986/69986 [02:15<00:00, 515.46it/s, train loss=tensor(0.7497), validation loss=tensor(0.7631)]\n"
     ]
    },
    {
     "name": "stdout",
     "output_type": "stream",
     "text": [
      "Train Loss: 0.7497368454933167, Validation Loss: 0.7630643248558044\n"
     ]
    },
    {
     "name": "stderr",
     "output_type": "stream",
     "text": [
      "[Epoch  81/100]: 100%|████████████████████████████████████████████████████████████████████████████████████████████████████████████████████████████████████| 69986/69986 [02:15<00:00, 516.61it/s, train loss=tensor(0.7488), validation loss=tensor(0.7627)]\n"
     ]
    },
    {
     "name": "stdout",
     "output_type": "stream",
     "text": [
      "Train Loss: 0.7488303184509277, Validation Loss: 0.7627116441726685\n"
     ]
    },
    {
     "name": "stderr",
     "output_type": "stream",
     "text": [
      "[Epoch  82/100]: 100%|████████████████████████████████████████████████████████████████████████████████████████████████████████████████████████████████████| 69986/69986 [02:16<00:00, 514.26it/s, train loss=tensor(0.7484), validation loss=tensor(0.7626)]\n"
     ]
    },
    {
     "name": "stdout",
     "output_type": "stream",
     "text": [
      "Train Loss: 0.7483563423156738, Validation Loss: 0.7625780701637268\n"
     ]
    },
    {
     "name": "stderr",
     "output_type": "stream",
     "text": [
      "[Epoch  83/100]: 100%|████████████████████████████████████████████████████████████████████████████████████████████████████████████████████████████████████| 69986/69986 [02:21<00:00, 493.47it/s, train loss=tensor(0.7479), validation loss=tensor(0.7631)]\n"
     ]
    },
    {
     "name": "stdout",
     "output_type": "stream",
     "text": [
      "Train Loss: 0.7478524446487427, Validation Loss: 0.7630850076675415\n"
     ]
    },
    {
     "name": "stderr",
     "output_type": "stream",
     "text": [
      "[Epoch  84/100]: 100%|████████████████████████████████████████████████████████████████████████████████████████████████████████████████████████████████████| 69986/69986 [02:19<00:00, 502.26it/s, train loss=tensor(0.7474), validation loss=tensor(0.7619)]\n"
     ]
    },
    {
     "name": "stdout",
     "output_type": "stream",
     "text": [
      "Train Loss: 0.7474166750907898, Validation Loss: 0.7618571519851685\n"
     ]
    },
    {
     "name": "stderr",
     "output_type": "stream",
     "text": [
      "[Epoch  85/100]: 100%|████████████████████████████████████████████████████████████████████████████████████████████████████████████████████████████████████| 69986/69986 [02:16<00:00, 514.22it/s, train loss=tensor(0.7478), validation loss=tensor(0.7618)]\n"
     ]
    },
    {
     "name": "stdout",
     "output_type": "stream",
     "text": [
      "Train Loss: 0.7477700114250183, Validation Loss: 0.7617812752723694\n"
     ]
    },
    {
     "name": "stderr",
     "output_type": "stream",
     "text": [
      "[Epoch  86/100]: 100%|████████████████████████████████████████████████████████████████████████████████████████████████████████████████████████████████████| 69986/69986 [02:15<00:00, 514.67it/s, train loss=tensor(0.7467), validation loss=tensor(0.7614)]\n"
     ]
    },
    {
     "name": "stdout",
     "output_type": "stream",
     "text": [
      "Train Loss: 0.7467136383056641, Validation Loss: 0.7613517045974731\n"
     ]
    },
    {
     "name": "stderr",
     "output_type": "stream",
     "text": [
      "[Epoch  87/100]: 100%|████████████████████████████████████████████████████████████████████████████████████████████████████████████████████████████████████| 69986/69986 [02:15<00:00, 515.35it/s, train loss=tensor(0.7468), validation loss=tensor(0.7614)]\n"
     ]
    },
    {
     "name": "stdout",
     "output_type": "stream",
     "text": [
      "Train Loss: 0.7467562556266785, Validation Loss: 0.7614493370056152\n"
     ]
    },
    {
     "name": "stderr",
     "output_type": "stream",
     "text": [
      "[Epoch  88/100]: 100%|████████████████████████████████████████████████████████████████████████████████████████████████████████████████████████████████████| 69986/69986 [02:16<00:00, 512.37it/s, train loss=tensor(0.7464), validation loss=tensor(0.7613)]\n"
     ]
    },
    {
     "name": "stdout",
     "output_type": "stream",
     "text": [
      "Train Loss: 0.7464025616645813, Validation Loss: 0.7612560391426086\n"
     ]
    },
    {
     "name": "stderr",
     "output_type": "stream",
     "text": [
      "[Epoch  89/100]: 100%|████████████████████████████████████████████████████████████████████████████████████████████████████████████████████████████████████| 69986/69986 [02:17<00:00, 509.54it/s, train loss=tensor(0.7462), validation loss=tensor(0.7608)]\n"
     ]
    },
    {
     "name": "stdout",
     "output_type": "stream",
     "text": [
      "Train Loss: 0.7461849451065063, Validation Loss: 0.7607949376106262\n"
     ]
    },
    {
     "name": "stderr",
     "output_type": "stream",
     "text": [
      "[Epoch  90/100]: 100%|████████████████████████████████████████████████████████████████████████████████████████████████████████████████████████████████████| 69986/69986 [02:17<00:00, 508.13it/s, train loss=tensor(0.7457), validation loss=tensor(0.7606)]\n"
     ]
    },
    {
     "name": "stdout",
     "output_type": "stream",
     "text": [
      "Train Loss: 0.7456822991371155, Validation Loss: 0.760644793510437\n"
     ]
    },
    {
     "name": "stderr",
     "output_type": "stream",
     "text": [
      "[Epoch  91/100]: 100%|████████████████████████████████████████████████████████████████████████████████████████████████████████████████████████████████████| 69986/69986 [02:15<00:00, 515.37it/s, train loss=tensor(0.7453), validation loss=tensor(0.7603)]\n"
     ]
    },
    {
     "name": "stdout",
     "output_type": "stream",
     "text": [
      "Train Loss: 0.7453269362449646, Validation Loss: 0.760301411151886\n"
     ]
    },
    {
     "name": "stderr",
     "output_type": "stream",
     "text": [
      "[Epoch  92/100]: 100%|████████████████████████████████████████████████████████████████████████████████████████████████████████████████████████████████████| 69986/69986 [02:15<00:00, 515.47it/s, train loss=tensor(0.7448), validation loss=tensor(0.7598)]\n"
     ]
    },
    {
     "name": "stdout",
     "output_type": "stream",
     "text": [
      "Train Loss: 0.7447695732116699, Validation Loss: 0.7598018050193787\n"
     ]
    },
    {
     "name": "stderr",
     "output_type": "stream",
     "text": [
      "[Epoch  93/100]: 100%|████████████████████████████████████████████████████████████████████████████████████████████████████████████████████████████████████| 69986/69986 [02:16<00:00, 512.24it/s, train loss=tensor(0.7450), validation loss=tensor(0.7600)]\n"
     ]
    },
    {
     "name": "stdout",
     "output_type": "stream",
     "text": [
      "Train Loss: 0.7449800372123718, Validation Loss: 0.7600013017654419\n"
     ]
    },
    {
     "name": "stderr",
     "output_type": "stream",
     "text": [
      "[Epoch  94/100]: 100%|████████████████████████████████████████████████████████████████████████████████████████████████████████████████████████████████████| 69986/69986 [02:17<00:00, 510.60it/s, train loss=tensor(0.7446), validation loss=tensor(0.7600)]\n"
     ]
    },
    {
     "name": "stdout",
     "output_type": "stream",
     "text": [
      "Train Loss: 0.7445892691612244, Validation Loss: 0.760020911693573\n"
     ]
    },
    {
     "name": "stderr",
     "output_type": "stream",
     "text": [
      "[Epoch  95/100]: 100%|████████████████████████████████████████████████████████████████████████████████████████████████████████████████████████████████████| 69986/69986 [02:15<00:00, 515.43it/s, train loss=tensor(0.7443), validation loss=tensor(0.7602)]\n"
     ]
    },
    {
     "name": "stdout",
     "output_type": "stream",
     "text": [
      "Train Loss: 0.7442631125450134, Validation Loss: 0.7601609826087952\n"
     ]
    },
    {
     "name": "stderr",
     "output_type": "stream",
     "text": [
      "[Epoch  96/100]: 100%|████████████████████████████████████████████████████████████████████████████████████████████████████████████████████████████████████| 69986/69986 [02:17<00:00, 509.20it/s, train loss=tensor(0.7447), validation loss=tensor(0.7595)]\n"
     ]
    },
    {
     "name": "stdout",
     "output_type": "stream",
     "text": [
      "Train Loss: 0.7447420358657837, Validation Loss: 0.7595332860946655\n"
     ]
    },
    {
     "name": "stderr",
     "output_type": "stream",
     "text": [
      "[Epoch  97/100]: 100%|████████████████████████████████████████████████████████████████████████████████████████████████████████████████████████████████████| 69986/69986 [02:15<00:00, 515.11it/s, train loss=tensor(0.7440), validation loss=tensor(0.7590)]\n"
     ]
    },
    {
     "name": "stdout",
     "output_type": "stream",
     "text": [
      "Train Loss: 0.7440241575241089, Validation Loss: 0.7590100169181824\n"
     ]
    },
    {
     "name": "stderr",
     "output_type": "stream",
     "text": [
      "[Epoch  98/100]: 100%|████████████████████████████████████████████████████████████████████████████████████████████████████████████████████████████████████| 69986/69986 [02:15<00:00, 515.67it/s, train loss=tensor(0.7440), validation loss=tensor(0.7591)]\n"
     ]
    },
    {
     "name": "stdout",
     "output_type": "stream",
     "text": [
      "Train Loss: 0.7439998984336853, Validation Loss: 0.7591359615325928\n"
     ]
    },
    {
     "name": "stderr",
     "output_type": "stream",
     "text": [
      "[Epoch  99/100]: 100%|████████████████████████████████████████████████████████████████████████████████████████████████████████████████████████████████████| 69986/69986 [02:16<00:00, 513.01it/s, train loss=tensor(0.7435), validation loss=tensor(0.7587)]\n"
     ]
    },
    {
     "name": "stdout",
     "output_type": "stream",
     "text": [
      "Train Loss: 0.743546187877655, Validation Loss: 0.7586956024169922\n"
     ]
    },
    {
     "name": "stderr",
     "output_type": "stream",
     "text": [
      "[Epoch 100/100]: 100%|████████████████████████████████████████████████████████████████████████████████████████████████████████████████████████████████████| 69986/69986 [02:17<00:00, 555.49it/s, train loss=tensor(0.7437), validation loss=tensor(0.7587)]"
     ]
    },
    {
     "data": {
      "image/png": "[encoded data removed]",
      "text/plain": [
       "<Figure size 640x480 with 1 Axes>"
      ]
     },
     "metadata": {},
     "output_type": "display_data"
    },
    {
     "name": "stderr",
     "output_type": "stream",
     "text": [
      "[Epoch 100/100]: 100%|████████████████████████████████████████████████████████████████████████████████████████████████████████████████████████████████████| 69986/69986 [02:18<00:00, 506.89it/s, train loss=tensor(0.7437), validation loss=tensor(0.7587)]"
     ]
    },
    {
     "name": "stdout",
     "output_type": "stream",
     "text": [
      "Train Loss: 0.7437346577644348, Validation Loss: 0.7587350606918335\n"
     ]
    },
    {
     "name": "stderr",
     "output_type": "stream",
     "text": [
      "\n"
     ]
    }
   ],
   "source": [
    "cur_step=1\n",
    "train_loss_arr = []\n",
    "val_loss_arr = []\n",
    "for epoch_idx in range(config['EPOCHS']):\n",
    "    with tqdm(total=len(train_dl.dataset), desc=f\"[Epoch {epoch_idx+1:3d}/{config['EPOCHS']}]\") as pbar:\n",
    "        # Train\n",
    "        train_loss=0\n",
    "        model.train()\n",
    "        for batch_idx, batch in enumerate(train_dl):\n",
    "            xb,yb=batch\n",
    "            xb,yb =xb.to(device),yb.to(device)\n",
    "            preds=model(xb,yb) # (batch_size, seq_len, vocab_size)\n",
    "\n",
    "            loss=loss_func(\n",
    "                preds.reshape(-1, preds.size(-1)), # Reshaping for loss\n",
    "                yb[:, 1:].contiguous().view(-1) # Shifting right (without BOS)\n",
    "            )\n",
    "            train_loss+=loss.detach().cpu()\n",
    "\n",
    "\n",
    "            loss.backward()\n",
    "            if cur_step % config['GRAD_ACCUMULATION_STEPS']==0:\n",
    "                optimizer.step()\n",
    "                scheduler.step()\n",
    "                optimizer.zero_grad()\n",
    "            cur_step+=1\n",
    "                \n",
    "            pbar.set_postfix({'running loss': train_loss/(batch_idx+1)})\n",
    "            pbar.update(xb.shape[0])\n",
    "\n",
    "        # Validation\n",
    "        val_loss=0\n",
    "        with torch.no_grad():\n",
    "            model.eval() # to ignore dropout layers\n",
    "            for batch_idx, batch in enumerate(val_dl):\n",
    "                xb,yb=batch\n",
    "                xb,yb =xb.to(device),yb.to(device)\n",
    "                preds=model(xb,yb)\n",
    "\n",
    "                loss=loss_func(\n",
    "                    preds.reshape(-1, preds.size(-1)), # Reshaping for loss\n",
    "                    yb[:, 1:].contiguous().view(-1) # Shifting right (without BOS)\n",
    "                )\n",
    "                val_loss+=loss.detach().cpu()\n",
    "        \n",
    "        train_loss = train_loss / len(train_dl)\n",
    "        val_loss = val_loss / len(val_dl)\n",
    "        train_loss_arr.append(train_loss)\n",
    "        val_loss_arr.append(val_loss)\n",
    "        pbar.set_postfix({'train loss': train_loss, 'validation loss': val_loss})\n",
    "                \n",
    "        # save model every 20 epochs\n",
    "        if (epoch_idx+1) % 20 == 0:\n",
    "            model_save_path = f'models/mcf_429_3blocks_epoch{epoch_idx+1}_{datetime.datetime.now().strftime(\"%Y_%m_%d__%H%M%S\")}.pt'\n",
    "            torch.save(model.state_dict(), model_save_path)\n",
    "            torch.save({\n",
    "                'epoch': (epoch_idx+1),\n",
    "                'model_state_dict': model.state_dict(),\n",
    "                'optimizer_state_dict': optimizer.state_dict(),\n",
    "                'train_loss_arr': train_loss_arr,\n",
    "                'val_loss_arr': val_loss_arr,\n",
    "                }, model_save_path)\n",
    "            plt.plot(train_loss_arr, label=\"training loss\")\n",
    "            plt.plot(val_loss_arr, label=\"validation loss\")\n",
    "            plt.legend()\n",
    "            plt.show()\n",
    "            \n",
    "    print(f\"Train Loss: {train_loss}, Validation Loss: {val_loss}\")"
   ]
  },
  {
   "cell_type": "code",
   "execution_count": 30,
   "metadata": {
    "tags": []
   },
   "outputs": [],
   "source": [
    "path = f'models/test.pt'\n",
    "idx = 10\n",
    "torch.save({\n",
    "    'epoch': idx+1,\n",
    "    'model_state_dict': model.state_dict(),\n",
    "    'optimizer_state_dict': optimizer.state_dict()\n",
    "    }, path)"
   ]
  },
  {
   "cell_type": "code",
   "execution_count": 30,
   "metadata": {},
   "outputs": [
    {
     "data": {
      "image/png": "[encoded data removed]",
      "text/plain": [
       "<Figure size 640x480 with 1 Axes>"
      ]
     },
     "metadata": {},
     "output_type": "display_data"
    }
   ],
   "source": [
    "model_save_path = f'models/gcc_403_3blocks_epoch{epoch_idx+1}_{datetime.datetime.now().strftime(\"%Y_%m_%d__%H%M%S\")}.pt'\n",
    "torch.save(model.state_dict(), model_save_path)\n",
    "torch.save({\n",
    "    'epoch': (epoch_idx+1),\n",
    "    'model_state_dict': model.state_dict(),\n",
    "    'optimizer_state_dict': optimizer.state_dict(),\n",
    "    'train_loss_arr': train_loss_arr,\n",
    "    'val_loss_arr': val_loss_arr,\n",
    "    }, model_save_path)\n",
    "plt.plot(train_loss_arr, label=\"training loss\")\n",
    "plt.plot(val_loss_arr, label=\"validation loss\")\n",
    "plt.legend()\n",
    "plt.show()"
   ]
  },
  {
   "cell_type": "markdown",
   "metadata": {
    "tags": []
   },
   "source": [
    "### Train from Checkpoint"
   ]
  },
  {
   "cell_type": "code",
   "execution_count": 31,
   "metadata": {},
   "outputs": [
    {
     "data": {
      "text/plain": [
       "60"
      ]
     },
     "execution_count": 31,
     "metadata": {},
     "output_type": "execute_result"
    }
   ],
   "source": [
    "epoch"
   ]
  },
  {
   "cell_type": "code",
   "execution_count": 33,
   "metadata": {
    "scrolled": true,
    "tags": []
   },
   "outputs": [
    {
     "name": "stderr",
     "output_type": "stream",
     "text": [
      "[Epoch  62/100]: 100%|██████████████████████████████████████████████████████████████████████████████████████████████████████████████████████████████████████| 57427/57427 [01:49<00:00, 523.25it/s, train loss=tensor(0.8968), validation loss=tensor(0.8094)]\n",
      "[Epoch  63/100]: 100%|██████████████████████████████████████████████████████████████████████████████████████████████████████████████████████████████████████| 57427/57427 [01:51<00:00, 513.96it/s, train loss=tensor(0.8619), validation loss=tensor(0.8041)]\n",
      "[Epoch  64/100]: 100%|██████████████████████████████████████████████████████████████████████████████████████████████████████████████████████████████████████| 57427/57427 [01:53<00:00, 504.81it/s, train loss=tensor(0.8472), validation loss=tensor(0.8006)]\n",
      "[Epoch  65/100]: 100%|██████████████████████████████████████████████████████████████████████████████████████████████████████████████████████████████████████| 57427/57427 [01:51<00:00, 515.85it/s, train loss=tensor(0.8382), validation loss=tensor(0.7975)]\n",
      "[Epoch  66/100]: 100%|██████████████████████████████████████████████████████████████████████████████████████████████████████████████████████████████████████| 57427/57427 [01:49<00:00, 523.05it/s, train loss=tensor(0.8306), validation loss=tensor(0.7965)]\n",
      "[Epoch  67/100]: 100%|██████████████████████████████████████████████████████████████████████████████████████████████████████████████████████████████████████| 57427/57427 [01:50<00:00, 522.02it/s, train loss=tensor(0.8257), validation loss=tensor(0.7950)]\n",
      "[Epoch  68/100]: 100%|██████████████████████████████████████████████████████████████████████████████████████████████████████████████████████████████████████| 57427/57427 [01:50<00:00, 520.32it/s, train loss=tensor(0.8223), validation loss=tensor(0.7937)]\n",
      "[Epoch  69/100]: 100%|██████████████████████████████████████████████████████████████████████████████████████████████████████████████████████████████████████| 57427/57427 [01:51<00:00, 515.33it/s, train loss=tensor(0.8180), validation loss=tensor(0.7933)]\n",
      "[Epoch  70/100]: 100%|██████████████████████████████████████████████████████████████████████████████████████████████████████████████████████████████████████| 57427/57427 [01:50<00:00, 521.37it/s, train loss=tensor(0.8148), validation loss=tensor(0.7927)]\n",
      "[Epoch  71/100]: 100%|██████████████████████████████████████████████████████████████████████████████████████████████████████████████████████████████████████| 57427/57427 [01:50<00:00, 520.93it/s, train loss=tensor(0.8120), validation loss=tensor(0.7926)]\n",
      "[Epoch  72/100]: 100%|██████████████████████████████████████████████████████████████████████████████████████████████████████████████████████████████████████| 57427/57427 [01:49<00:00, 522.65it/s, train loss=tensor(0.8090), validation loss=tensor(0.7921)]\n",
      "[Epoch  73/100]: 100%|██████████████████████████████████████████████████████████████████████████████████████████████████████████████████████████████████████| 57427/57427 [01:51<00:00, 514.15it/s, train loss=tensor(0.8073), validation loss=tensor(0.7936)]\n",
      "[Epoch  74/100]: 100%|██████████████████████████████████████████████████████████████████████████████████████████████████████████████████████████████████████| 57427/57427 [01:50<00:00, 521.47it/s, train loss=tensor(0.8057), validation loss=tensor(0.7917)]\n",
      "[Epoch  75/100]: 100%|██████████████████████████████████████████████████████████████████████████████████████████████████████████████████████████████████████| 57427/57427 [01:49<00:00, 522.31it/s, train loss=tensor(0.8037), validation loss=tensor(0.7927)]\n",
      "[Epoch  76/100]: 100%|██████████████████████████████████████████████████████████████████████████████████████████████████████████████████████████████████████| 57427/57427 [01:50<00:00, 522.05it/s, train loss=tensor(0.8016), validation loss=tensor(0.7928)]\n",
      "[Epoch  77/100]: 100%|██████████████████████████████████████████████████████████████████████████████████████████████████████████████████████████████████████| 57427/57427 [01:50<00:00, 521.87it/s, train loss=tensor(0.8008), validation loss=tensor(0.7931)]\n",
      "[Epoch  78/100]: 100%|██████████████████████████████████████████████████████████████████████████████████████████████████████████████████████████████████████| 57427/57427 [01:50<00:00, 519.33it/s, train loss=tensor(0.7990), validation loss=tensor(0.7933)]\n",
      "[Epoch  79/100]: 100%|██████████████████████████████████████████████████████████████████████████████████████████████████████████████████████████████████████| 57427/57427 [01:50<00:00, 521.42it/s, train loss=tensor(0.7975), validation loss=tensor(0.7947)]\n",
      "[Epoch  80/100]: 100%|██████████████████████████████████████████████████████████████████████████████████████████████████████████████████████████████████████| 57427/57427 [01:50<00:00, 520.51it/s, train loss=tensor(0.7960), validation loss=tensor(0.7939)]\n",
      "[Epoch  81/100]: 100%|██████████████████████████████████████████████████████████████████████████████████████████████████████████████████████████████████████| 57427/57427 [01:50<00:00, 521.76it/s, train loss=tensor(0.7951), validation loss=tensor(0.7947)]\n",
      "[Epoch  82/100]: 100%|██████████████████████████████████████████████████████████████████████████████████████████████████████████████████████████████████████| 57427/57427 [01:50<00:00, 521.70it/s, train loss=tensor(0.7939), validation loss=tensor(0.7947)]\n",
      "[Epoch  83/100]: 100%|██████████████████████████████████████████████████████████████████████████████████████████████████████████████████████████████████████| 57427/57427 [01:50<00:00, 521.45it/s, train loss=tensor(0.7928), validation loss=tensor(0.7956)]\n",
      "[Epoch  84/100]: 100%|██████████████████████████████████████████████████████████████████████████████████████████████████████████████████████████████████████| 57427/57427 [01:50<00:00, 521.96it/s, train loss=tensor(0.7920), validation loss=tensor(0.7961)]\n",
      "[Epoch  85/100]: 100%|██████████████████████████████████████████████████████████████████████████████████████████████████████████████████████████████████████| 57427/57427 [01:50<00:00, 520.13it/s, train loss=tensor(0.7908), validation loss=tensor(0.7950)]\n",
      "[Epoch  86/100]: 100%|██████████████████████████████████████████████████████████████████████████████████████████████████████████████████████████████████████| 57427/57427 [01:50<00:00, 521.13it/s, train loss=tensor(0.7898), validation loss=tensor(0.7963)]\n",
      "[Epoch  87/100]: 100%|██████████████████████████████████████████████████████████████████████████████████████████████████████████████████████████████████████| 57427/57427 [01:50<00:00, 521.30it/s, train loss=tensor(0.7892), validation loss=tensor(0.7984)]\n",
      "[Epoch  88/100]: 100%|██████████████████████████████████████████████████████████████████████████████████████████████████████████████████████████████████████| 57427/57427 [01:50<00:00, 518.62it/s, train loss=tensor(0.7882), validation loss=tensor(0.7969)]\n",
      "[Epoch  89/100]: 100%|██████████████████████████████████████████████████████████████████████████████████████████████████████████████████████████████████████| 57427/57427 [01:50<00:00, 521.38it/s, train loss=tensor(0.7870), validation loss=tensor(0.7982)]\n",
      "[Epoch  90/100]: 100%|██████████████████████████████████████████████████████████████████████████████████████████████████████████████████████████████████████| 57427/57427 [01:50<00:00, 521.13it/s, train loss=tensor(0.7861), validation loss=tensor(0.7989)]\n",
      "[Epoch  91/100]: 100%|██████████████████████████████████████████████████████████████████████████████████████████████████████████████████████████████████████| 57427/57427 [01:50<00:00, 521.34it/s, train loss=tensor(0.7855), validation loss=tensor(0.7991)]\n",
      "[Epoch  92/100]: 100%|██████████████████████████████████████████████████████████████████████████████████████████████████████████████████████████████████████| 57427/57427 [01:50<00:00, 521.10it/s, train loss=tensor(0.7853), validation loss=tensor(0.7993)]\n",
      "[Epoch  93/100]: 100%|██████████████████████████████████████████████████████████████████████████████████████████████████████████████████████████████████████| 57427/57427 [01:50<00:00, 521.70it/s, train loss=tensor(0.7841), validation loss=tensor(0.8003)]\n",
      "[Epoch  94/100]: 100%|██████████████████████████████████████████████████████████████████████████████████████████████████████████████████████████████████████| 57427/57427 [01:50<00:00, 521.05it/s, train loss=tensor(0.7839), validation loss=tensor(0.8005)]\n",
      "[Epoch  95/100]: 100%|██████████████████████████████████████████████████████████████████████████████████████████████████████████████████████████████████████| 57427/57427 [01:50<00:00, 520.59it/s, train loss=tensor(0.7831), validation loss=tensor(0.8015)]\n",
      "[Epoch  96/100]: 100%|██████████████████████████████████████████████████████████████████████████████████████████████████████████████████████████████████████| 57427/57427 [01:50<00:00, 521.15it/s, train loss=tensor(0.7821), validation loss=tensor(0.8024)]\n",
      "[Epoch  97/100]: 100%|██████████████████████████████████████████████████████████████████████████████████████████████████████████████████████████████████████| 57427/57427 [01:50<00:00, 520.60it/s, train loss=tensor(0.7814), validation loss=tensor(0.8013)]\n",
      "[Epoch  98/100]: 100%|██████████████████████████████████████████████████████████████████████████████████████████████████████████████████████████████████████| 57427/57427 [01:52<00:00, 510.29it/s, train loss=tensor(0.7807), validation loss=tensor(0.8009)]\n",
      "[Epoch  99/100]: 100%|██████████████████████████████████████████████████████████████████████████████████████████████████████████████████████████████████████| 57427/57427 [01:52<00:00, 512.13it/s, train loss=tensor(0.7797), validation loss=tensor(0.8027)]\n",
      "[Epoch 100/100]: 100%|██████████████████████████████████████████████████████████████████████████████████████████████████████████████████████████████████████| 57427/57427 [01:50<00:00, 519.51it/s, train loss=tensor(0.7797), validation loss=tensor(0.8026)]\n"
     ]
    }
   ],
   "source": [
    "load_path = 'models/fixedShiftRight_checkpoint_2022_11_08__234630.pt'\n",
    "checkpoint = torch.load(load_path)\n",
    "model.load_state_dict(checkpoint['model_state_dict'])\n",
    "optimizer.load_state_dict(checkpoint['optimizer_state_dict'])\n",
    "epoch = checkpoint['epoch']\n",
    "train_loss_arr = checkpoint['train_loss_arr']\n",
    "val_loss_arr = checkpoint['val_loss_arr']\n",
    "\n",
    "cur_step = 1\n",
    "for epoch_idx in range(config['EPOCHS']):\n",
    "    \n",
    "    # skip the trained epochs\n",
    "    if epoch_idx <= epoch:\n",
    "        for _ in range(len(train_dl)):\n",
    "            cur_step += 1\n",
    "            if cur_step % config['GRAD_ACCUMULATION_STEPS']==0:\n",
    "                scheduler.step()\n",
    "        continue\n",
    "        \n",
    "    with tqdm(total=len(train_dl.dataset), desc=f\"[Epoch {epoch_idx+1:3d}/{config['EPOCHS']}]\") as pbar:\n",
    "        # Train\n",
    "        train_loss=0\n",
    "        model.train()\n",
    "        for batch_idx, batch in enumerate(train_dl):\n",
    "            xb,yb=batch\n",
    "            xb,yb =xb.to(device),yb.to(device)\n",
    "            preds=model(xb,yb) # (batch_size, seq_len, vocab_size)\n",
    "\n",
    "            loss=loss_func(\n",
    "                preds.reshape(-1, preds.size(-1)), # Reshaping for loss\n",
    "                yb[:, 1:].contiguous().view(-1) # Shifting right (without BOS)\n",
    "            )\n",
    "            train_loss+=loss.detach().cpu()\n",
    "\n",
    "\n",
    "            loss.backward()\n",
    "            if cur_step % config['GRAD_ACCUMULATION_STEPS']==0:\n",
    "                optimizer.step()\n",
    "                scheduler.step()\n",
    "                optimizer.zero_grad()\n",
    "            cur_step+=1\n",
    "                \n",
    "            pbar.set_postfix({'running loss': train_loss/(batch_idx+1)})\n",
    "            pbar.update(xb.shape[0])\n",
    "\n",
    "        # Validation\n",
    "        val_loss=0\n",
    "        with torch.no_grad():\n",
    "            model.eval() # to ignore dropout layers\n",
    "            for batch_idx, batch in enumerate(val_dl):\n",
    "                xb,yb=batch\n",
    "                xb,yb =xb.to(device),yb.to(device)\n",
    "                preds=model(xb,yb)\n",
    "\n",
    "                loss=loss_func(\n",
    "                    preds.reshape(-1, preds.size(-1)), # Reshaping for loss\n",
    "                    yb[:, 1:].contiguous().view(-1) # Shifting right (without BOS)\n",
    "                )\n",
    "                val_loss+=loss.detach().cpu()\n",
    "        \n",
    "        train_loss = train_loss / len(train_dl)\n",
    "        val_loss = val_loss / len(val_dl)\n",
    "        train_loss_arr.append(train_loss)\n",
    "        val_loss_arr.append(val_loss)\n",
    "        pbar.set_postfix({'train loss': train_loss, 'validation loss': val_loss})\n",
    "                \n",
    "        # save model every 20 epochs\n",
    "        if (epoch_idx+1) % 20 == 0:\n",
    "            model_save_path = f'models/fixedShiftRight_epoch{epoch_idx}_{datetime.datetime.now().strftime(\"%Y_%m_%d__%H%M%S\")}.pth'\n",
    "            torch.save(model.state_dict(), model_save_path)"
   ]
  },
  {
   "cell_type": "code",
   "execution_count": 34,
   "metadata": {
    "tags": []
   },
   "outputs": [
    {
     "data": {
      "image/png": "[encoded data removed]",
      "text/plain": [
       "<Figure size 640x480 with 1 Axes>"
      ]
     },
     "metadata": {},
     "output_type": "display_data"
    }
   ],
   "source": [
    "# train 2\n",
    "plt.plot(train_loss_arr, label=\"training loss\")\n",
    "plt.plot(val_loss_arr, label=\"validation loss\")\n",
    "plt.legend()\n",
    "plt.show()"
   ]
  },
  {
   "cell_type": "code",
   "execution_count": 35,
   "metadata": {},
   "outputs": [],
   "source": [
    "path = f'models/fixedShiftRight_checkpoint_{datetime.datetime.now().strftime(\"%Y_%m_%d__%H%M%S\")}.pt'\n",
    "torch.save({\n",
    "    'epoch': 100,\n",
    "    'model_state_dict': model.state_dict(),\n",
    "    'optimizer_state_dict': optimizer.state_dict(),\n",
    "    'train_loss_arr': train_loss_arr,\n",
    "    'val_loss_arr': val_loss_arr,\n",
    "    }, path)"
   ]
  },
  {
   "cell_type": "markdown",
   "metadata": {
    "tags": []
   },
   "source": [
    "## Test Accuracy"
   ]
  },
  {
   "cell_type": "code",
   "execution_count": 41,
   "metadata": {},
   "outputs": [],
   "source": [
    "load_path = 'models/gcc_403_3blocks_epoch100_2022_12_02__010717.pt'\n",
    "checkpoint = torch.load(load_path)\n",
    "model.load_state_dict(checkpoint['model_state_dict'])\n",
    "epoch = checkpoint['epoch']\n",
    "train_loss_arr = checkpoint['train_loss_arr']\n",
    "val_loss_arr = checkpoint['val_loss_arr']"
   ]
  },
  {
   "cell_type": "code",
   "execution_count": 31,
   "metadata": {},
   "outputs": [],
   "source": [
    "torch.save(model.state_dict(), 'models/milc_433_3blocks_latest.pth')"
   ]
  },
  {
   "cell_type": "code",
   "execution_count": 63,
   "metadata": {},
   "outputs": [
    {
     "data": {
      "text/plain": [
       "<All keys matched successfully>"
      ]
     },
     "execution_count": 63,
     "metadata": {},
     "output_type": "execute_result"
    }
   ],
   "source": [
    "pth = torch.load('models/useDataCollectedByMe_latest.pth')\n",
    "model.load_state_dict(pth)"
   ]
  },
  {
   "cell_type": "code",
   "execution_count": 32,
   "metadata": {},
   "outputs": [],
   "source": [
    "def translate(model: nn.Module, sentence):\n",
    "    \n",
    "    model.eval()\n",
    "    # Infer the device of the model\n",
    "    device = next(model.parameters()).device\n",
    "\n",
    "    # sanity check\n",
    "    if len(sentence) != (config['INPUT_ADDR_NUM']+1) * config['ADDR_CHUNKS']:\n",
    "        print(f\"You should provide {config['INPUT_ADDR_NUM']+1} addresses in a row as input.\\n\")\n",
    "\n",
    "    # Initialize target sequence with SOS token.\n",
    "    src_token_ids = sentence[:(-config['ADDR_CHUNKS'])].unsqueeze(0).to(device) # (1, INPUT_ADDR_NUM * ADDR_CHUNKS)\n",
    "    trg_token_ids = sentence[(-config['ADDR_CHUNKS']):].unsqueeze(0).to(device) # (1, 1 * ADDR_CHUNKS)\n",
    "\n",
    "    # Obtain src mask\n",
    "    # src_mask=model._get_pad_mask(src_token_ids) # (batch_size, src_seq_len)\n",
    "\n",
    "    # with torch.no_grad():\n",
    "    encoder_output=model.transformer_encoder_decoder.encode(src_token_ids, src_mask=None) # (batch_size, src_seq_len, d_model)\n",
    "\n",
    "    for _ in range((config['OUTPUT_ADDR_NUM']-1) * config['ADDR_CHUNKS']):\n",
    "\n",
    "        # Obtain decoder output.\n",
    "        trg_mask=model._get_lookahead_mask(trg_token_ids)  # Can also be set to None but for my config I found this works better.\n",
    "        decoder_output=model.transformer_encoder_decoder.decode(trg_token_ids, encoder_output, src_mask=None, trg_mask=trg_mask)\n",
    "\n",
    "        # Identify token with highest probability.\n",
    "        softmax_output=nn.functional.log_softmax(decoder_output, dim=-1) # (batch_size, trg_seq_len, trg_vocab_size)\n",
    "        softmax_output_last=softmax_output[:, -1, :] # (batch_size, trg_vocab_size)\n",
    "        _, token_id=softmax_output_last.max(dim=-1) # (batch_size, trg_seq_len)\n",
    "\n",
    "        # Check if token is EOS or we reached the maximum number of tokens.\n",
    "        # if token_id.item() == eos_id or trg_token_ids.size(1) == max_tokens:\n",
    "        #     trg_token_ids=torch.cat([trg_token_ids, token_id.unsqueeze(0)], dim=-1) # (batch_size, trg_seq_len+1)\n",
    "        #     break\n",
    "\n",
    "        # Add token to target sequence.\n",
    "        trg_token_ids=torch.cat([trg_token_ids, token_id.unsqueeze(0)], dim=-1) # (batch_size, trg_seq_len+1)\n",
    "\n",
    "    # Detokenize sentence.\n",
    "    # decoded_output=tokenizer.decode(trg_token_ids.squeeze(0).detach().cpu().numpy(), skip_special_tokens=skip_special_tokens)\n",
    "\n",
    "    return trg_token_ids"
   ]
  },
  {
   "cell_type": "markdown",
   "metadata": {},
   "source": [
    "**Prediction of the next after next address:**"
   ]
  },
  {
   "cell_type": "code",
   "execution_count": 33,
   "metadata": {},
   "outputs": [
    {
     "name": "stderr",
     "output_type": "stream",
     "text": [
      "100%|███████████████████████████████████████████████████████████████████████████████████████████████████████████████████████████████████████████████████████████████████████████████████████████████████████████████████| 9998/9998 [10:23<00:00, 16.04it/s]"
     ]
    },
    {
     "name": "stdout",
     "output_type": "stream",
     "text": [
      "accuracy (8219/9998):  0.8220644128825765\n"
     ]
    },
    {
     "name": "stderr",
     "output_type": "stream",
     "text": [
      "\n"
     ]
    }
   ],
   "source": [
    "correct = 0\n",
    "for xt, yt in tqdm(test_ds):\n",
    "    sentence = torch.cat([xt[:], yt[:5]]).to(device)\n",
    "    pred = translate(model, sentence).squeeze(0).cpu()\n",
    "    truth = yt[15:20]\n",
    "    # print('pred: ', pred)\n",
    "    # print('truth: ', truth)\n",
    "    if torch.all(torch.eq(pred[15:20], truth)):\n",
    "        correct += 1\n",
    "\n",
    "print(f\"accuracy ({correct}/{len(test_ds)}): \", correct / len(test_ds))"
   ]
  },
  {
   "cell_type": "markdown",
   "metadata": {},
   "source": [
    "**Prediction of next address:**"
   ]
  },
  {
   "cell_type": "code",
   "execution_count": 34,
   "metadata": {},
   "outputs": [
    {
     "name": "stderr",
     "output_type": "stream",
     "text": [
      "100%|███████████████████████████████████████████████████████████████████████████████████████████████████████████████████████████████████████████████████████████████████████████████████████████████████████████████████| 9998/9998 [10:16<00:00, 16.22it/s]"
     ]
    },
    {
     "name": "stdout",
     "output_type": "stream",
     "text": [
      "accuracy (8366/9998):  0.8367673534706941\n"
     ]
    },
    {
     "name": "stderr",
     "output_type": "stream",
     "text": [
      "\n"
     ]
    }
   ],
   "source": [
    "correct = 0\n",
    "for xt, yt in tqdm(test_ds):\n",
    "    sentence = torch.cat([xt[:], yt[:5]]).to(device)\n",
    "    pred = translate(model, sentence).squeeze(0).cpu()\n",
    "    truth = yt[5:10]\n",
    "    # print('pred: ', pred)\n",
    "    # print('truth: ', truth)\n",
    "    if torch.all(torch.eq(pred[5:10], truth)):\n",
    "        correct += 1\n",
    "\n",
    "print(f\"accuracy ({correct}/{len(test_ds)}): \", correct / len(test_ds))"
   ]
  },
  {
   "cell_type": "markdown",
   "metadata": {
    "tags": []
   },
   "source": [
    "## Other tests"
   ]
  },
  {
   "cell_type": "code",
   "execution_count": 81,
   "metadata": {},
   "outputs": [],
   "source": [
    "def tensor2address(sequence):\n",
    "    sequence = sequence.squeeze(0).tolist()\n",
    "    addrs = []\n",
    "    for i in range(4):\n",
    "        addr = 0\n",
    "        for j in range(4, -1, -1):\n",
    "            addr |= sequence[5*i+j]\n",
    "            addr <<= 6\n",
    "        addrs.append(addr)\n",
    "    return addrs\n",
    "    \n",
    "def split_address(addr):\n",
    "    split_addr = []\n",
    "    addr = addr >> 6\n",
    "    for i in range(5): # try ADDR_CHUNKS=5 to eliminate the zeros\n",
    "        split_addr.append(addr & 0x3F)\n",
    "        addr = addr >> 6\n",
    "    return split_addr\n",
    "        \n",
    "\n",
    "def address2tensor(addrs): # array of 17 addresses\n",
    "\n",
    "    sentence = []\n",
    "    for i in range(17):\n",
    "        sentence.extend(split_address(addrs[i]))\n",
    "\n",
    "    return torch.tensor(sentence)"
   ]
  },
  {
   "cell_type": "code",
   "execution_count": 93,
   "metadata": {},
   "outputs": [],
   "source": [
    "def translate2(model: nn.Module, sentence):\n",
    "    \n",
    "    model.eval()\n",
    "    # Infer the device of the model\n",
    "    device = next(model.parameters()).device\n",
    "\n",
    "    # sanity check\n",
    "    if len(sentence) != (config['INPUT_ADDR_NUM']+1):\n",
    "        print(f\"You should provide {config['INPUT_ADDR_NUM']+1} addresses in a row as input.\\n\")\n",
    "\n",
    "    # Initialize target sequence with SOS token.\n",
    "    sentence = address2tensor(sentence)\n",
    "    src_token_ids = sentence[:(-config['ADDR_CHUNKS'])].unsqueeze(0).to(device) # (1, INPUT_ADDR_NUM * ADDR_CHUNKS)\n",
    "    trg_token_ids = sentence[(-config['ADDR_CHUNKS']):].unsqueeze(0).to(device) # (1, 1 * ADDR_CHUNKS)\n",
    "\n",
    "    # Obtain src mask\n",
    "    # src_mask=model._get_pad_mask(src_token_ids) # (batch_size, src_seq_len)\n",
    "\n",
    "    # with torch.no_grad():\n",
    "    encoder_output=model.transformer_encoder_decoder.encode(src_token_ids, src_mask=None) # (batch_size, src_seq_len, d_model)\n",
    "\n",
    "    for _ in range((config['OUTPUT_ADDR_NUM']-1) * config['ADDR_CHUNKS']):\n",
    "\n",
    "        # Obtain decoder output.\n",
    "        trg_mask=model._get_lookahead_mask(trg_token_ids)  # Can also be set to None but for my config I found this works better.\n",
    "        decoder_output=model.transformer_encoder_decoder.decode(trg_token_ids, encoder_output, src_mask=None, trg_mask=trg_mask)\n",
    "\n",
    "        # Identify token with highest probability.\n",
    "        softmax_output=nn.functional.log_softmax(decoder_output, dim=-1) # (batch_size, trg_seq_len, trg_vocab_size)\n",
    "        softmax_output_last=softmax_output[:, -1, :] # (batch_size, trg_vocab_size)\n",
    "        _, token_id=softmax_output_last.max(dim=-1) # (batch_size, trg_seq_len)\n",
    "\n",
    "        # Check if token is EOS or we reached the maximum number of tokens.\n",
    "        # if token_id.item() == eos_id or trg_token_ids.size(1) == max_tokens:\n",
    "        #     trg_token_ids=torch.cat([trg_token_ids, token_id.unsqueeze(0)], dim=-1) # (batch_size, trg_seq_len+1)\n",
    "        #     break\n",
    "\n",
    "        # Add token to target sequence.\n",
    "        trg_token_ids=torch.cat([trg_token_ids, token_id.unsqueeze(0)], dim=-1) # (batch_size, trg_seq_len+1)\n",
    "\n",
    "    # Detokenize sentence.\n",
    "    # decoded_output=tokenizer.decode(trg_token_ids.squeeze(0).detach().cpu().numpy(), skip_special_tokens=skip_special_tokens)\n",
    "\n",
    "    return tensor2address(trg_token_ids)"
   ]
  },
  {
   "cell_type": "code",
   "execution_count": 83,
   "metadata": {},
   "outputs": [
    {
     "name": "stdout",
     "output_type": "stream",
     "text": [
      "[6705970816, 6705970880, 6705968896, 6705968512, 6705968576, 6705968640, 1684653952, 1684654016, 5840117248, 6705968960, 6705970688, 6705970752, 5210693696, 7625493888, 5210694400, 4643160832, 4643160896]\n",
      "[7468720832, 7468720320, 5471505920, 5471505664]\n"
     ]
    }
   ],
   "source": [
    "test_input = data['addr'][:17]\n",
    "truth_output = data['addr'][17:21]\n",
    "print(test_input)\n",
    "print(truth_output)"
   ]
  },
  {
   "cell_type": "code",
   "execution_count": 94,
   "metadata": {},
   "outputs": [
    {
     "data": {
      "text/plain": [
       "[4643160896, 7468720832, 7468720320, 5471505920]"
      ]
     },
     "execution_count": 94,
     "metadata": {},
     "output_type": "execute_result"
    }
   ],
   "source": [
    "translate2(model, test_input)"
   ]
  },
  {
   "cell_type": "code",
   "execution_count": 136,
   "metadata": {},
   "outputs": [
    {
     "name": "stdout",
     "output_type": "stream",
     "text": [
      "[1743895872, 1743895936, 7003590912, 6985208192, 6109025280, 6109025408, 6109025472, 2633967296, 2633967360, 5517112704, 2633967488, 5517112640, 2633967552, 2633967424, 6109024512, 6109024576, 6109024640]\n"
     ]
    },
    {
     "data": {
      "text/plain": [
       "[6109024640, 6113563200, 3120986176, 3120986112]"
      ]
     },
     "execution_count": 136,
     "metadata": {},
     "output_type": "execute_result"
    }
   ],
   "source": [
    "test_input = '1743895872,1743895936,7003590912,6985208192,6109025280,6109025408,6109025472,2633967296,2633967360,5517112704,2633967488,5517112640,2633967552,2633967424,6109024512,6109024576,6109024640'\n",
    "test_input = [int(x) for x in test_input.split(',')]\n",
    "print(test_input)\n",
    "translate2(model, test_input)"
   ]
  },
  {
   "cell_type": "code",
   "execution_count": 148,
   "metadata": {},
   "outputs": [
    {
     "data": {
      "text/plain": [
       "False"
      ]
     },
     "execution_count": 148,
     "metadata": {},
     "output_type": "execute_result"
    }
   ],
   "source": [
    "6109024448 in data['addr']"
   ]
  },
  {
   "cell_type": "code",
   "execution_count": 138,
   "metadata": {},
   "outputs": [
    {
     "name": "stdout",
     "output_type": "stream",
     "text": [
      "17\n"
     ]
    }
   ],
   "source": [
    "numFalse = 0\n",
    "for addr in test_input:\n",
    "    if addr not in data['addr']:\n",
    "        numFalse += 1\n",
    "print(numFalse)"
   ]
  },
  {
   "cell_type": "code",
   "execution_count": 144,
   "metadata": {},
   "outputs": [
    {
     "data": {
      "text/plain": [
       "4124726208"
      ]
     },
     "execution_count": 144,
     "metadata": {},
     "output_type": "execute_result"
    }
   ],
   "source": [
    "data['addr'][20000]"
   ]
  },
  {
   "cell_type": "code",
   "execution_count": null,
   "metadata": {},
   "outputs": [],
   "source": []
  }
 ],
 "metadata": {
  "kernelspec": {
   "display_name": "Python 3 (ipykernel)",
   "language": "python",
   "name": "python3"
  },
  "language_info": {
   "codemirror_mode": {
    "name": "ipython",
    "version": 3
   },
   "file_extension": ".py",
   "mimetype": "text/x-python",
   "name": "python",
   "nbconvert_exporter": "python",
   "pygments_lexer": "ipython3",
   "version": "3.10.6"
  }
 },
 "nbformat": 4,
 "nbformat_minor": 4
}
