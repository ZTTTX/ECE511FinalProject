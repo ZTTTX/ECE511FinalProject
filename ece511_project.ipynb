{
 "cells": [
  {
   "cell_type": "code",
   "execution_count": 1,
   "metadata": {
    "tags": []
   },
   "outputs": [],
   "source": [
    "import math\n",
    "import random\n",
    "import datetime\n",
    "import numpy as np\n",
    "import torch\n",
    "import torch.nn as nn\n",
    "import torch.optim as optim\n",
    "from torch.utils.data import Dataset, DataLoader\n",
    "from tqdm import tqdm\n",
    "import matplotlib.pyplot as plt"
   ]
  },
  {
   "cell_type": "code",
   "execution_count": 2,
   "metadata": {
    "tags": []
   },
   "outputs": [],
   "source": [
    "config=dict(\n",
    "    # RUN CONFIG:\n",
    "    RUN_NAME='unofficial_single_gpu_run',\n",
    "    RUN_DESCRIPTION='No description',\n",
    "    RUNS_FOLDER_PTH='../runs',\n",
    "    # DATA CONFIG:\n",
    "    DATASET_SIZE=30000, # WARN: This is too small but makes it easy to go through the notebook fast\n",
    "    TEST_PROPORTION=0.01,\n",
    "    MAX_SEQ_LEN=40,\n",
    "    VOCAB_SIZE=64,\n",
    "    INPUT_ADDR_NUM=16,\n",
    "    OUTPUT_ADDR_NUM=4,\n",
    "    ADDR_CHUNKS=5,\n",
    "    # TOKENIZER_TYPE='wordlevel',\n",
    "    # TRAINING CONFIG:\n",
    "    BATCH_SIZE=48,\n",
    "    GRAD_ACCUMULATION_STEPS=8,\n",
    "    WORKER_COUNT=8,\n",
    "    EPOCHS=100,\n",
    "    # OPTIMIZER CONFIG:\n",
    "    BETAS=(0.9, 0.98),\n",
    "    EPS=1e-9,\n",
    "    # SCHEDULER CONFIG:\n",
    "    N_WARMUP_STEPS=4000,\n",
    "    # MODEL CONFIG:\n",
    "    D_MODEL=512,\n",
    "    N_BLOCKS=3,\n",
    "    N_HEADS=8,\n",
    "    D_FF=2048,\n",
    "    DROPOUT_PROBA=0.1,\n",
    "    # OTHER:\n",
    "    MODEL_SAVE_EPOCH_CNT=10,\n",
    "    DEVICE='gpu',\n",
    "    LABEL_SMOOTHING=0.1,\n",
    ")"
   ]
  },
  {
   "cell_type": "markdown",
   "metadata": {
    "tags": []
   },
   "source": [
    "## Positional Embedding"
   ]
  },
  {
   "cell_type": "code",
   "execution_count": 3,
   "metadata": {
    "collapsed": false,
    "jupyter": {
     "outputs_hidden": false
    }
   },
   "outputs": [],
   "source": [
    "class PositionalEncoding(nn.Module):\n",
    "    def __init__(self, d_model, max_seq_len=500, dropout_proba=0.1):\n",
    "        super(PositionalEncoding, self).__init__()\n",
    "        self.max_seq_len=max_seq_len\n",
    "        self.d_model=d_model\n",
    "\n",
    "        pe_table=self.get_pe_table()\n",
    "        self.register_buffer('pe_table' , pe_table)\n",
    "\n",
    "        self.dropout=nn.Dropout(dropout_proba)\n",
    "\n",
    "    def get_pe_table(self):\n",
    "        position_idxs=torch.arange(self.max_seq_len).unsqueeze(1)\n",
    "        embedding_idxs=torch.arange(self.d_model).unsqueeze(0)\n",
    "\n",
    "        angle_rads = position_idxs * 1/torch.pow(10000, (2*(embedding_idxs//2))/self.d_model)\n",
    "\n",
    "        angle_rads[:, 0::2] = torch.sin(angle_rads[:, 0::2])\n",
    "        angle_rads[:, 1::2] = torch.cos(angle_rads[:, 1::2])\n",
    "\n",
    "        pe_table = angle_rads.unsqueeze(0) # So we can apply it to a batch\n",
    "\n",
    "        return pe_table\n",
    "\n",
    "    def forward(self, embeddings_batch):\n",
    "        seq_len = embeddings_batch.size(1)\n",
    "        pe_batch = self.pe_table[:, :seq_len].clone().detach()\n",
    "        return self.dropout(embeddings_batch + pe_batch)"
   ]
  },
  {
   "cell_type": "markdown",
   "metadata": {},
   "source": [
    "## Add and Norm\n"
   ]
  },
  {
   "cell_type": "code",
   "execution_count": 4,
   "metadata": {
    "collapsed": false,
    "jupyter": {
     "outputs_hidden": false
    }
   },
   "outputs": [],
   "source": [
    "class AddAndNorm(nn.Module):\n",
    "    def __init__(self, d_model):\n",
    "        super(AddAndNorm, self).__init__()\n",
    "\n",
    "        self.layer_norm=nn.LayerNorm(d_model)\n",
    "\n",
    "    def forward(self, x, residual):\n",
    "        return self.layer_norm(x+residual)"
   ]
  },
  {
   "cell_type": "markdown",
   "metadata": {},
   "source": [
    "## Feed Forward Layer"
   ]
  },
  {
   "cell_type": "code",
   "execution_count": 5,
   "metadata": {
    "collapsed": false,
    "jupyter": {
     "outputs_hidden": false
    }
   },
   "outputs": [],
   "source": [
    "class PositionWiseFeedForwardNet(nn.Module):\n",
    "    def __init__(self, d_model, d_ff):\n",
    "        super(PositionWiseFeedForwardNet, self).__init__()\n",
    "        self.w_1 = nn.Linear(d_model, d_ff)\n",
    "        self.w_2 = nn.Linear(d_ff, d_model)\n",
    "\n",
    "        # Optional Dropout (not mentioned in the paper)\n",
    "        self.dropout = nn.Dropout(0.1)\n",
    "\n",
    "    def forward(self, x):\n",
    "        return self.w_2(self.dropout(torch.relu(self.w_1(x))))"
   ]
  },
  {
   "cell_type": "markdown",
   "metadata": {},
   "source": [
    "## Attention Layer"
   ]
  },
  {
   "cell_type": "code",
   "execution_count": 6,
   "metadata": {
    "collapsed": false,
    "jupyter": {
     "outputs_hidden": false
    }
   },
   "outputs": [],
   "source": [
    "class ScaledDotProductAttention(nn.Module):\n",
    "    def __init__(self, d_head):\n",
    "        super(ScaledDotProductAttention, self).__init__()\n",
    "\n",
    "        self.d_head = d_head\n",
    "\n",
    "        # Optional dropout (not mentioned in the paper)\n",
    "        self.attention_dropout = nn.Dropout(p=0.1)\n",
    "\n",
    "    def forward(self, q, k, v, mask=None):\n",
    "        # q, k, v dims: (batch_size, n_heads, seq_len, d_head)\n",
    "\n",
    "        attention_weights = torch.matmul(q, k.transpose(-2, -1))  # (batch_size, n_heads, seq_len, seq_len)\n",
    "        scaled_attention_weights = attention_weights / math.sqrt(self.d_head)  # (batch_size, n_heads, seq_len, seq_len)\n",
    "\n",
    "        if mask is not None:\n",
    "            scaled_attention_weights = scaled_attention_weights.masked_fill(mask == 0, float('-inf')) # (batch_size, n_heads, seq_len, seq_len)\n",
    "\n",
    "        # Apply softmax over the last dimension which corresponds to attention weights for a key\n",
    "        scaled_attention_weights = nn.functional.softmax(scaled_attention_weights, dim=-1) # (batch_size, n_heads, seq_len, seq_len)\n",
    "\n",
    "        # Optional dropout (not mentioned in the paper)\n",
    "        scaled_attention_weights = self.attention_dropout(scaled_attention_weights) # (batch_size, n_heads, seq_len, seq_len)\n",
    "\n",
    "        weighted_v = torch.matmul(scaled_attention_weights, v) # (batch_size, n_heads, seq_len, d_head)\n",
    "\n",
    "        return weighted_v"
   ]
  },
  {
   "cell_type": "markdown",
   "metadata": {},
   "source": [
    "## Multi-head Attention Layer"
   ]
  },
  {
   "cell_type": "code",
   "execution_count": 7,
   "metadata": {
    "collapsed": false,
    "jupyter": {
     "outputs_hidden": false
    }
   },
   "outputs": [],
   "source": [
    "class MultiHeadAttention(nn.Module):\n",
    "    def __init__(self, d_model, n_heads):\n",
    "        super(MultiHeadAttention, self).__init__()\n",
    "\n",
    "        self.n_heads= n_heads\n",
    "\n",
    "        assert d_model % n_heads == 0\n",
    "        self.d_head = d_model // n_heads\n",
    "\n",
    "        self.dot_product_attention_layer= ScaledDotProductAttention(self.d_head)\n",
    "\n",
    "        self.W_0 = nn.Linear(d_model, d_model)\n",
    "\n",
    "    def _split_into_heads(self, q,k,v): # (batch_size, seq_len, d_model)\n",
    "        q= q.view(q.size(0), q.size(1), self.n_heads, self.d_head) # (batch_size, seq_len, n_heads, d_head)\n",
    "        k= k.view(k.size(0), k.size(1), self.n_heads, self.d_head) # (batch_size, seq_len, n_heads, d_head)\n",
    "        v= v.view(v.size(0), v.size(1), self.n_heads, self.d_head) # (batch_size, seq_len, n_heads, d_head)\n",
    "\n",
    "        q= q.transpose(1,2) # (batch_size, n_heads, seq_len, d_head)\n",
    "        k= k.transpose(1,2) # (batch_size, n_heads, seq_len, d_head)\n",
    "        v= v.transpose(1,2) # (batch_size, n_heads, seq_len, d_head)\n",
    "\n",
    "        return q,k,v\n",
    "\n",
    "    def _concatenate_heads(self,attention_output):\n",
    "        attention_output = attention_output.transpose(1,2).contiguous() # (batch_size, seq_len, n_heads, d_head)\n",
    "        attention_output = attention_output.view(attention_output.size(0), attention_output.size(1), -1) # (batch_size, seq_len, n_heads * d_head)\n",
    "\n",
    "        return attention_output\n",
    "\n",
    "    def forward(self, q, k, v, mask=None):\n",
    "        q,k,v= self._split_into_heads(q,k,v) # (batch_size, n_heads, seq_len, d_head)\n",
    "        attention_output = self.dot_product_attention_layer(q, k, v, mask) # (batch_size, n_heads, seq_len, d_head)\n",
    "        attention_output = self._concatenate_heads(attention_output) # (batch_size, seq_len, n_heads * d_head)\n",
    "\n",
    "        attention_output = self.W_0(attention_output) # (batch_size, seq_len, d_model)\n",
    "\n",
    "        return attention_output"
   ]
  },
  {
   "cell_type": "markdown",
   "metadata": {},
   "source": [
    "## Encoder Block"
   ]
  },
  {
   "cell_type": "code",
   "execution_count": 8,
   "metadata": {
    "tags": []
   },
   "outputs": [],
   "source": [
    "class TransformerEncoderBlock(nn.Module):\n",
    "    def __init__(self, d_model, n_heads, d_ff, dropout_proba):\n",
    "        super(TransformerEncoderBlock, self).__init__()\n",
    "\n",
    "        self.W_q = nn.Linear(d_model, d_model)\n",
    "        self.W_k = nn.Linear(d_model, d_model)\n",
    "        self.W_v = nn.Linear(d_model, d_model)\n",
    "\n",
    "        self.mha_layer=MultiHeadAttention(d_model, n_heads)\n",
    "        self.dropout_layer_1=nn.Dropout(dropout_proba)\n",
    "        self.add_and_norm_layer_1 = AddAndNorm(d_model)\n",
    "\n",
    "        self.ffn_layer = PositionWiseFeedForwardNet(d_model, d_ff)\n",
    "        self.dropout_layer_2=nn.Dropout(dropout_proba)\n",
    "        self.add_and_norm_layer_2 = AddAndNorm(d_model)\n",
    "\n",
    "    def forward(self, x, mask):\n",
    "        # x dims: (batch_size, src_seq_len, d_model)\n",
    "        # mask dim: (batch_size, 1, 1, src_seq_len)\n",
    "\n",
    "        q = self.W_q(x) # (batch_size, src_seq_len, d_model)\n",
    "        k = self.W_k(x) # (batch_size, src_seq_len, d_model)\n",
    "        v = self.W_v(x) # (batch_size, src_seq_len, d_model)\n",
    "\n",
    "        mha_out = self.mha_layer(q, k, v, mask) # (batch_size, src_seq_len, d_model)\n",
    "        mha_out= self.dropout_layer_1(mha_out) # (batch_size, src_seq_len, d_model)\n",
    "        mha_out = self.add_and_norm_layer_1(x, mha_out) # (batch_size, src_seq_len, d_model)\n",
    "\n",
    "        ffn_out = self.ffn_layer(mha_out) # (batch_size, src_seq_len, d_model)\n",
    "        ffn_out= self.dropout_layer_2(ffn_out) # (batch_size, src_seq_len, d_model)\n",
    "        ffn_out = self.add_and_norm_layer_2(mha_out, ffn_out)  # (batch_size, src_seq_len, d_model)\n",
    "\n",
    "        return ffn_out"
   ]
  },
  {
   "cell_type": "markdown",
   "metadata": {},
   "source": [
    "## Decoder Block"
   ]
  },
  {
   "cell_type": "code",
   "execution_count": 9,
   "metadata": {
    "collapsed": false,
    "jupyter": {
     "outputs_hidden": false
    }
   },
   "outputs": [],
   "source": [
    "class TransformerDecoderBlock(nn.Module):\n",
    "    def __init__(self, d_model, n_heads, d_ff, dropout_proba):\n",
    "        super(TransformerDecoderBlock, self).__init__()\n",
    "\n",
    "        self.W_q_1 = nn.Linear(d_model, d_model)\n",
    "        self.W_k_1 = nn.Linear(d_model, d_model)\n",
    "        self.W_v_1 = nn.Linear(d_model, d_model)\n",
    "\n",
    "        self.mha_layer_1=MultiHeadAttention(d_model, n_heads)\n",
    "        self.dropout_layer_1=nn.Dropout(dropout_proba)\n",
    "        self.add_and_norm_1 = AddAndNorm(d_model)\n",
    "\n",
    "        self.W_q_2 = nn.Linear(d_model, d_model)\n",
    "        self.W_k_2 = nn.Linear(d_model, d_model)\n",
    "        self.W_v_2 = nn.Linear(d_model, d_model)\n",
    "\n",
    "        self.mha_layer_2=MultiHeadAttention(d_model, n_heads)\n",
    "        self.dropout_layer_2=nn.Dropout(dropout_proba)\n",
    "        self.add_and_norm_2 = AddAndNorm(d_model)\n",
    "\n",
    "        self.ffn_layer = PositionWiseFeedForwardNet(d_model, d_ff)\n",
    "        self.dropout_layer_3=nn.Dropout(dropout_proba)\n",
    "        self.add_and_norm_3 = AddAndNorm(d_model)\n",
    "\n",
    "    def forward(self, x, encoder_output, src_mask, trg_mask):\n",
    "        # x dims: (batch_size, trg_seq_len, d_model)\n",
    "        # encoder_output dims: (batch_size, src_seq_len, d_model)\n",
    "        # src_mask dim: (batch_size, 1, 1, src_seq_len)\n",
    "        # trg_mask dim: (batch_size, 1, trg_seq_len, trg_seq_len)\n",
    "\n",
    "        # 1st attention layer, trg_mask is used here\n",
    "        q_1 = self.W_q_1(x) # (batch_size, trg_seq_len, d_model)\n",
    "        k_1 = self.W_k_1(x) # (batch_size, trg_seq_len, d_model)\n",
    "        v_1 = self.W_v_1(x) # (batch_size, trg_seq_len, d_model)\n",
    "\n",
    "        mha_layer_1_out = self.mha_layer_1(q_1, k_1, v_1, trg_mask) # (batch_size, trg_seq_len, d_model)\n",
    "        mha_layer_1_out= self.dropout_layer_1(mha_layer_1_out) # (batch_size, trg_seq_len, d_model)\n",
    "        mha_layer_1_out = self.add_and_norm_1(mha_layer_1_out, x) # (batch_size, trg_seq_len, d_model)\n",
    "\n",
    "        # 2nd attention layer (encoder-devoder attention layer), src_mask is used here\n",
    "        q_2 = self.W_q_2(mha_layer_1_out) # (batch_size, trg_seq_len, d_model)\n",
    "        k_2 = self.W_k_2(encoder_output) # (batch_size, src_seq_len, d_model)\n",
    "        v_2 = self.W_v_2(encoder_output) # (batch_size, src_seq_len, d_model)\n",
    "\n",
    "        mha_layer_2_out = self.mha_layer_2(q_2, k_2, v_2, src_mask) # (batch_size, trg_seq_len, d_model)\n",
    "        mha_layer_2_out= self.dropout_layer_2(mha_layer_2_out) # (batch_size, trg_seq_len, d_model)\n",
    "        mha_layer_2_out = self.add_and_norm_2(mha_layer_2_out, mha_layer_1_out) # (batch_size, trg_seq_len, d_model)\n",
    "\n",
    "        # Position-wise feed forward\n",
    "        ffn_out = self.ffn_layer(mha_layer_2_out) # (batch_size, trg_seq_len, d_model)\n",
    "        ffn_out= self.dropout_layer_3(ffn_out) # (batch_size, trg_seq_len, d_model)\n",
    "        ffn_out = self.add_and_norm_3(ffn_out, mha_layer_2_out) # (batch_size, trg_seq_len, d_model)\n",
    "\n",
    "        return ffn_out"
   ]
  },
  {
   "cell_type": "markdown",
   "metadata": {},
   "source": [
    "## Encoder"
   ]
  },
  {
   "cell_type": "code",
   "execution_count": 10,
   "metadata": {
    "collapsed": false,
    "jupyter": {
     "outputs_hidden": false
    }
   },
   "outputs": [],
   "source": [
    "class TransformerEncoder(nn.Module):\n",
    "    def __init__(self, n_blocks, n_heads, d_model, d_ff, dropout_proba=0.1):\n",
    "        super(TransformerEncoder, self).__init__()\n",
    "\n",
    "        self.encoder_blocks=nn.ModuleList([TransformerEncoderBlock(d_model, n_heads, d_ff, dropout_proba) for _ in range(n_blocks)])\n",
    "\n",
    "    def forward(self, x, mask):\n",
    "        for encoder_block in self.encoder_blocks:\n",
    "            x = encoder_block(x, mask)\n",
    "        return x"
   ]
  },
  {
   "cell_type": "markdown",
   "metadata": {},
   "source": [
    "## Decoder"
   ]
  },
  {
   "cell_type": "code",
   "execution_count": 11,
   "metadata": {
    "collapsed": false,
    "jupyter": {
     "outputs_hidden": false
    }
   },
   "outputs": [],
   "source": [
    "class TransformerDecoder(nn.Module):\n",
    "    def __init__(self, n_blocks, n_heads, d_model, d_ff, dropout_proba):\n",
    "        super(TransformerDecoder, self).__init__()\n",
    "\n",
    "        self.decoder_blocks=nn.ModuleList([TransformerDecoderBlock(d_model, n_heads, d_ff, dropout_proba) for _ in range(n_blocks)])\n",
    "\n",
    "    def forward(self, x, encoder_output, src_mask, trg_mask):\n",
    "        for decoder_block in self.decoder_blocks:\n",
    "            x = decoder_block(x, encoder_output, src_mask, trg_mask)\n",
    "        return x"
   ]
  },
  {
   "cell_type": "markdown",
   "metadata": {},
   "source": [
    "## Transformer Model\n"
   ]
  },
  {
   "cell_type": "code",
   "execution_count": 12,
   "metadata": {
    "collapsed": false,
    "jupyter": {
     "outputs_hidden": false
    }
   },
   "outputs": [],
   "source": [
    "class TransformerEncoderDecoder(nn.Module):\n",
    "    def __init__(self,d_model, n_blocks, src_vocab_size, trg_vocab_size, n_heads, d_ff, dropout_proba):\n",
    "        super(TransformerEncoderDecoder, self).__init__()\n",
    "        self.dropout_proba = dropout_proba\n",
    "        self.d_model=d_model\n",
    "\n",
    "        # Encoder part\n",
    "        self.src_embedding = nn.Embedding(src_vocab_size, d_model)\n",
    "        self.src_pos_embedding= PositionalEncoding(d_model)\n",
    "        self.encoder= TransformerEncoder(n_blocks, n_heads, d_model, d_ff, dropout_proba)\n",
    "\n",
    "        # Decoder part\n",
    "        self.trg_embedding = nn.Embedding(trg_vocab_size, d_model)\n",
    "        self.trg_pos_embedding= PositionalEncoding(d_model)\n",
    "        self.decoder= TransformerDecoder(n_blocks, n_heads, d_model, d_ff, dropout_proba)\n",
    "\n",
    "        # Linear mapping to vocab size\n",
    "        self.linear = nn.Linear(d_model, trg_vocab_size)\n",
    "\n",
    "        # Switch to xavier initialization (shown to be beneficial)\n",
    "        self.init_with_xavier()\n",
    "\n",
    "        # Sharing weights between two embedding layers and the pre-softmax linear layer\n",
    "        self.src_embedding.weight = self.trg_embedding.weight\n",
    "        self.linear.weight = self.trg_embedding.weight\n",
    "\n",
    "    def encode(self, src_token_ids, src_mask):\n",
    "        # Encoder part\n",
    "        src_embeddings = self.src_embedding(src_token_ids) * math.sqrt(self.d_model) # (batch_size, src_seq_len, d_model)\n",
    "        src_embeddings = self.src_pos_embedding(src_embeddings) # (batch_size, src_seq_len, d_model)\n",
    "        encoder_outputs = self.encoder(src_embeddings, src_mask) # (batch_size, src_seq_len, d_model)\n",
    "\n",
    "        return encoder_outputs\n",
    "\n",
    "    def decode(self, trg_token_ids, encoder_outputs, src_mask, trg_mask):\n",
    "        # Decoder part\n",
    "        trg_embeddings = self.trg_embedding(trg_token_ids) * math.sqrt(self.d_model) # (batch_size, trg_seq_len, d_model)\n",
    "        trg_embeddings = self.trg_pos_embedding(trg_embeddings) # (batch_size, trg_seq_len, d_model)\n",
    "        decoder_outputs = self.decoder(trg_embeddings, encoder_outputs, src_mask, trg_mask) # (batch_size, trg_seq_len, d_model)\n",
    "\n",
    "        # Linear mapping to vocab size\n",
    "        linear_out = self.linear(decoder_outputs) # (batch_size, trg_seq_len, trg_vocab_size)\n",
    "\n",
    "        return linear_out\n",
    " \n",
    "    def forward(self, src_token_ids, trg_token_ids, src_mask, trg_mask):\n",
    "\n",
    "        encoder_outputs= self.encode(src_token_ids, src_mask) # (batch_size, src_seq_len, d_model)\n",
    "        decoder_outputs= self.decode(trg_token_ids, encoder_outputs, src_mask, trg_mask) # (batch_size, trg_seq_len, d_model)\n",
    "\n",
    "        return decoder_outputs\n",
    "\n",
    "    def init_with_xavier(self):\n",
    "        for name, p in self.named_parameters():\n",
    "            if p.dim() > 1:\n",
    "                nn.init.xavier_uniform_(p)"
   ]
  },
  {
   "cell_type": "markdown",
   "metadata": {},
   "source": [
    "## Prediction Model"
   ]
  },
  {
   "cell_type": "code",
   "execution_count": 13,
   "metadata": {
    "collapsed": false,
    "jupyter": {
     "outputs_hidden": false
    }
   },
   "outputs": [],
   "source": [
    "class SequencePredictionTransformer(nn.Module):\n",
    "    def __init__(self, d_model,n_blocks,src_vocab_size,trg_vocab_size,n_heads,d_ff, dropout_proba):\n",
    "        super(SequencePredictionTransformer, self).__init__()\n",
    "\n",
    "        self.transformer_encoder_decoder=TransformerEncoderDecoder(\n",
    "            d_model,\n",
    "            n_blocks,\n",
    "            src_vocab_size,\n",
    "            trg_vocab_size,\n",
    "            n_heads,\n",
    "            d_ff,\n",
    "            dropout_proba\n",
    "        )\n",
    "\n",
    "    def _get_pad_mask(self, token_ids, pad_idx=0):\n",
    "        pad_mask= (token_ids != pad_idx).unsqueeze(-2) # (batch_size, 1, seq_len)\n",
    "        return pad_mask.unsqueeze(1) # (batch_size, 1, 1, seq_len)\n",
    "\n",
    "    def _get_lookahead_mask(self, token_ids):\n",
    "        sz_b, len_s = token_ids.size()\n",
    "        subsequent_mask = (1 - torch.triu(torch.ones((1, len_s, len_s), device=token_ids.device), diagonal=1)).bool()\n",
    "        return subsequent_mask.unsqueeze(1)\n",
    "\n",
    "    def forward(self, src_token_ids, trg_token_ids):\n",
    "        \n",
    "        trg_token_ids=trg_token_ids[:, :-1] # shift right operation! (actually it's just cutting off the right-most element)\n",
    "        \n",
    "        # src_mask = self._get_pad_mask(src_token_ids) # (batch_size, 1, 1, src_seq_len)\n",
    "        # trg_mask = self._get_pad_mask(trg_token_ids) & self._get_lookahead_mask(trg_token_ids)  # (batch_size, 1, trg_seq_len, trg_seq_len)\n",
    "        trg_mask = self._get_lookahead_mask(trg_token_ids)\n",
    "\n",
    "        return self.transformer_encoder_decoder(src_token_ids, trg_token_ids, src_mask=None, trg_mask=trg_mask) # Dont need padding mask\n",
    "\n",
    "\n",
    "    def translate(self, sentence):\n",
    "\n",
    "        # Infer the device of the model\n",
    "        device = next(self.parameters()).device\n",
    "\n",
    "        # sanity check\n",
    "        if len(sentence) != (config['INPUT_ADDR_NUM']+1) * config['ADDR_CHUNKS']:\n",
    "            print(f\"You should provide {config['INPUT_ADDR_NUM']+1} addresses in a row as input.\\n\")\n",
    "\n",
    "        # Initialize target sequence with SOS token.\n",
    "        trg_token_ids=torch.LongTensor([sentence[-1]]).unsqueeze(0).to(device) # (1, 1)\n",
    "\n",
    "        # Obtain src mask\n",
    "        # src_mask=self._get_pad_mask(src_token_ids) # (batch_size, src_seq_len)\n",
    "\n",
    "        # with torch.no_grad():\n",
    "        encoder_output=self.transformer_encoder_decoder.encode(src_token_ids, src_mask=None) # (batch_size, src_seq_len, d_model)\n",
    "\n",
    "        while True:\n",
    "\n",
    "            # Obtain decoder output.\n",
    "            trg_mask=self._get_lookahead_mask(trg_token_ids)  # Can also be set to None but for my config I found this works better.\n",
    "            decoder_output=self.transformer_encoder_decoder.decode(trg_token_ids, encoder_output, src_mask, trg_mask)\n",
    "\n",
    "            # Identify token with highest probability.\n",
    "            softmax_output=nn.functional.log_softmax(decoder_output, dim=-1) # (batch_size, trg_seq_len, trg_vocab_size)\n",
    "            softmax_output_last=softmax_output[:, -1, :] # (batch_size, trg_vocab_size)\n",
    "            _, token_id=softmax_output_last.max(dim=-1) # (batch_size, trg_seq_len)\n",
    "\n",
    "            # Check if token is EOS or we reached the maximum number of tokens.\n",
    "            if token_id.item() == eos_id or trg_token_ids.size(1) == max_tokens:\n",
    "                trg_token_ids=torch.cat([trg_token_ids, token_id.unsqueeze(0)], dim=-1) # (batch_size, trg_seq_len+1)\n",
    "                break\n",
    "\n",
    "            # Add token to target sequence.\n",
    "            trg_token_ids=torch.cat([trg_token_ids, token_id.unsqueeze(0)], dim=-1) # (batch_size, trg_seq_len+1)\n",
    "\n",
    "        # Detokenize sentence.\n",
    "        decoded_output=tokenizer.decode(trg_token_ids.squeeze(0).detach().cpu().numpy(), skip_special_tokens=skip_special_tokens)\n",
    "\n",
    "        return decoded_output"
   ]
  },
  {
   "cell_type": "code",
   "execution_count": 14,
   "metadata": {
    "tags": []
   },
   "outputs": [
    {
     "name": "stdout",
     "output_type": "stream",
     "text": [
      "tensor([[60, 14,  9, 34, 84,  2, 84, 65, 34, 59],\n",
      "        [60, 88, 94, 89, 58, 72, 10, 26, 71, 42],\n",
      "        [ 7,  7, 29, 79, 13, 85, 42,  9, 25, 37],\n",
      "        [59, 67, 84, 76, 39, 48,  5, 31, 43,  4]])\n"
     ]
    },
    {
     "data": {
      "text/plain": [
       "tensor([[[[ True, False, False, False, False, False, False, False, False, False],\n",
       "          [ True,  True, False, False, False, False, False, False, False, False],\n",
       "          [ True,  True,  True, False, False, False, False, False, False, False],\n",
       "          [ True,  True,  True,  True, False, False, False, False, False, False],\n",
       "          [ True,  True,  True,  True,  True, False, False, False, False, False],\n",
       "          [ True,  True,  True,  True,  True,  True, False, False, False, False],\n",
       "          [ True,  True,  True,  True,  True,  True,  True, False, False, False],\n",
       "          [ True,  True,  True,  True,  True,  True,  True,  True, False, False],\n",
       "          [ True,  True,  True,  True,  True,  True,  True,  True,  True, False],\n",
       "          [ True,  True,  True,  True,  True,  True,  True,  True,  True,  True]]]])"
      ]
     },
     "execution_count": 14,
     "metadata": {},
     "output_type": "execute_result"
    }
   ],
   "source": [
    "# Test of look-ahead masks\n",
    "test = torch.randint(0, 100, (4, 10))\n",
    "def _get_lookahead_mask(token_ids):\n",
    "    sz_b, len_s = token_ids.size()\n",
    "    subsequent_mask = (1 - torch.triu(torch.ones((1, len_s, len_s), device=token_ids.device), diagonal=1)).bool()\n",
    "    return subsequent_mask.unsqueeze(1)\n",
    "print(test)\n",
    "_get_lookahead_mask(test)"
   ]
  },
  {
   "cell_type": "markdown",
   "metadata": {},
   "source": [
    "## Training Initialization"
   ]
  },
  {
   "cell_type": "code",
   "execution_count": 28,
   "metadata": {
    "collapsed": false,
    "jupyter": {
     "outputs_hidden": false
    }
   },
   "outputs": [],
   "source": [
    "class CustomScheduler():\n",
    "\n",
    "    def __init__(self, optimizer, d_model, n_warmup_steps=4000):\n",
    "        self.optimizer = optimizer\n",
    "        self.d_model = d_model\n",
    "        self.n_warmup_steps = n_warmup_steps\n",
    "        self.cur_step = 0\n",
    "        self.cur_lr=None\n",
    "\n",
    "        # Init LR right away\n",
    "        self.step()\n",
    "\n",
    "    def step(self):\n",
    "        self.cur_step += 1\n",
    "        self.cur_lr=self._get_lr()\n",
    "\n",
    "        for p in self.optimizer.param_groups:\n",
    "            p['lr'] = self.cur_lr\n",
    "\n",
    "    def _get_lr(self):\n",
    "        return self.d_model**(-0.5) * min(self.cur_step**(-0.5), self.cur_step*self.n_warmup_steps**(-1.5))\n",
    "\n",
    "    def get_last_lr(self):\n",
    "        return [group['lr'] for group in self.optimizer.param_groups]\n",
    "\n",
    "    def zero_grad(self):\n",
    "        self.optimizer.zero_grad()"
   ]
  },
  {
   "cell_type": "code",
   "execution_count": 29,
   "metadata": {
    "collapsed": false,
    "jupyter": {
     "outputs_hidden": false
    }
   },
   "outputs": [
    {
     "name": "stdout",
     "output_type": "stream",
     "text": [
      "Using device cuda:0\n"
     ]
    }
   ],
   "source": [
    "device = torch.device(\"cuda:0\" if torch.cuda.is_available() else \"cpu\")\n",
    "print(f\"Using device {device}\")"
   ]
  },
  {
   "cell_type": "code",
   "execution_count": 30,
   "metadata": {
    "collapsed": true,
    "jupyter": {
     "outputs_hidden": true
    },
    "tags": []
   },
   "outputs": [
    {
     "data": {
      "text/plain": [
       "SequencePredictionTransformer(\n",
       "  (transformer_encoder_decoder): TransformerEncoderDecoder(\n",
       "    (src_embedding): Embedding(64, 512)\n",
       "    (src_pos_embedding): PositionalEncoding(\n",
       "      (dropout): Dropout(p=0.1, inplace=False)\n",
       "    )\n",
       "    (encoder): TransformerEncoder(\n",
       "      (encoder_blocks): ModuleList(\n",
       "        (0): TransformerEncoderBlock(\n",
       "          (W_q): Linear(in_features=512, out_features=512, bias=True)\n",
       "          (W_k): Linear(in_features=512, out_features=512, bias=True)\n",
       "          (W_v): Linear(in_features=512, out_features=512, bias=True)\n",
       "          (mha_layer): MultiHeadAttention(\n",
       "            (dot_product_attention_layer): ScaledDotProductAttention(\n",
       "              (attention_dropout): Dropout(p=0.1, inplace=False)\n",
       "            )\n",
       "            (W_0): Linear(in_features=512, out_features=512, bias=True)\n",
       "          )\n",
       "          (dropout_layer_1): Dropout(p=0.1, inplace=False)\n",
       "          (add_and_norm_layer_1): AddAndNorm(\n",
       "            (layer_norm): LayerNorm((512,), eps=1e-05, elementwise_affine=True)\n",
       "          )\n",
       "          (ffn_layer): PositionWiseFeedForwardNet(\n",
       "            (w_1): Linear(in_features=512, out_features=2048, bias=True)\n",
       "            (w_2): Linear(in_features=2048, out_features=512, bias=True)\n",
       "            (dropout): Dropout(p=0.1, inplace=False)\n",
       "          )\n",
       "          (dropout_layer_2): Dropout(p=0.1, inplace=False)\n",
       "          (add_and_norm_layer_2): AddAndNorm(\n",
       "            (layer_norm): LayerNorm((512,), eps=1e-05, elementwise_affine=True)\n",
       "          )\n",
       "        )\n",
       "        (1): TransformerEncoderBlock(\n",
       "          (W_q): Linear(in_features=512, out_features=512, bias=True)\n",
       "          (W_k): Linear(in_features=512, out_features=512, bias=True)\n",
       "          (W_v): Linear(in_features=512, out_features=512, bias=True)\n",
       "          (mha_layer): MultiHeadAttention(\n",
       "            (dot_product_attention_layer): ScaledDotProductAttention(\n",
       "              (attention_dropout): Dropout(p=0.1, inplace=False)\n",
       "            )\n",
       "            (W_0): Linear(in_features=512, out_features=512, bias=True)\n",
       "          )\n",
       "          (dropout_layer_1): Dropout(p=0.1, inplace=False)\n",
       "          (add_and_norm_layer_1): AddAndNorm(\n",
       "            (layer_norm): LayerNorm((512,), eps=1e-05, elementwise_affine=True)\n",
       "          )\n",
       "          (ffn_layer): PositionWiseFeedForwardNet(\n",
       "            (w_1): Linear(in_features=512, out_features=2048, bias=True)\n",
       "            (w_2): Linear(in_features=2048, out_features=512, bias=True)\n",
       "            (dropout): Dropout(p=0.1, inplace=False)\n",
       "          )\n",
       "          (dropout_layer_2): Dropout(p=0.1, inplace=False)\n",
       "          (add_and_norm_layer_2): AddAndNorm(\n",
       "            (layer_norm): LayerNorm((512,), eps=1e-05, elementwise_affine=True)\n",
       "          )\n",
       "        )\n",
       "        (2): TransformerEncoderBlock(\n",
       "          (W_q): Linear(in_features=512, out_features=512, bias=True)\n",
       "          (W_k): Linear(in_features=512, out_features=512, bias=True)\n",
       "          (W_v): Linear(in_features=512, out_features=512, bias=True)\n",
       "          (mha_layer): MultiHeadAttention(\n",
       "            (dot_product_attention_layer): ScaledDotProductAttention(\n",
       "              (attention_dropout): Dropout(p=0.1, inplace=False)\n",
       "            )\n",
       "            (W_0): Linear(in_features=512, out_features=512, bias=True)\n",
       "          )\n",
       "          (dropout_layer_1): Dropout(p=0.1, inplace=False)\n",
       "          (add_and_norm_layer_1): AddAndNorm(\n",
       "            (layer_norm): LayerNorm((512,), eps=1e-05, elementwise_affine=True)\n",
       "          )\n",
       "          (ffn_layer): PositionWiseFeedForwardNet(\n",
       "            (w_1): Linear(in_features=512, out_features=2048, bias=True)\n",
       "            (w_2): Linear(in_features=2048, out_features=512, bias=True)\n",
       "            (dropout): Dropout(p=0.1, inplace=False)\n",
       "          )\n",
       "          (dropout_layer_2): Dropout(p=0.1, inplace=False)\n",
       "          (add_and_norm_layer_2): AddAndNorm(\n",
       "            (layer_norm): LayerNorm((512,), eps=1e-05, elementwise_affine=True)\n",
       "          )\n",
       "        )\n",
       "      )\n",
       "    )\n",
       "    (trg_embedding): Embedding(64, 512)\n",
       "    (trg_pos_embedding): PositionalEncoding(\n",
       "      (dropout): Dropout(p=0.1, inplace=False)\n",
       "    )\n",
       "    (decoder): TransformerDecoder(\n",
       "      (decoder_blocks): ModuleList(\n",
       "        (0): TransformerDecoderBlock(\n",
       "          (W_q_1): Linear(in_features=512, out_features=512, bias=True)\n",
       "          (W_k_1): Linear(in_features=512, out_features=512, bias=True)\n",
       "          (W_v_1): Linear(in_features=512, out_features=512, bias=True)\n",
       "          (mha_layer_1): MultiHeadAttention(\n",
       "            (dot_product_attention_layer): ScaledDotProductAttention(\n",
       "              (attention_dropout): Dropout(p=0.1, inplace=False)\n",
       "            )\n",
       "            (W_0): Linear(in_features=512, out_features=512, bias=True)\n",
       "          )\n",
       "          (dropout_layer_1): Dropout(p=0.1, inplace=False)\n",
       "          (add_and_norm_1): AddAndNorm(\n",
       "            (layer_norm): LayerNorm((512,), eps=1e-05, elementwise_affine=True)\n",
       "          )\n",
       "          (W_q_2): Linear(in_features=512, out_features=512, bias=True)\n",
       "          (W_k_2): Linear(in_features=512, out_features=512, bias=True)\n",
       "          (W_v_2): Linear(in_features=512, out_features=512, bias=True)\n",
       "          (mha_layer_2): MultiHeadAttention(\n",
       "            (dot_product_attention_layer): ScaledDotProductAttention(\n",
       "              (attention_dropout): Dropout(p=0.1, inplace=False)\n",
       "            )\n",
       "            (W_0): Linear(in_features=512, out_features=512, bias=True)\n",
       "          )\n",
       "          (dropout_layer_2): Dropout(p=0.1, inplace=False)\n",
       "          (add_and_norm_2): AddAndNorm(\n",
       "            (layer_norm): LayerNorm((512,), eps=1e-05, elementwise_affine=True)\n",
       "          )\n",
       "          (ffn_layer): PositionWiseFeedForwardNet(\n",
       "            (w_1): Linear(in_features=512, out_features=2048, bias=True)\n",
       "            (w_2): Linear(in_features=2048, out_features=512, bias=True)\n",
       "            (dropout): Dropout(p=0.1, inplace=False)\n",
       "          )\n",
       "          (dropout_layer_3): Dropout(p=0.1, inplace=False)\n",
       "          (add_and_norm_3): AddAndNorm(\n",
       "            (layer_norm): LayerNorm((512,), eps=1e-05, elementwise_affine=True)\n",
       "          )\n",
       "        )\n",
       "        (1): TransformerDecoderBlock(\n",
       "          (W_q_1): Linear(in_features=512, out_features=512, bias=True)\n",
       "          (W_k_1): Linear(in_features=512, out_features=512, bias=True)\n",
       "          (W_v_1): Linear(in_features=512, out_features=512, bias=True)\n",
       "          (mha_layer_1): MultiHeadAttention(\n",
       "            (dot_product_attention_layer): ScaledDotProductAttention(\n",
       "              (attention_dropout): Dropout(p=0.1, inplace=False)\n",
       "            )\n",
       "            (W_0): Linear(in_features=512, out_features=512, bias=True)\n",
       "          )\n",
       "          (dropout_layer_1): Dropout(p=0.1, inplace=False)\n",
       "          (add_and_norm_1): AddAndNorm(\n",
       "            (layer_norm): LayerNorm((512,), eps=1e-05, elementwise_affine=True)\n",
       "          )\n",
       "          (W_q_2): Linear(in_features=512, out_features=512, bias=True)\n",
       "          (W_k_2): Linear(in_features=512, out_features=512, bias=True)\n",
       "          (W_v_2): Linear(in_features=512, out_features=512, bias=True)\n",
       "          (mha_layer_2): MultiHeadAttention(\n",
       "            (dot_product_attention_layer): ScaledDotProductAttention(\n",
       "              (attention_dropout): Dropout(p=0.1, inplace=False)\n",
       "            )\n",
       "            (W_0): Linear(in_features=512, out_features=512, bias=True)\n",
       "          )\n",
       "          (dropout_layer_2): Dropout(p=0.1, inplace=False)\n",
       "          (add_and_norm_2): AddAndNorm(\n",
       "            (layer_norm): LayerNorm((512,), eps=1e-05, elementwise_affine=True)\n",
       "          )\n",
       "          (ffn_layer): PositionWiseFeedForwardNet(\n",
       "            (w_1): Linear(in_features=512, out_features=2048, bias=True)\n",
       "            (w_2): Linear(in_features=2048, out_features=512, bias=True)\n",
       "            (dropout): Dropout(p=0.1, inplace=False)\n",
       "          )\n",
       "          (dropout_layer_3): Dropout(p=0.1, inplace=False)\n",
       "          (add_and_norm_3): AddAndNorm(\n",
       "            (layer_norm): LayerNorm((512,), eps=1e-05, elementwise_affine=True)\n",
       "          )\n",
       "        )\n",
       "        (2): TransformerDecoderBlock(\n",
       "          (W_q_1): Linear(in_features=512, out_features=512, bias=True)\n",
       "          (W_k_1): Linear(in_features=512, out_features=512, bias=True)\n",
       "          (W_v_1): Linear(in_features=512, out_features=512, bias=True)\n",
       "          (mha_layer_1): MultiHeadAttention(\n",
       "            (dot_product_attention_layer): ScaledDotProductAttention(\n",
       "              (attention_dropout): Dropout(p=0.1, inplace=False)\n",
       "            )\n",
       "            (W_0): Linear(in_features=512, out_features=512, bias=True)\n",
       "          )\n",
       "          (dropout_layer_1): Dropout(p=0.1, inplace=False)\n",
       "          (add_and_norm_1): AddAndNorm(\n",
       "            (layer_norm): LayerNorm((512,), eps=1e-05, elementwise_affine=True)\n",
       "          )\n",
       "          (W_q_2): Linear(in_features=512, out_features=512, bias=True)\n",
       "          (W_k_2): Linear(in_features=512, out_features=512, bias=True)\n",
       "          (W_v_2): Linear(in_features=512, out_features=512, bias=True)\n",
       "          (mha_layer_2): MultiHeadAttention(\n",
       "            (dot_product_attention_layer): ScaledDotProductAttention(\n",
       "              (attention_dropout): Dropout(p=0.1, inplace=False)\n",
       "            )\n",
       "            (W_0): Linear(in_features=512, out_features=512, bias=True)\n",
       "          )\n",
       "          (dropout_layer_2): Dropout(p=0.1, inplace=False)\n",
       "          (add_and_norm_2): AddAndNorm(\n",
       "            (layer_norm): LayerNorm((512,), eps=1e-05, elementwise_affine=True)\n",
       "          )\n",
       "          (ffn_layer): PositionWiseFeedForwardNet(\n",
       "            (w_1): Linear(in_features=512, out_features=2048, bias=True)\n",
       "            (w_2): Linear(in_features=2048, out_features=512, bias=True)\n",
       "            (dropout): Dropout(p=0.1, inplace=False)\n",
       "          )\n",
       "          (dropout_layer_3): Dropout(p=0.1, inplace=False)\n",
       "          (add_and_norm_3): AddAndNorm(\n",
       "            (layer_norm): LayerNorm((512,), eps=1e-05, elementwise_affine=True)\n",
       "          )\n",
       "        )\n",
       "      )\n",
       "    )\n",
       "    (linear): Linear(in_features=512, out_features=64, bias=True)\n",
       "  )\n",
       ")"
      ]
     },
     "execution_count": 30,
     "metadata": {},
     "output_type": "execute_result"
    }
   ],
   "source": [
    "model = SequencePredictionTransformer(\n",
    "    d_model=config['D_MODEL'],\n",
    "    n_blocks=config['N_BLOCKS'],\n",
    "    src_vocab_size=config['VOCAB_SIZE'],\n",
    "    trg_vocab_size=config['VOCAB_SIZE'],\n",
    "    n_heads=config['N_HEADS'],\n",
    "    d_ff=config['D_FF'],\n",
    "    dropout_proba=config['DROPOUT_PROBA']\n",
    ")\n",
    "model.to(device)"
   ]
  },
  {
   "cell_type": "code",
   "execution_count": 31,
   "metadata": {
    "collapsed": false,
    "jupyter": {
     "outputs_hidden": false
    }
   },
   "outputs": [],
   "source": [
    "loss_func = nn.CrossEntropyLoss(ignore_index=0, label_smoothing=config['LABEL_SMOOTHING'], reduction='mean')\n",
    "optimizer = optim.Adam(model.parameters(), betas=config['BETAS'], eps=config['EPS'])\n",
    "scheduler=CustomScheduler(optimizer, config['D_MODEL'], config['N_WARMUP_STEPS'])"
   ]
  },
  {
   "cell_type": "markdown",
   "metadata": {
    "tags": []
   },
   "source": [
    "## Dataset Loading"
   ]
  },
  {
   "cell_type": "code",
   "execution_count": 66,
   "metadata": {
    "collapsed": false,
    "jupyter": {
     "outputs_hidden": false
    }
   },
   "outputs": [],
   "source": [
    "memory_access = np.loadtxt(\"train_o/training_ds.txt\", delimiter=\",\", dtype=str)"
   ]
  },
  {
   "cell_type": "code",
   "execution_count": 67,
   "metadata": {
    "collapsed": false,
    "jupyter": {
     "outputs_hidden": false
    }
   },
   "outputs": [],
   "source": [
    "data = {'addr':[], 'page_id':[], 'block_id':[], 'cache_hit':[]}\n",
    "for access in memory_access:\n",
    "    data['addr'].append(int(access[1]))\n",
    "    data['page_id'].append(int(access[3]))\n",
    "    data['block_id'].append(int(access[5]))\n",
    "    data['cache_hit'].append(int(access[7]))"
   ]
  },
  {
   "cell_type": "code",
   "execution_count": 68,
   "metadata": {},
   "outputs": [
    {
     "name": "stdout",
     "output_type": "stream",
     "text": [
      "168285\n"
     ]
    }
   ],
   "source": [
    "print(len(data['addr']))"
   ]
  },
  {
   "cell_type": "code",
   "execution_count": 69,
   "metadata": {
    "collapsed": false,
    "jupyter": {
     "outputs_hidden": false
    }
   },
   "outputs": [],
   "source": [
    "# check deltas (can omit this)\n",
    "delta = []\n",
    "block_delta = []\n",
    "page_delta = []\n",
    "for i in range(len(data['addr']) - 1):\n",
    "    delta.append(data['addr'][i+1] - data['addr'][i])\n",
    "    block_delta.append(data['block_id'][i+1] - data['block_id'][i])\n",
    "    page_delta.append(data['page_id'][i+1] - data['page_id'][i])"
   ]
  },
  {
   "cell_type": "code",
   "execution_count": 70,
   "metadata": {
    "scrolled": true,
    "tags": []
   },
   "outputs": [],
   "source": [
    "class memoryAccessDataset(Dataset):\n",
    "    \n",
    "    def __init__(self, memory_access, input_addr_num=16, output_addr_num=4):\n",
    "        self.dataset_input = []\n",
    "        self.dataset_target = []\n",
    "        for i in range(len(memory_access) - (input_addr_num + output_addr_num)):\n",
    "            input_seq = []\n",
    "            target_seq = []\n",
    "            for j in range(input_addr_num):\n",
    "                input_seq.extend(self.split_address(memory_access[i+j]))\n",
    "            for j in range(output_addr_num):\n",
    "                target_seq.extend(self.split_address(memory_access[i+input_addr_num+j]))\n",
    "            self.dataset_input.append(input_seq)\n",
    "            self.dataset_target.append(target_seq)\n",
    "        \n",
    "    def split_address(self, addr): # split an address into 6-bit chunks\n",
    "\n",
    "        split_addr = []\n",
    "        addr = addr >> 6\n",
    "\n",
    "        for i in range(config['ADDR_CHUNKS']): # try ADDR_CHUNKS=5 to eliminate the zeros\n",
    "            split_addr.append(addr & 0x3F)\n",
    "            addr = addr >> 6\n",
    "\n",
    "        return split_addr\n",
    "    \n",
    "    def __len__(self):\n",
    "        return len(self.dataset_input)\n",
    "    \n",
    "    def __getitem__(self, idx):\n",
    "        src = self.dataset_input[idx]\n",
    "        trg = self.dataset_target[idx]\n",
    "        \n",
    "        return (torch.tensor(src), torch.tensor(trg))"
   ]
  },
  {
   "cell_type": "code",
   "execution_count": 71,
   "metadata": {},
   "outputs": [],
   "source": [
    "# create Datasets\n",
    "all_ds = memoryAccessDataset(data['addr'], config['INPUT_ADDR_NUM'], config['OUTPUT_ADDR_NUM'])\n",
    "train_size = int(0.7 * len(all_ds))\n",
    "val_size = int(0.2 * len(all_ds))\n",
    "test_size = len(all_ds) - train_size - val_size\n",
    "train_ds, val_ds, test_ds = torch.utils.data.random_split(all_ds, [train_size, val_size, test_size])"
   ]
  },
  {
   "cell_type": "code",
   "execution_count": 72,
   "metadata": {},
   "outputs": [
    {
     "data": {
      "text/plain": [
       "117785"
      ]
     },
     "execution_count": 72,
     "metadata": {},
     "output_type": "execute_result"
    }
   ],
   "source": [
    "train_size"
   ]
  },
  {
   "cell_type": "code",
   "execution_count": 73,
   "metadata": {},
   "outputs": [],
   "source": [
    "# create DataLoader\n",
    "train_dl = DataLoader(train_ds, batch_size=config['BATCH_SIZE'], pin_memory=True)\n",
    "val_dl = DataLoader(val_ds, batch_size=config['BATCH_SIZE'], pin_memory=True)\n",
    "test_dl = DataLoader(test_ds, batch_size=config['BATCH_SIZE'], pin_memory=True)"
   ]
  },
  {
   "cell_type": "markdown",
   "metadata": {
    "tags": []
   },
   "source": [
    "## Training"
   ]
  },
  {
   "cell_type": "code",
   "execution_count": 34,
   "metadata": {},
   "outputs": [
    {
     "name": "stdout",
     "output_type": "stream",
     "text": [
      "pred size:  torch.Size([48, 19, 64])\n",
      "yb size:  torch.Size([48, 20])\n"
     ]
    }
   ],
   "source": [
    "for batch in train_dl:\n",
    "    xb,yb=batch\n",
    "    xb,yb =xb.to(device),yb.to(device)\n",
    "    pred = model(xb, yb)\n",
    "    print('pred size: ', pred.size()) # (batch_size, trg_seq_len, trg_vocab_size)\n",
    "    print('yb size: ', yb.size())  # (batch_size, trg_seq_len)\n",
    "    break"
   ]
  },
  {
   "cell_type": "code",
   "execution_count": 35,
   "metadata": {},
   "outputs": [
    {
     "name": "stdout",
     "output_type": "stream",
     "text": [
      "torch.Size([912, 64])\n",
      "torch.Size([912])\n"
     ]
    }
   ],
   "source": [
    "pred_ = pred.reshape(-1, pred.size(-1))\n",
    "yb_ = yb[:, 1:].contiguous().view(-1)\n",
    "print(pred_.size())\n",
    "print(yb_.size())"
   ]
  },
  {
   "cell_type": "code",
   "execution_count": 36,
   "metadata": {},
   "outputs": [
    {
     "data": {
      "text/plain": [
       "tensor(1.9185, device='cuda:0', grad_fn=<AddBackward0>)"
      ]
     },
     "execution_count": 36,
     "metadata": {},
     "output_type": "execute_result"
    }
   ],
   "source": [
    "loss_func(pred_, yb_)"
   ]
  },
  {
   "cell_type": "code",
   "execution_count": 45,
   "metadata": {},
   "outputs": [],
   "source": [
    "torch.manual_seed(0)\n",
    "random.seed(0)\n",
    "np.random.seed(0)"
   ]
  },
  {
   "cell_type": "markdown",
   "metadata": {},
   "source": [
    "### Train from beginning"
   ]
  },
  {
   "cell_type": "code",
   "execution_count": 62,
   "metadata": {
    "tags": []
   },
   "outputs": [
    {
     "name": "stderr",
     "output_type": "stream",
     "text": [
      "[Epoch   1/100]: 100%|████████████████████████████████████████████████████| 69986/69986 [02:16<00:00, 511.44it/s, train loss=tensor(4.2317), validation loss=tensor(3.9605)]\n"
     ]
    },
    {
     "name": "stdout",
     "output_type": "stream",
     "text": [
      "Train Loss: 4.231722354888916, Validation Loss: 3.960466146469116\n"
     ]
    },
    {
     "name": "stderr",
     "output_type": "stream",
     "text": [
      "[Epoch   2/100]: 100%|████████████████████████████████████████████████████| 69986/69986 [02:16<00:00, 512.99it/s, train loss=tensor(3.9473), validation loss=tensor(3.8188)]\n"
     ]
    },
    {
     "name": "stdout",
     "output_type": "stream",
     "text": [
      "Train Loss: 3.9473068714141846, Validation Loss: 3.81884765625\n"
     ]
    },
    {
     "name": "stderr",
     "output_type": "stream",
     "text": [
      "[Epoch   3/100]: 100%|████████████████████████████████████████████████████| 69986/69986 [02:16<00:00, 512.90it/s, train loss=tensor(3.7492), validation loss=tensor(3.4752)]\n"
     ]
    },
    {
     "name": "stdout",
     "output_type": "stream",
     "text": [
      "Train Loss: 3.7492263317108154, Validation Loss: 3.4751763343811035\n"
     ]
    },
    {
     "name": "stderr",
     "output_type": "stream",
     "text": [
      "[Epoch   4/100]: 100%|████████████████████████████████████████████████████| 69986/69986 [02:16<00:00, 512.50it/s, train loss=tensor(3.4656), validation loss=tensor(3.0967)]\n"
     ]
    },
    {
     "name": "stdout",
     "output_type": "stream",
     "text": [
      "Train Loss: 3.465618133544922, Validation Loss: 3.096684455871582\n"
     ]
    },
    {
     "name": "stderr",
     "output_type": "stream",
     "text": [
      "[Epoch   5/100]: 100%|████████████████████████████████████████████████████| 69986/69986 [02:16<00:00, 512.35it/s, train loss=tensor(3.1138), validation loss=tensor(2.6830)]\n"
     ]
    },
    {
     "name": "stdout",
     "output_type": "stream",
     "text": [
      "Train Loss: 3.113848924636841, Validation Loss: 2.6830151081085205\n"
     ]
    },
    {
     "name": "stderr",
     "output_type": "stream",
     "text": [
      "[Epoch   6/100]: 100%|████████████████████████████████████████████████████| 69986/69986 [02:16<00:00, 511.68it/s, train loss=tensor(2.7507), validation loss=tensor(2.4194)]\n"
     ]
    },
    {
     "name": "stdout",
     "output_type": "stream",
     "text": [
      "Train Loss: 2.7507405281066895, Validation Loss: 2.4193758964538574\n"
     ]
    },
    {
     "name": "stderr",
     "output_type": "stream",
     "text": [
      "[Epoch   7/100]: 100%|████████████████████████████████████████████████████| 69986/69986 [02:16<00:00, 512.03it/s, train loss=tensor(2.4841), validation loss=tensor(2.2506)]\n"
     ]
    },
    {
     "name": "stdout",
     "output_type": "stream",
     "text": [
      "Train Loss: 2.4840939044952393, Validation Loss: 2.2506260871887207\n"
     ]
    },
    {
     "name": "stderr",
     "output_type": "stream",
     "text": [
      "[Epoch   8/100]: 100%|████████████████████████████████████████████████████| 69986/69986 [02:15<00:00, 516.72it/s, train loss=tensor(2.3035), validation loss=tensor(2.1375)]\n"
     ]
    },
    {
     "name": "stdout",
     "output_type": "stream",
     "text": [
      "Train Loss: 2.3035037517547607, Validation Loss: 2.137507200241089\n"
     ]
    },
    {
     "name": "stderr",
     "output_type": "stream",
     "text": [
      "[Epoch   9/100]: 100%|████████████████████████████████████████████████████| 69986/69986 [02:15<00:00, 516.67it/s, train loss=tensor(2.1721), validation loss=tensor(2.0338)]\n"
     ]
    },
    {
     "name": "stdout",
     "output_type": "stream",
     "text": [
      "Train Loss: 2.1720643043518066, Validation Loss: 2.033812999725342\n"
     ]
    },
    {
     "name": "stderr",
     "output_type": "stream",
     "text": [
      "[Epoch  10/100]: 100%|████████████████████████████████████████████████████| 69986/69986 [02:15<00:00, 516.99it/s, train loss=tensor(2.0590), validation loss=tensor(1.9396)]\n"
     ]
    },
    {
     "name": "stdout",
     "output_type": "stream",
     "text": [
      "Train Loss: 2.0589590072631836, Validation Loss: 1.9396432638168335\n"
     ]
    },
    {
     "name": "stderr",
     "output_type": "stream",
     "text": [
      "[Epoch  11/100]: 100%|████████████████████████████████████████████████████| 69986/69986 [02:15<00:00, 517.80it/s, train loss=tensor(1.9569), validation loss=tensor(1.8516)]\n"
     ]
    },
    {
     "name": "stdout",
     "output_type": "stream",
     "text": [
      "Train Loss: 1.9568997621536255, Validation Loss: 1.8515514135360718\n"
     ]
    },
    {
     "name": "stderr",
     "output_type": "stream",
     "text": [
      "[Epoch  12/100]: 100%|████████████████████████████████████████████████████| 69986/69986 [02:15<00:00, 517.68it/s, train loss=tensor(1.8677), validation loss=tensor(1.7762)]\n"
     ]
    },
    {
     "name": "stdout",
     "output_type": "stream",
     "text": [
      "Train Loss: 1.8677469491958618, Validation Loss: 1.7761598825454712\n"
     ]
    },
    {
     "name": "stderr",
     "output_type": "stream",
     "text": [
      "[Epoch  13/100]: 100%|████████████████████████████████████████████████████| 69986/69986 [02:14<00:00, 518.42it/s, train loss=tensor(1.7839), validation loss=tensor(1.7071)]\n"
     ]
    },
    {
     "name": "stdout",
     "output_type": "stream",
     "text": [
      "Train Loss: 1.7839223146438599, Validation Loss: 1.7070775032043457\n"
     ]
    },
    {
     "name": "stderr",
     "output_type": "stream",
     "text": [
      "[Epoch  14/100]: 100%|████████████████████████████████████████████████████| 69986/69986 [02:14<00:00, 518.72it/s, train loss=tensor(1.7122), validation loss=tensor(1.6507)]\n"
     ]
    },
    {
     "name": "stdout",
     "output_type": "stream",
     "text": [
      "Train Loss: 1.7122169733047485, Validation Loss: 1.6507112979888916\n"
     ]
    },
    {
     "name": "stderr",
     "output_type": "stream",
     "text": [
      "[Epoch  15/100]: 100%|████████████████████████████████████████████████████| 69986/69986 [02:16<00:00, 513.45it/s, train loss=tensor(1.6475), validation loss=tensor(1.5950)]\n"
     ]
    },
    {
     "name": "stdout",
     "output_type": "stream",
     "text": [
      "Train Loss: 1.6475168466567993, Validation Loss: 1.5950411558151245\n"
     ]
    },
    {
     "name": "stderr",
     "output_type": "stream",
     "text": [
      "[Epoch  16/100]: 100%|████████████████████████████████████████████████████| 69986/69986 [02:15<00:00, 514.66it/s, train loss=tensor(1.5908), validation loss=tensor(1.5550)]\n"
     ]
    },
    {
     "name": "stdout",
     "output_type": "stream",
     "text": [
      "Train Loss: 1.5907725095748901, Validation Loss: 1.5550438165664673\n"
     ]
    },
    {
     "name": "stderr",
     "output_type": "stream",
     "text": [
      "[Epoch  17/100]: 100%|████████████████████████████████████████████████████| 69986/69986 [02:16<00:00, 514.56it/s, train loss=tensor(1.5379), validation loss=tensor(1.5158)]\n"
     ]
    },
    {
     "name": "stdout",
     "output_type": "stream",
     "text": [
      "Train Loss: 1.5378968715667725, Validation Loss: 1.51582932472229\n"
     ]
    },
    {
     "name": "stderr",
     "output_type": "stream",
     "text": [
      "[Epoch  18/100]: 100%|████████████████████████████████████████████████████| 69986/69986 [02:16<00:00, 514.43it/s, train loss=tensor(1.4907), validation loss=tensor(1.4857)]\n"
     ]
    },
    {
     "name": "stdout",
     "output_type": "stream",
     "text": [
      "Train Loss: 1.4906965494155884, Validation Loss: 1.4857491254806519\n"
     ]
    },
    {
     "name": "stderr",
     "output_type": "stream",
     "text": [
      "[Epoch  19/100]: 100%|████████████████████████████████████████████████████| 69986/69986 [02:15<00:00, 514.62it/s, train loss=tensor(1.4478), validation loss=tensor(1.4446)]\n"
     ]
    },
    {
     "name": "stdout",
     "output_type": "stream",
     "text": [
      "Train Loss: 1.4478203058242798, Validation Loss: 1.4445950984954834\n"
     ]
    },
    {
     "name": "stderr",
     "output_type": "stream",
     "text": [
      "[Epoch  20/100]: 100%|████████████████████████████████████████████████████| 69986/69986 [02:15<00:00, 558.90it/s, train loss=tensor(1.4099), validation loss=tensor(1.4217)]"
     ]
    },
    {
     "data": {
      "image/png": "[encoded data removed]",
      "text/plain": [
       "<Figure size 640x480 with 1 Axes>"
      ]
     },
     "metadata": {},
     "output_type": "display_data"
    },
    {
     "name": "stderr",
     "output_type": "stream",
     "text": [
      "[Epoch  20/100]: 100%|████████████████████████████████████████████████████| 69986/69986 [02:16<00:00, 512.31it/s, train loss=tensor(1.4099), validation loss=tensor(1.4217)]\n"
     ]
    },
    {
     "name": "stdout",
     "output_type": "stream",
     "text": [
      "Train Loss: 1.409874439239502, Validation Loss: 1.4216976165771484\n"
     ]
    },
    {
     "name": "stderr",
     "output_type": "stream",
     "text": [
      "[Epoch  21/100]: 100%|████████████████████████████████████████████████████| 69986/69986 [02:14<00:00, 519.27it/s, train loss=tensor(1.3767), validation loss=tensor(1.3973)]\n"
     ]
    },
    {
     "name": "stdout",
     "output_type": "stream",
     "text": [
      "Train Loss: 1.376739263534546, Validation Loss: 1.3973065614700317\n"
     ]
    },
    {
     "name": "stderr",
     "output_type": "stream",
     "text": [
      "[Epoch  22/100]: 100%|████████████████████████████████████████████████████| 69986/69986 [02:14<00:00, 520.40it/s, train loss=tensor(1.3465), validation loss=tensor(1.3744)]\n"
     ]
    },
    {
     "name": "stdout",
     "output_type": "stream",
     "text": [
      "Train Loss: 1.3465020656585693, Validation Loss: 1.3743844032287598\n"
     ]
    },
    {
     "name": "stderr",
     "output_type": "stream",
     "text": [
      "[Epoch  23/100]: 100%|████████████████████████████████████████████████████| 69986/69986 [02:14<00:00, 520.00it/s, train loss=tensor(1.3137), validation loss=tensor(1.3465)]\n"
     ]
    },
    {
     "name": "stdout",
     "output_type": "stream",
     "text": [
      "Train Loss: 1.3137469291687012, Validation Loss: 1.3465361595153809\n"
     ]
    },
    {
     "name": "stderr",
     "output_type": "stream",
     "text": [
      "[Epoch  24/100]: 100%|████████████████████████████████████████████████████| 69986/69986 [02:14<00:00, 518.93it/s, train loss=tensor(1.2750), validation loss=tensor(1.3254)]\n"
     ]
    },
    {
     "name": "stdout",
     "output_type": "stream",
     "text": [
      "Train Loss: 1.2749931812286377, Validation Loss: 1.3254467248916626\n"
     ]
    },
    {
     "name": "stderr",
     "output_type": "stream",
     "text": [
      "[Epoch  25/100]: 100%|████████████████████████████████████████████████████| 69986/69986 [02:14<00:00, 519.03it/s, train loss=tensor(1.2385), validation loss=tensor(1.2860)]\n"
     ]
    },
    {
     "name": "stdout",
     "output_type": "stream",
     "text": [
      "Train Loss: 1.23847496509552, Validation Loss: 1.285986304283142\n"
     ]
    },
    {
     "name": "stderr",
     "output_type": "stream",
     "text": [
      "[Epoch  26/100]: 100%|████████████████████████████████████████████████████| 69986/69986 [02:14<00:00, 518.64it/s, train loss=tensor(1.2057), validation loss=tensor(1.2649)]\n"
     ]
    },
    {
     "name": "stdout",
     "output_type": "stream",
     "text": [
      "Train Loss: 1.2056865692138672, Validation Loss: 1.2648636102676392\n"
     ]
    },
    {
     "name": "stderr",
     "output_type": "stream",
     "text": [
      "[Epoch  27/100]: 100%|████████████████████████████████████████████████████| 69986/69986 [02:14<00:00, 519.09it/s, train loss=tensor(1.1748), validation loss=tensor(1.2396)]\n"
     ]
    },
    {
     "name": "stdout",
     "output_type": "stream",
     "text": [
      "Train Loss: 1.1747658252716064, Validation Loss: 1.239624261856079\n"
     ]
    },
    {
     "name": "stderr",
     "output_type": "stream",
     "text": [
      "[Epoch  28/100]: 100%|████████████████████████████████████████████████████| 69986/69986 [02:14<00:00, 518.81it/s, train loss=tensor(1.1479), validation loss=tensor(1.2149)]\n"
     ]
    },
    {
     "name": "stdout",
     "output_type": "stream",
     "text": [
      "Train Loss: 1.1479177474975586, Validation Loss: 1.2149158716201782\n"
     ]
    },
    {
     "name": "stderr",
     "output_type": "stream",
     "text": [
      "[Epoch  29/100]: 100%|████████████████████████████████████████████████████| 69986/69986 [02:14<00:00, 518.90it/s, train loss=tensor(1.1226), validation loss=tensor(1.2003)]\n"
     ]
    },
    {
     "name": "stdout",
     "output_type": "stream",
     "text": [
      "Train Loss: 1.122566819190979, Validation Loss: 1.2003227472305298\n"
     ]
    },
    {
     "name": "stderr",
     "output_type": "stream",
     "text": [
      "[Epoch  30/100]: 100%|████████████████████████████████████████████████████| 69986/69986 [02:15<00:00, 518.18it/s, train loss=tensor(1.0999), validation loss=tensor(1.1752)]\n"
     ]
    },
    {
     "name": "stdout",
     "output_type": "stream",
     "text": [
      "Train Loss: 1.0998589992523193, Validation Loss: 1.175203561782837\n"
     ]
    },
    {
     "name": "stderr",
     "output_type": "stream",
     "text": [
      "[Epoch  31/100]: 100%|████████████████████████████████████████████████████| 69986/69986 [02:14<00:00, 520.05it/s, train loss=tensor(1.0796), validation loss=tensor(1.1551)]\n"
     ]
    },
    {
     "name": "stdout",
     "output_type": "stream",
     "text": [
      "Train Loss: 1.0795769691467285, Validation Loss: 1.1550544500350952\n"
     ]
    },
    {
     "name": "stderr",
     "output_type": "stream",
     "text": [
      "[Epoch  32/100]: 100%|████████████████████████████████████████████████████| 69986/69986 [02:14<00:00, 520.65it/s, train loss=tensor(1.0607), validation loss=tensor(1.1412)]\n"
     ]
    },
    {
     "name": "stdout",
     "output_type": "stream",
     "text": [
      "Train Loss: 1.060684323310852, Validation Loss: 1.1412147283554077\n"
     ]
    },
    {
     "name": "stderr",
     "output_type": "stream",
     "text": [
      "[Epoch  33/100]: 100%|████████████████████████████████████████████████████| 69986/69986 [02:14<00:00, 522.19it/s, train loss=tensor(1.0440), validation loss=tensor(1.1273)]\n"
     ]
    },
    {
     "name": "stdout",
     "output_type": "stream",
     "text": [
      "Train Loss: 1.044020175933838, Validation Loss: 1.1273497343063354\n"
     ]
    },
    {
     "name": "stderr",
     "output_type": "stream",
     "text": [
      "[Epoch  34/100]: 100%|████████████████████████████████████████████████████| 69986/69986 [02:13<00:00, 522.62it/s, train loss=tensor(1.0292), validation loss=tensor(1.1165)]\n"
     ]
    },
    {
     "name": "stdout",
     "output_type": "stream",
     "text": [
      "Train Loss: 1.0292006731033325, Validation Loss: 1.1164978742599487\n"
     ]
    },
    {
     "name": "stderr",
     "output_type": "stream",
     "text": [
      "[Epoch  35/100]: 100%|████████████████████████████████████████████████████| 69986/69986 [02:13<00:00, 522.56it/s, train loss=tensor(1.0149), validation loss=tensor(1.1031)]\n"
     ]
    },
    {
     "name": "stdout",
     "output_type": "stream",
     "text": [
      "Train Loss: 1.0148662328720093, Validation Loss: 1.103075385093689\n"
     ]
    },
    {
     "name": "stderr",
     "output_type": "stream",
     "text": [
      "[Epoch  36/100]: 100%|████████████████████████████████████████████████████| 69986/69986 [02:13<00:00, 522.46it/s, train loss=tensor(1.0007), validation loss=tensor(1.0924)]\n"
     ]
    },
    {
     "name": "stdout",
     "output_type": "stream",
     "text": [
      "Train Loss: 1.0007140636444092, Validation Loss: 1.0924463272094727\n"
     ]
    },
    {
     "name": "stderr",
     "output_type": "stream",
     "text": [
      "[Epoch  37/100]: 100%|████████████████████████████████████████████████████| 69986/69986 [02:15<00:00, 518.22it/s, train loss=tensor(0.9892), validation loss=tensor(1.0830)]\n"
     ]
    },
    {
     "name": "stdout",
     "output_type": "stream",
     "text": [
      "Train Loss: 0.9891517162322998, Validation Loss: 1.083046793937683\n"
     ]
    },
    {
     "name": "stderr",
     "output_type": "stream",
     "text": [
      "[Epoch  38/100]: 100%|████████████████████████████████████████████████████| 69986/69986 [02:15<00:00, 515.08it/s, train loss=tensor(0.9775), validation loss=tensor(1.0720)]\n"
     ]
    },
    {
     "name": "stdout",
     "output_type": "stream",
     "text": [
      "Train Loss: 0.9775403738021851, Validation Loss: 1.071972131729126\n"
     ]
    },
    {
     "name": "stderr",
     "output_type": "stream",
     "text": [
      "[Epoch  39/100]: 100%|████████████████████████████████████████████████████| 69986/69986 [02:18<00:00, 505.51it/s, train loss=tensor(0.9670), validation loss=tensor(1.0636)]\n"
     ]
    },
    {
     "name": "stdout",
     "output_type": "stream",
     "text": [
      "Train Loss: 0.9670094847679138, Validation Loss: 1.0635594129562378\n"
     ]
    },
    {
     "name": "stderr",
     "output_type": "stream",
     "text": [
      "[Epoch  40/100]: 100%|████████████████████████████████████████████████████| 69986/69986 [02:15<00:00, 569.87it/s, train loss=tensor(0.9578), validation loss=tensor(1.0542)]"
     ]
    },
    {
     "data": {
      "image/png": "[encoded data removed]",
      "text/plain": [
       "<Figure size 640x480 with 1 Axes>"
      ]
     },
     "metadata": {},
     "output_type": "display_data"
    },
    {
     "name": "stderr",
     "output_type": "stream",
     "text": [
      "[Epoch  40/100]: 100%|████████████████████████████████████████████████████| 69986/69986 [02:15<00:00, 516.09it/s, train loss=tensor(0.9578), validation loss=tensor(1.0542)]\n"
     ]
    },
    {
     "name": "stdout",
     "output_type": "stream",
     "text": [
      "Train Loss: 0.9578117728233337, Validation Loss: 1.054213523864746\n"
     ]
    },
    {
     "name": "stderr",
     "output_type": "stream",
     "text": [
      "[Epoch  41/100]: 100%|████████████████████████████████████████████████████| 69986/69986 [02:14<00:00, 518.50it/s, train loss=tensor(0.9484), validation loss=tensor(1.0471)]\n"
     ]
    },
    {
     "name": "stdout",
     "output_type": "stream",
     "text": [
      "Train Loss: 0.9483919739723206, Validation Loss: 1.0471121072769165\n"
     ]
    },
    {
     "name": "stderr",
     "output_type": "stream",
     "text": [
      "[Epoch  42/100]: 100%|████████████████████████████████████████████████████| 69986/69986 [02:14<00:00, 518.91it/s, train loss=tensor(0.9392), validation loss=tensor(1.0380)]\n"
     ]
    },
    {
     "name": "stdout",
     "output_type": "stream",
     "text": [
      "Train Loss: 0.9392011761665344, Validation Loss: 1.0379908084869385\n"
     ]
    },
    {
     "name": "stderr",
     "output_type": "stream",
     "text": [
      "[Epoch  43/100]: 100%|████████████████████████████████████████████████████| 69986/69986 [02:14<00:00, 518.74it/s, train loss=tensor(0.9308), validation loss=tensor(1.0291)]\n"
     ]
    },
    {
     "name": "stdout",
     "output_type": "stream",
     "text": [
      "Train Loss: 0.9307616353034973, Validation Loss: 1.0290666818618774\n"
     ]
    },
    {
     "name": "stderr",
     "output_type": "stream",
     "text": [
      "[Epoch  44/100]: 100%|████████████████████████████████████████████████████| 69986/69986 [02:15<00:00, 516.76it/s, train loss=tensor(0.9228), validation loss=tensor(1.0220)]\n"
     ]
    },
    {
     "name": "stdout",
     "output_type": "stream",
     "text": [
      "Train Loss: 0.9227864742279053, Validation Loss: 1.0219733715057373\n"
     ]
    },
    {
     "name": "stderr",
     "output_type": "stream",
     "text": [
      "[Epoch  45/100]: 100%|████████████████████████████████████████████████████| 69986/69986 [02:15<00:00, 516.93it/s, train loss=tensor(0.9153), validation loss=tensor(1.0154)]\n"
     ]
    },
    {
     "name": "stdout",
     "output_type": "stream",
     "text": [
      "Train Loss: 0.9152836799621582, Validation Loss: 1.0154260396957397\n"
     ]
    },
    {
     "name": "stderr",
     "output_type": "stream",
     "text": [
      "[Epoch  46/100]: 100%|████████████████████████████████████████████████████| 69986/69986 [02:15<00:00, 515.27it/s, train loss=tensor(0.9088), validation loss=tensor(1.0097)]\n"
     ]
    },
    {
     "name": "stdout",
     "output_type": "stream",
     "text": [
      "Train Loss: 0.9088156223297119, Validation Loss: 1.009721040725708\n"
     ]
    },
    {
     "name": "stderr",
     "output_type": "stream",
     "text": [
      "[Epoch  47/100]: 100%|████████████████████████████████████████████████████| 69986/69986 [02:14<00:00, 519.90it/s, train loss=tensor(0.9017), validation loss=tensor(1.0031)]\n"
     ]
    },
    {
     "name": "stdout",
     "output_type": "stream",
     "text": [
      "Train Loss: 0.901703417301178, Validation Loss: 1.0031380653381348\n"
     ]
    },
    {
     "name": "stderr",
     "output_type": "stream",
     "text": [
      "[Epoch  48/100]: 100%|████████████████████████████████████████████████████| 69986/69986 [02:14<00:00, 519.70it/s, train loss=tensor(0.8955), validation loss=tensor(0.9966)]\n"
     ]
    },
    {
     "name": "stdout",
     "output_type": "stream",
     "text": [
      "Train Loss: 0.8955190777778625, Validation Loss: 0.9966176748275757\n"
     ]
    },
    {
     "name": "stderr",
     "output_type": "stream",
     "text": [
      "[Epoch  49/100]: 100%|████████████████████████████████████████████████████| 69986/69986 [02:14<00:00, 519.70it/s, train loss=tensor(0.8905), validation loss=tensor(0.9920)]\n"
     ]
    },
    {
     "name": "stdout",
     "output_type": "stream",
     "text": [
      "Train Loss: 0.8904951214790344, Validation Loss: 0.9919773936271667\n"
     ]
    },
    {
     "name": "stderr",
     "output_type": "stream",
     "text": [
      "[Epoch  50/100]: 100%|████████████████████████████████████████████████████| 69986/69986 [02:14<00:00, 519.30it/s, train loss=tensor(0.8845), validation loss=tensor(0.9885)]\n"
     ]
    },
    {
     "name": "stdout",
     "output_type": "stream",
     "text": [
      "Train Loss: 0.8845444917678833, Validation Loss: 0.9884762167930603\n"
     ]
    },
    {
     "name": "stderr",
     "output_type": "stream",
     "text": [
      "[Epoch  51/100]: 100%|████████████████████████████████████████████████████| 69986/69986 [02:14<00:00, 520.95it/s, train loss=tensor(0.8802), validation loss=tensor(0.9837)]\n"
     ]
    },
    {
     "name": "stdout",
     "output_type": "stream",
     "text": [
      "Train Loss: 0.8801949620246887, Validation Loss: 0.9837305545806885\n"
     ]
    },
    {
     "name": "stderr",
     "output_type": "stream",
     "text": [
      "[Epoch  52/100]: 100%|████████████████████████████████████████████████████| 69986/69986 [02:14<00:00, 521.95it/s, train loss=tensor(0.8754), validation loss=tensor(0.9813)]\n"
     ]
    },
    {
     "name": "stdout",
     "output_type": "stream",
     "text": [
      "Train Loss: 0.8754416704177856, Validation Loss: 0.9813202619552612\n"
     ]
    },
    {
     "name": "stderr",
     "output_type": "stream",
     "text": [
      "[Epoch  53/100]: 100%|████████████████████████████████████████████████████| 69986/69986 [02:13<00:00, 522.42it/s, train loss=tensor(0.8720), validation loss=tensor(0.9788)]\n"
     ]
    },
    {
     "name": "stdout",
     "output_type": "stream",
     "text": [
      "Train Loss: 0.8720439672470093, Validation Loss: 0.9787927269935608\n"
     ]
    },
    {
     "name": "stderr",
     "output_type": "stream",
     "text": [
      "[Epoch  54/100]: 100%|████████████████████████████████████████████████████| 69986/69986 [02:14<00:00, 522.02it/s, train loss=tensor(0.8671), validation loss=tensor(0.9747)]\n"
     ]
    },
    {
     "name": "stdout",
     "output_type": "stream",
     "text": [
      "Train Loss: 0.867119550704956, Validation Loss: 0.9746524095535278\n"
     ]
    },
    {
     "name": "stderr",
     "output_type": "stream",
     "text": [
      "[Epoch  55/100]: 100%|████████████████████████████████████████████████████| 69986/69986 [02:13<00:00, 522.44it/s, train loss=tensor(0.8635), validation loss=tensor(0.9713)]\n"
     ]
    },
    {
     "name": "stdout",
     "output_type": "stream",
     "text": [
      "Train Loss: 0.8634809851646423, Validation Loss: 0.9713127613067627\n"
     ]
    },
    {
     "name": "stderr",
     "output_type": "stream",
     "text": [
      "[Epoch  56/100]: 100%|████████████████████████████████████████████████████| 69986/69986 [02:14<00:00, 520.23it/s, train loss=tensor(0.8603), validation loss=tensor(0.9686)]\n"
     ]
    },
    {
     "name": "stdout",
     "output_type": "stream",
     "text": [
      "Train Loss: 0.8602749109268188, Validation Loss: 0.9685935378074646\n"
     ]
    },
    {
     "name": "stderr",
     "output_type": "stream",
     "text": [
      "[Epoch  57/100]: 100%|████████████████████████████████████████████████████| 69986/69986 [02:14<00:00, 522.24it/s, train loss=tensor(0.8565), validation loss=tensor(0.9687)]\n"
     ]
    },
    {
     "name": "stdout",
     "output_type": "stream",
     "text": [
      "Train Loss: 0.8564673066139221, Validation Loss: 0.9687489867210388\n"
     ]
    },
    {
     "name": "stderr",
     "output_type": "stream",
     "text": [
      "[Epoch  58/100]: 100%|████████████████████████████████████████████████████| 69986/69986 [02:13<00:00, 522.86it/s, train loss=tensor(0.8535), validation loss=tensor(0.9646)]\n"
     ]
    },
    {
     "name": "stdout",
     "output_type": "stream",
     "text": [
      "Train Loss: 0.8534930348396301, Validation Loss: 0.9646160006523132\n"
     ]
    },
    {
     "name": "stderr",
     "output_type": "stream",
     "text": [
      "[Epoch  59/100]: 100%|████████████████████████████████████████████████████| 69986/69986 [02:13<00:00, 522.93it/s, train loss=tensor(0.8500), validation loss=tensor(0.9611)]\n"
     ]
    },
    {
     "name": "stdout",
     "output_type": "stream",
     "text": [
      "Train Loss: 0.8499707579612732, Validation Loss: 0.9610800743103027\n"
     ]
    },
    {
     "name": "stderr",
     "output_type": "stream",
     "text": [
      "[Epoch  60/100]: 100%|████████████████████████████████████████████████████| 69986/69986 [02:13<00:00, 571.65it/s, train loss=tensor(0.8480), validation loss=tensor(0.9592)]"
     ]
    },
    {
     "data": {
      "image/png": "[encoded data removed]",
      "text/plain": [
       "<Figure size 640x480 with 1 Axes>"
      ]
     },
     "metadata": {},
     "output_type": "display_data"
    },
    {
     "name": "stderr",
     "output_type": "stream",
     "text": [
      "[Epoch  60/100]: 100%|████████████████████████████████████████████████████| 69986/69986 [02:14<00:00, 520.76it/s, train loss=tensor(0.8480), validation loss=tensor(0.9592)]\n"
     ]
    },
    {
     "name": "stdout",
     "output_type": "stream",
     "text": [
      "Train Loss: 0.8479673862457275, Validation Loss: 0.9591665267944336\n"
     ]
    },
    {
     "name": "stderr",
     "output_type": "stream",
     "text": [
      "[Epoch  61/100]: 100%|████████████████████████████████████████████████████| 69986/69986 [02:13<00:00, 522.85it/s, train loss=tensor(0.8449), validation loss=tensor(0.9585)]\n"
     ]
    },
    {
     "name": "stdout",
     "output_type": "stream",
     "text": [
      "Train Loss: 0.8448916673660278, Validation Loss: 0.9585309028625488\n"
     ]
    },
    {
     "name": "stderr",
     "output_type": "stream",
     "text": [
      "[Epoch  62/100]: 100%|████████████████████████████████████████████████████| 69986/69986 [02:13<00:00, 522.84it/s, train loss=tensor(0.8418), validation loss=tensor(0.9576)]\n"
     ]
    },
    {
     "name": "stdout",
     "output_type": "stream",
     "text": [
      "Train Loss: 0.8418460488319397, Validation Loss: 0.957587718963623\n"
     ]
    },
    {
     "name": "stderr",
     "output_type": "stream",
     "text": [
      "[Epoch  63/100]: 100%|████████████████████████████████████████████████████| 69986/69986 [02:13<00:00, 523.07it/s, train loss=tensor(0.8399), validation loss=tensor(0.9536)]\n"
     ]
    },
    {
     "name": "stdout",
     "output_type": "stream",
     "text": [
      "Train Loss: 0.8399189710617065, Validation Loss: 0.9536123275756836\n"
     ]
    },
    {
     "name": "stderr",
     "output_type": "stream",
     "text": [
      "[Epoch  64/100]: 100%|████████████████████████████████████████████████████| 69986/69986 [02:13<00:00, 522.85it/s, train loss=tensor(0.8379), validation loss=tensor(0.9527)]\n"
     ]
    },
    {
     "name": "stdout",
     "output_type": "stream",
     "text": [
      "Train Loss: 0.8378864526748657, Validation Loss: 0.9526792168617249\n"
     ]
    },
    {
     "name": "stderr",
     "output_type": "stream",
     "text": [
      "[Epoch  65/100]: 100%|████████████████████████████████████████████████████| 69986/69986 [02:13<00:00, 522.77it/s, train loss=tensor(0.8355), validation loss=tensor(0.9516)]\n"
     ]
    },
    {
     "name": "stdout",
     "output_type": "stream",
     "text": [
      "Train Loss: 0.835511326789856, Validation Loss: 0.9516017436981201\n"
     ]
    },
    {
     "name": "stderr",
     "output_type": "stream",
     "text": [
      "[Epoch  66/100]: 100%|████████████████████████████████████████████████████| 69986/69986 [02:14<00:00, 521.16it/s, train loss=tensor(0.8329), validation loss=tensor(0.9490)]\n"
     ]
    },
    {
     "name": "stdout",
     "output_type": "stream",
     "text": [
      "Train Loss: 0.8328894376754761, Validation Loss: 0.949026882648468\n"
     ]
    },
    {
     "name": "stderr",
     "output_type": "stream",
     "text": [
      "[Epoch  67/100]: 100%|████████████████████████████████████████████████████| 69986/69986 [02:14<00:00, 518.98it/s, train loss=tensor(0.8309), validation loss=tensor(0.9488)]\n"
     ]
    },
    {
     "name": "stdout",
     "output_type": "stream",
     "text": [
      "Train Loss: 0.8309075832366943, Validation Loss: 0.9488033056259155\n"
     ]
    },
    {
     "name": "stderr",
     "output_type": "stream",
     "text": [
      "[Epoch  68/100]: 100%|████████████████████████████████████████████████████| 69986/69986 [02:15<00:00, 518.29it/s, train loss=tensor(0.8292), validation loss=tensor(0.9488)]\n"
     ]
    },
    {
     "name": "stdout",
     "output_type": "stream",
     "text": [
      "Train Loss: 0.8291649222373962, Validation Loss: 0.9488179087638855\n"
     ]
    },
    {
     "name": "stderr",
     "output_type": "stream",
     "text": [
      "[Epoch  69/100]: 100%|████████████████████████████████████████████████████| 69986/69986 [02:14<00:00, 522.28it/s, train loss=tensor(0.8273), validation loss=tensor(0.9472)]\n"
     ]
    },
    {
     "name": "stdout",
     "output_type": "stream",
     "text": [
      "Train Loss: 0.8272961974143982, Validation Loss: 0.9471830129623413\n"
     ]
    },
    {
     "name": "stderr",
     "output_type": "stream",
     "text": [
      "[Epoch  70/100]: 100%|████████████████████████████████████████████████████| 69986/69986 [02:14<00:00, 521.18it/s, train loss=tensor(0.8257), validation loss=tensor(0.9435)]\n"
     ]
    },
    {
     "name": "stdout",
     "output_type": "stream",
     "text": [
      "Train Loss: 0.82569420337677, Validation Loss: 0.9435198903083801\n"
     ]
    },
    {
     "name": "stderr",
     "output_type": "stream",
     "text": [
      "[Epoch  71/100]: 100%|████████████████████████████████████████████████████| 69986/69986 [02:14<00:00, 521.05it/s, train loss=tensor(0.8238), validation loss=tensor(0.9426)]\n"
     ]
    },
    {
     "name": "stdout",
     "output_type": "stream",
     "text": [
      "Train Loss: 0.8237574100494385, Validation Loss: 0.9426472783088684\n"
     ]
    },
    {
     "name": "stderr",
     "output_type": "stream",
     "text": [
      "[Epoch  72/100]: 100%|████████████████████████████████████████████████████| 69986/69986 [02:14<00:00, 520.08it/s, train loss=tensor(0.8220), validation loss=tensor(0.9418)]\n"
     ]
    },
    {
     "name": "stdout",
     "output_type": "stream",
     "text": [
      "Train Loss: 0.8220362663269043, Validation Loss: 0.941783607006073\n"
     ]
    },
    {
     "name": "stderr",
     "output_type": "stream",
     "text": [
      "[Epoch  73/100]: 100%|████████████████████████████████████████████████████| 69986/69986 [02:15<00:00, 517.96it/s, train loss=tensor(0.8197), validation loss=tensor(0.9425)]\n"
     ]
    },
    {
     "name": "stdout",
     "output_type": "stream",
     "text": [
      "Train Loss: 0.819708526134491, Validation Loss: 0.9424834847450256\n"
     ]
    },
    {
     "name": "stderr",
     "output_type": "stream",
     "text": [
      "[Epoch  74/100]: 100%|████████████████████████████████████████████████████| 69986/69986 [02:13<00:00, 523.51it/s, train loss=tensor(0.8188), validation loss=tensor(0.9408)]\n"
     ]
    },
    {
     "name": "stdout",
     "output_type": "stream",
     "text": [
      "Train Loss: 0.8187621235847473, Validation Loss: 0.9408177137374878\n"
     ]
    },
    {
     "name": "stderr",
     "output_type": "stream",
     "text": [
      "[Epoch  75/100]: 100%|████████████████████████████████████████████████████| 69986/69986 [02:13<00:00, 523.18it/s, train loss=tensor(0.8170), validation loss=tensor(0.9374)]\n"
     ]
    },
    {
     "name": "stdout",
     "output_type": "stream",
     "text": [
      "Train Loss: 0.8169882297515869, Validation Loss: 0.9373641610145569\n"
     ]
    },
    {
     "name": "stderr",
     "output_type": "stream",
     "text": [
      "[Epoch  76/100]: 100%|████████████████████████████████████████████████████| 69986/69986 [02:13<00:00, 522.53it/s, train loss=tensor(0.8150), validation loss=tensor(0.9385)]\n"
     ]
    },
    {
     "name": "stdout",
     "output_type": "stream",
     "text": [
      "Train Loss: 0.8149973154067993, Validation Loss: 0.9385151863098145\n"
     ]
    },
    {
     "name": "stderr",
     "output_type": "stream",
     "text": [
      "[Epoch  77/100]: 100%|████████████████████████████████████████████████████| 69986/69986 [02:13<00:00, 522.53it/s, train loss=tensor(0.8137), validation loss=tensor(0.9376)]\n"
     ]
    },
    {
     "name": "stdout",
     "output_type": "stream",
     "text": [
      "Train Loss: 0.813712477684021, Validation Loss: 0.937636137008667\n"
     ]
    },
    {
     "name": "stderr",
     "output_type": "stream",
     "text": [
      "[Epoch  78/100]: 100%|████████████████████████████████████████████████████| 69986/69986 [02:13<00:00, 522.60it/s, train loss=tensor(0.8133), validation loss=tensor(0.9379)]\n"
     ]
    },
    {
     "name": "stdout",
     "output_type": "stream",
     "text": [
      "Train Loss: 0.8132614493370056, Validation Loss: 0.9379324316978455\n"
     ]
    },
    {
     "name": "stderr",
     "output_type": "stream",
     "text": [
      "[Epoch  79/100]: 100%|████████████████████████████████████████████████████| 69986/69986 [02:13<00:00, 523.29it/s, train loss=tensor(0.8113), validation loss=tensor(0.9351)]\n"
     ]
    },
    {
     "name": "stdout",
     "output_type": "stream",
     "text": [
      "Train Loss: 0.8113101124763489, Validation Loss: 0.9351266026496887\n"
     ]
    },
    {
     "name": "stderr",
     "output_type": "stream",
     "text": [
      "[Epoch  80/100]: 100%|████████████████████████████████████████████████████| 69986/69986 [02:13<00:00, 574.36it/s, train loss=tensor(0.8090), validation loss=tensor(0.9367)]"
     ]
    },
    {
     "data": {
      "image/png": "[encoded data removed]",
      "text/plain": [
       "<Figure size 640x480 with 1 Axes>"
      ]
     },
     "metadata": {},
     "output_type": "display_data"
    },
    {
     "name": "stderr",
     "output_type": "stream",
     "text": [
      "[Epoch  80/100]: 100%|████████████████████████████████████████████████████| 69986/69986 [02:14<00:00, 520.75it/s, train loss=tensor(0.8090), validation loss=tensor(0.9367)]\n"
     ]
    },
    {
     "name": "stdout",
     "output_type": "stream",
     "text": [
      "Train Loss: 0.8090212941169739, Validation Loss: 0.9366561770439148\n"
     ]
    },
    {
     "name": "stderr",
     "output_type": "stream",
     "text": [
      "[Epoch  81/100]: 100%|████████████████████████████████████████████████████| 69986/69986 [02:14<00:00, 520.70it/s, train loss=tensor(0.8085), validation loss=tensor(0.9330)]\n"
     ]
    },
    {
     "name": "stdout",
     "output_type": "stream",
     "text": [
      "Train Loss: 0.8084709048271179, Validation Loss: 0.9330175518989563\n"
     ]
    },
    {
     "name": "stderr",
     "output_type": "stream",
     "text": [
      "[Epoch  82/100]: 100%|████████████████████████████████████████████████████| 69986/69986 [02:14<00:00, 520.62it/s, train loss=tensor(0.8080), validation loss=tensor(0.9319)]\n"
     ]
    },
    {
     "name": "stdout",
     "output_type": "stream",
     "text": [
      "Train Loss: 0.8079617023468018, Validation Loss: 0.9318552613258362\n"
     ]
    },
    {
     "name": "stderr",
     "output_type": "stream",
     "text": [
      "[Epoch  83/100]: 100%|████████████████████████████████████████████████████| 69986/69986 [02:14<00:00, 521.45it/s, train loss=tensor(0.8061), validation loss=tensor(0.9328)]\n"
     ]
    },
    {
     "name": "stdout",
     "output_type": "stream",
     "text": [
      "Train Loss: 0.8061125874519348, Validation Loss: 0.9327766299247742\n"
     ]
    },
    {
     "name": "stderr",
     "output_type": "stream",
     "text": [
      "[Epoch  84/100]: 100%|████████████████████████████████████████████████████| 69986/69986 [02:14<00:00, 520.41it/s, train loss=tensor(0.8048), validation loss=tensor(0.9320)]\n"
     ]
    },
    {
     "name": "stdout",
     "output_type": "stream",
     "text": [
      "Train Loss: 0.8048369288444519, Validation Loss: 0.9320365190505981\n"
     ]
    },
    {
     "name": "stderr",
     "output_type": "stream",
     "text": [
      "[Epoch  85/100]: 100%|████████████████████████████████████████████████████| 69986/69986 [02:14<00:00, 521.07it/s, train loss=tensor(0.8037), validation loss=tensor(0.9302)]\n"
     ]
    },
    {
     "name": "stdout",
     "output_type": "stream",
     "text": [
      "Train Loss: 0.8037222027778625, Validation Loss: 0.930221676826477\n"
     ]
    },
    {
     "name": "stderr",
     "output_type": "stream",
     "text": [
      "[Epoch  86/100]: 100%|████████████████████████████████████████████████████| 69986/69986 [02:14<00:00, 520.77it/s, train loss=tensor(0.8032), validation loss=tensor(0.9306)]\n"
     ]
    },
    {
     "name": "stdout",
     "output_type": "stream",
     "text": [
      "Train Loss: 0.8031870126724243, Validation Loss: 0.93060302734375\n"
     ]
    },
    {
     "name": "stderr",
     "output_type": "stream",
     "text": [
      "[Epoch  87/100]: 100%|████████████████████████████████████████████████████| 69986/69986 [02:14<00:00, 521.13it/s, train loss=tensor(0.8021), validation loss=tensor(0.9298)]\n"
     ]
    },
    {
     "name": "stdout",
     "output_type": "stream",
     "text": [
      "Train Loss: 0.8021340370178223, Validation Loss: 0.9298021793365479\n"
     ]
    },
    {
     "name": "stderr",
     "output_type": "stream",
     "text": [
      "[Epoch  88/100]: 100%|████████████████████████████████████████████████████| 69986/69986 [02:14<00:00, 520.44it/s, train loss=tensor(0.8002), validation loss=tensor(0.9292)]\n"
     ]
    },
    {
     "name": "stdout",
     "output_type": "stream",
     "text": [
      "Train Loss: 0.8001753091812134, Validation Loss: 0.9292214512825012\n"
     ]
    },
    {
     "name": "stderr",
     "output_type": "stream",
     "text": [
      "[Epoch  89/100]: 100%|████████████████████████████████████████████████████| 69986/69986 [02:14<00:00, 521.00it/s, train loss=tensor(0.7994), validation loss=tensor(0.9288)]\n"
     ]
    },
    {
     "name": "stdout",
     "output_type": "stream",
     "text": [
      "Train Loss: 0.7994441390037537, Validation Loss: 0.9287647008895874\n"
     ]
    },
    {
     "name": "stderr",
     "output_type": "stream",
     "text": [
      "[Epoch  90/100]: 100%|████████████████████████████████████████████████████| 69986/69986 [02:14<00:00, 521.50it/s, train loss=tensor(0.7987), validation loss=tensor(0.9279)]\n"
     ]
    },
    {
     "name": "stdout",
     "output_type": "stream",
     "text": [
      "Train Loss: 0.7986616492271423, Validation Loss: 0.9279215335845947\n"
     ]
    },
    {
     "name": "stderr",
     "output_type": "stream",
     "text": [
      "[Epoch  91/100]: 100%|████████████████████████████████████████████████████| 69986/69986 [02:14<00:00, 521.34it/s, train loss=tensor(0.7977), validation loss=tensor(0.9264)]\n"
     ]
    },
    {
     "name": "stdout",
     "output_type": "stream",
     "text": [
      "Train Loss: 0.7977452278137207, Validation Loss: 0.9263752698898315\n"
     ]
    },
    {
     "name": "stderr",
     "output_type": "stream",
     "text": [
      "[Epoch  92/100]: 100%|████████████████████████████████████████████████████| 69986/69986 [02:14<00:00, 521.01it/s, train loss=tensor(0.7970), validation loss=tensor(0.9261)]\n"
     ]
    },
    {
     "name": "stdout",
     "output_type": "stream",
     "text": [
      "Train Loss: 0.7970096468925476, Validation Loss: 0.926093578338623\n"
     ]
    },
    {
     "name": "stderr",
     "output_type": "stream",
     "text": [
      "[Epoch  93/100]: 100%|████████████████████████████████████████████████████| 69986/69986 [02:14<00:00, 520.00it/s, train loss=tensor(0.7956), validation loss=tensor(0.9266)]\n"
     ]
    },
    {
     "name": "stdout",
     "output_type": "stream",
     "text": [
      "Train Loss: 0.7955848574638367, Validation Loss: 0.9265801906585693\n"
     ]
    },
    {
     "name": "stderr",
     "output_type": "stream",
     "text": [
      "[Epoch  94/100]: 100%|████████████████████████████████████████████████████| 69986/69986 [02:13<00:00, 522.91it/s, train loss=tensor(0.7947), validation loss=tensor(0.9258)]\n"
     ]
    },
    {
     "name": "stdout",
     "output_type": "stream",
     "text": [
      "Train Loss: 0.7947046756744385, Validation Loss: 0.9257639646530151\n"
     ]
    },
    {
     "name": "stderr",
     "output_type": "stream",
     "text": [
      "[Epoch  95/100]: 100%|████████████████████████████████████████████████████| 69986/69986 [02:13<00:00, 523.00it/s, train loss=tensor(0.7946), validation loss=tensor(0.9259)]\n"
     ]
    },
    {
     "name": "stdout",
     "output_type": "stream",
     "text": [
      "Train Loss: 0.7945759892463684, Validation Loss: 0.9259480834007263\n"
     ]
    },
    {
     "name": "stderr",
     "output_type": "stream",
     "text": [
      "[Epoch  96/100]: 100%|████████████████████████████████████████████████████| 69986/69986 [02:14<00:00, 521.62it/s, train loss=tensor(0.7942), validation loss=tensor(0.9257)]\n"
     ]
    },
    {
     "name": "stdout",
     "output_type": "stream",
     "text": [
      "Train Loss: 0.7941589951515198, Validation Loss: 0.9256806969642639\n"
     ]
    },
    {
     "name": "stderr",
     "output_type": "stream",
     "text": [
      "[Epoch  97/100]: 100%|████████████████████████████████████████████████████| 69986/69986 [02:15<00:00, 518.32it/s, train loss=tensor(0.7928), validation loss=tensor(0.9231)]\n"
     ]
    },
    {
     "name": "stdout",
     "output_type": "stream",
     "text": [
      "Train Loss: 0.7928397059440613, Validation Loss: 0.9231110215187073\n"
     ]
    },
    {
     "name": "stderr",
     "output_type": "stream",
     "text": [
      "[Epoch  98/100]: 100%|████████████████████████████████████████████████████| 69986/69986 [02:15<00:00, 516.08it/s, train loss=tensor(0.7922), validation loss=tensor(0.9257)]\n"
     ]
    },
    {
     "name": "stdout",
     "output_type": "stream",
     "text": [
      "Train Loss: 0.7921706438064575, Validation Loss: 0.9256812334060669\n"
     ]
    },
    {
     "name": "stderr",
     "output_type": "stream",
     "text": [
      "[Epoch  99/100]: 100%|████████████████████████████████████████████████████| 69986/69986 [02:15<00:00, 516.30it/s, train loss=tensor(0.7906), validation loss=tensor(0.9243)]\n"
     ]
    },
    {
     "name": "stdout",
     "output_type": "stream",
     "text": [
      "Train Loss: 0.7906278371810913, Validation Loss: 0.9242868423461914\n"
     ]
    },
    {
     "name": "stderr",
     "output_type": "stream",
     "text": [
      "[Epoch 100/100]: 100%|████████████████████████████████████████████████████| 69986/69986 [02:15<00:00, 560.43it/s, train loss=tensor(0.7907), validation loss=tensor(0.9233)]"
     ]
    },
    {
     "data": {
      "image/png": "[encoded data removed]",
      "text/plain": [
       "<Figure size 640x480 with 1 Axes>"
      ]
     },
     "metadata": {},
     "output_type": "display_data"
    },
    {
     "name": "stderr",
     "output_type": "stream",
     "text": [
      "[Epoch 100/100]: 100%|████████████████████████████████████████████████████| 69986/69986 [02:16<00:00, 513.29it/s, train loss=tensor(0.7907), validation loss=tensor(0.9233)]"
     ]
    },
    {
     "name": "stdout",
     "output_type": "stream",
     "text": [
      "Train Loss: 0.790733277797699, Validation Loss: 0.9233090877532959\n"
     ]
    },
    {
     "name": "stderr",
     "output_type": "stream",
     "text": [
      "\n"
     ]
    }
   ],
   "source": [
    "cur_step=1\n",
    "train_loss_arr = []\n",
    "val_loss_arr = []\n",
    "for epoch_idx in range(config['EPOCHS']):\n",
    "    with tqdm(total=len(train_dl.dataset), desc=f\"[Epoch {epoch_idx+1:3d}/{config['EPOCHS']}]\") as pbar:\n",
    "        # Train\n",
    "        train_loss=0\n",
    "        model.train()\n",
    "        for batch_idx, batch in enumerate(train_dl):\n",
    "            xb,yb=batch\n",
    "            xb,yb =xb.to(device),yb.to(device)\n",
    "            preds=model(xb,yb) # (batch_size, seq_len, vocab_size)\n",
    "\n",
    "            loss=loss_func(\n",
    "                preds.reshape(-1, preds.size(-1)), # Reshaping for loss\n",
    "                yb[:, 1:].contiguous().view(-1) # Shifting right (without BOS)\n",
    "            )\n",
    "            train_loss+=loss.detach().cpu()\n",
    "\n",
    "\n",
    "            loss.backward()\n",
    "            if cur_step % config['GRAD_ACCUMULATION_STEPS']==0:\n",
    "                optimizer.step()\n",
    "                scheduler.step()\n",
    "                optimizer.zero_grad()\n",
    "            cur_step+=1\n",
    "                \n",
    "            pbar.set_postfix({'running loss': train_loss/(batch_idx+1)})\n",
    "            pbar.update(xb.shape[0])\n",
    "\n",
    "        # Validation\n",
    "        val_loss=0\n",
    "        with torch.no_grad():\n",
    "            model.eval() # to ignore dropout layers\n",
    "            for batch_idx, batch in enumerate(val_dl):\n",
    "                xb,yb=batch\n",
    "                xb,yb =xb.to(device),yb.to(device)\n",
    "                preds=model(xb,yb)\n",
    "\n",
    "                loss=loss_func(\n",
    "                    preds.reshape(-1, preds.size(-1)), # Reshaping for loss\n",
    "                    yb[:, 1:].contiguous().view(-1) # Shifting right (without BOS)\n",
    "                )\n",
    "                val_loss+=loss.detach().cpu()\n",
    "        \n",
    "        train_loss = train_loss / len(train_dl)\n",
    "        val_loss = val_loss / len(val_dl)\n",
    "        train_loss_arr.append(train_loss)\n",
    "        val_loss_arr.append(val_loss)\n",
    "        pbar.set_postfix({'train loss': train_loss, 'validation loss': val_loss})\n",
    "                \n",
    "        # save model every 20 epochs\n",
    "        if (epoch_idx+1) % 20 == 0:\n",
    "            model_save_path = f'models/astar_473_3blocks_epoch{epoch_idx+1}_{datetime.datetime.now().strftime(\"%Y_%m_%d__%H%M%S\")}.pt'\n",
    "            torch.save(model.state_dict(), model_save_path)\n",
    "            torch.save({\n",
    "                'epoch': (epoch_idx+1),\n",
    "                'model_state_dict': model.state_dict(),\n",
    "                'optimizer_state_dict': optimizer.state_dict(),\n",
    "                'train_loss_arr': train_loss_arr,\n",
    "                'val_loss_arr': val_loss_arr,\n",
    "                }, model_save_path)\n",
    "            plt.plot(train_loss_arr, label=\"training loss\")\n",
    "            plt.plot(val_loss_arr, label=\"validation loss\")\n",
    "            plt.legend()\n",
    "            plt.show()\n",
    "            \n",
    "    print(f\"Train Loss: {train_loss}, Validation Loss: {val_loss}\")"
   ]
  },
  {
   "cell_type": "code",
   "execution_count": 30,
   "metadata": {
    "tags": []
   },
   "outputs": [],
   "source": [
    "path = f'models/test.pt'\n",
    "idx = 10\n",
    "torch.save({\n",
    "    'epoch': idx+1,\n",
    "    'model_state_dict': model.state_dict(),\n",
    "    'optimizer_state_dict': optimizer.state_dict()\n",
    "    }, path)"
   ]
  },
  {
   "cell_type": "code",
   "execution_count": 30,
   "metadata": {},
   "outputs": [
    {
     "data": {
      "image/png": "[encoded data removed]",
      "text/plain": [
       "<Figure size 640x480 with 1 Axes>"
      ]
     },
     "metadata": {},
     "output_type": "display_data"
    }
   ],
   "source": [
    "model_save_path = f'models/gcc_403_3blocks_epoch{epoch_idx+1}_{datetime.datetime.now().strftime(\"%Y_%m_%d__%H%M%S\")}.pt'\n",
    "torch.save(model.state_dict(), model_save_path)\n",
    "torch.save({\n",
    "    'epoch': (epoch_idx+1),\n",
    "    'model_state_dict': model.state_dict(),\n",
    "    'optimizer_state_dict': optimizer.state_dict(),\n",
    "    'train_loss_arr': train_loss_arr,\n",
    "    'val_loss_arr': val_loss_arr,\n",
    "    }, model_save_path)\n",
    "plt.plot(train_loss_arr, label=\"training loss\")\n",
    "plt.plot(val_loss_arr, label=\"validation loss\")\n",
    "plt.legend()\n",
    "plt.show()"
   ]
  },
  {
   "cell_type": "markdown",
   "metadata": {
    "tags": []
   },
   "source": [
    "### Train from Checkpoint"
   ]
  },
  {
   "cell_type": "code",
   "execution_count": 31,
   "metadata": {},
   "outputs": [
    {
     "data": {
      "text/plain": [
       "60"
      ]
     },
     "execution_count": 31,
     "metadata": {},
     "output_type": "execute_result"
    }
   ],
   "source": [
    "epoch"
   ]
  },
  {
   "cell_type": "code",
   "execution_count": 33,
   "metadata": {
    "scrolled": true,
    "tags": []
   },
   "outputs": [
    {
     "name": "stderr",
     "output_type": "stream",
     "text": [
      "[Epoch  62/100]: 100%|██████████████████████████████████████████████████████████████████████████████████████████████████████████████████████████████████████| 57427/57427 [01:49<00:00, 523.25it/s, train loss=tensor(0.8968), validation loss=tensor(0.8094)]\n",
      "[Epoch  63/100]: 100%|██████████████████████████████████████████████████████████████████████████████████████████████████████████████████████████████████████| 57427/57427 [01:51<00:00, 513.96it/s, train loss=tensor(0.8619), validation loss=tensor(0.8041)]\n",
      "[Epoch  64/100]: 100%|██████████████████████████████████████████████████████████████████████████████████████████████████████████████████████████████████████| 57427/57427 [01:53<00:00, 504.81it/s, train loss=tensor(0.8472), validation loss=tensor(0.8006)]\n",
      "[Epoch  65/100]: 100%|██████████████████████████████████████████████████████████████████████████████████████████████████████████████████████████████████████| 57427/57427 [01:51<00:00, 515.85it/s, train loss=tensor(0.8382), validation loss=tensor(0.7975)]\n",
      "[Epoch  66/100]: 100%|██████████████████████████████████████████████████████████████████████████████████████████████████████████████████████████████████████| 57427/57427 [01:49<00:00, 523.05it/s, train loss=tensor(0.8306), validation loss=tensor(0.7965)]\n",
      "[Epoch  67/100]: 100%|██████████████████████████████████████████████████████████████████████████████████████████████████████████████████████████████████████| 57427/57427 [01:50<00:00, 522.02it/s, train loss=tensor(0.8257), validation loss=tensor(0.7950)]\n",
      "[Epoch  68/100]: 100%|██████████████████████████████████████████████████████████████████████████████████████████████████████████████████████████████████████| 57427/57427 [01:50<00:00, 520.32it/s, train loss=tensor(0.8223), validation loss=tensor(0.7937)]\n",
      "[Epoch  69/100]: 100%|██████████████████████████████████████████████████████████████████████████████████████████████████████████████████████████████████████| 57427/57427 [01:51<00:00, 515.33it/s, train loss=tensor(0.8180), validation loss=tensor(0.7933)]\n",
      "[Epoch  70/100]: 100%|██████████████████████████████████████████████████████████████████████████████████████████████████████████████████████████████████████| 57427/57427 [01:50<00:00, 521.37it/s, train loss=tensor(0.8148), validation loss=tensor(0.7927)]\n",
      "[Epoch  71/100]: 100%|██████████████████████████████████████████████████████████████████████████████████████████████████████████████████████████████████████| 57427/57427 [01:50<00:00, 520.93it/s, train loss=tensor(0.8120), validation loss=tensor(0.7926)]\n",
      "[Epoch  72/100]: 100%|██████████████████████████████████████████████████████████████████████████████████████████████████████████████████████████████████████| 57427/57427 [01:49<00:00, 522.65it/s, train loss=tensor(0.8090), validation loss=tensor(0.7921)]\n",
      "[Epoch  73/100]: 100%|██████████████████████████████████████████████████████████████████████████████████████████████████████████████████████████████████████| 57427/57427 [01:51<00:00, 514.15it/s, train loss=tensor(0.8073), validation loss=tensor(0.7936)]\n",
      "[Epoch  74/100]: 100%|██████████████████████████████████████████████████████████████████████████████████████████████████████████████████████████████████████| 57427/57427 [01:50<00:00, 521.47it/s, train loss=tensor(0.8057), validation loss=tensor(0.7917)]\n",
      "[Epoch  75/100]: 100%|██████████████████████████████████████████████████████████████████████████████████████████████████████████████████████████████████████| 57427/57427 [01:49<00:00, 522.31it/s, train loss=tensor(0.8037), validation loss=tensor(0.7927)]\n",
      "[Epoch  76/100]: 100%|██████████████████████████████████████████████████████████████████████████████████████████████████████████████████████████████████████| 57427/57427 [01:50<00:00, 522.05it/s, train loss=tensor(0.8016), validation loss=tensor(0.7928)]\n",
      "[Epoch  77/100]: 100%|██████████████████████████████████████████████████████████████████████████████████████████████████████████████████████████████████████| 57427/57427 [01:50<00:00, 521.87it/s, train loss=tensor(0.8008), validation loss=tensor(0.7931)]\n",
      "[Epoch  78/100]: 100%|██████████████████████████████████████████████████████████████████████████████████████████████████████████████████████████████████████| 57427/57427 [01:50<00:00, 519.33it/s, train loss=tensor(0.7990), validation loss=tensor(0.7933)]\n",
      "[Epoch  79/100]: 100%|██████████████████████████████████████████████████████████████████████████████████████████████████████████████████████████████████████| 57427/57427 [01:50<00:00, 521.42it/s, train loss=tensor(0.7975), validation loss=tensor(0.7947)]\n",
      "[Epoch  80/100]: 100%|██████████████████████████████████████████████████████████████████████████████████████████████████████████████████████████████████████| 57427/57427 [01:50<00:00, 520.51it/s, train loss=tensor(0.7960), validation loss=tensor(0.7939)]\n",
      "[Epoch  81/100]: 100%|██████████████████████████████████████████████████████████████████████████████████████████████████████████████████████████████████████| 57427/57427 [01:50<00:00, 521.76it/s, train loss=tensor(0.7951), validation loss=tensor(0.7947)]\n",
      "[Epoch  82/100]: 100%|██████████████████████████████████████████████████████████████████████████████████████████████████████████████████████████████████████| 57427/57427 [01:50<00:00, 521.70it/s, train loss=tensor(0.7939), validation loss=tensor(0.7947)]\n",
      "[Epoch  83/100]: 100%|██████████████████████████████████████████████████████████████████████████████████████████████████████████████████████████████████████| 57427/57427 [01:50<00:00, 521.45it/s, train loss=tensor(0.7928), validation loss=tensor(0.7956)]\n",
      "[Epoch  84/100]: 100%|██████████████████████████████████████████████████████████████████████████████████████████████████████████████████████████████████████| 57427/57427 [01:50<00:00, 521.96it/s, train loss=tensor(0.7920), validation loss=tensor(0.7961)]\n",
      "[Epoch  85/100]: 100%|██████████████████████████████████████████████████████████████████████████████████████████████████████████████████████████████████████| 57427/57427 [01:50<00:00, 520.13it/s, train loss=tensor(0.7908), validation loss=tensor(0.7950)]\n",
      "[Epoch  86/100]: 100%|██████████████████████████████████████████████████████████████████████████████████████████████████████████████████████████████████████| 57427/57427 [01:50<00:00, 521.13it/s, train loss=tensor(0.7898), validation loss=tensor(0.7963)]\n",
      "[Epoch  87/100]: 100%|██████████████████████████████████████████████████████████████████████████████████████████████████████████████████████████████████████| 57427/57427 [01:50<00:00, 521.30it/s, train loss=tensor(0.7892), validation loss=tensor(0.7984)]\n",
      "[Epoch  88/100]: 100%|██████████████████████████████████████████████████████████████████████████████████████████████████████████████████████████████████████| 57427/57427 [01:50<00:00, 518.62it/s, train loss=tensor(0.7882), validation loss=tensor(0.7969)]\n",
      "[Epoch  89/100]: 100%|██████████████████████████████████████████████████████████████████████████████████████████████████████████████████████████████████████| 57427/57427 [01:50<00:00, 521.38it/s, train loss=tensor(0.7870), validation loss=tensor(0.7982)]\n",
      "[Epoch  90/100]: 100%|██████████████████████████████████████████████████████████████████████████████████████████████████████████████████████████████████████| 57427/57427 [01:50<00:00, 521.13it/s, train loss=tensor(0.7861), validation loss=tensor(0.7989)]\n",
      "[Epoch  91/100]: 100%|██████████████████████████████████████████████████████████████████████████████████████████████████████████████████████████████████████| 57427/57427 [01:50<00:00, 521.34it/s, train loss=tensor(0.7855), validation loss=tensor(0.7991)]\n",
      "[Epoch  92/100]: 100%|██████████████████████████████████████████████████████████████████████████████████████████████████████████████████████████████████████| 57427/57427 [01:50<00:00, 521.10it/s, train loss=tensor(0.7853), validation loss=tensor(0.7993)]\n",
      "[Epoch  93/100]: 100%|██████████████████████████████████████████████████████████████████████████████████████████████████████████████████████████████████████| 57427/57427 [01:50<00:00, 521.70it/s, train loss=tensor(0.7841), validation loss=tensor(0.8003)]\n",
      "[Epoch  94/100]: 100%|██████████████████████████████████████████████████████████████████████████████████████████████████████████████████████████████████████| 57427/57427 [01:50<00:00, 521.05it/s, train loss=tensor(0.7839), validation loss=tensor(0.8005)]\n",
      "[Epoch  95/100]: 100%|██████████████████████████████████████████████████████████████████████████████████████████████████████████████████████████████████████| 57427/57427 [01:50<00:00, 520.59it/s, train loss=tensor(0.7831), validation loss=tensor(0.8015)]\n",
      "[Epoch  96/100]: 100%|██████████████████████████████████████████████████████████████████████████████████████████████████████████████████████████████████████| 57427/57427 [01:50<00:00, 521.15it/s, train loss=tensor(0.7821), validation loss=tensor(0.8024)]\n",
      "[Epoch  97/100]: 100%|██████████████████████████████████████████████████████████████████████████████████████████████████████████████████████████████████████| 57427/57427 [01:50<00:00, 520.60it/s, train loss=tensor(0.7814), validation loss=tensor(0.8013)]\n",
      "[Epoch  98/100]: 100%|██████████████████████████████████████████████████████████████████████████████████████████████████████████████████████████████████████| 57427/57427 [01:52<00:00, 510.29it/s, train loss=tensor(0.7807), validation loss=tensor(0.8009)]\n",
      "[Epoch  99/100]: 100%|██████████████████████████████████████████████████████████████████████████████████████████████████████████████████████████████████████| 57427/57427 [01:52<00:00, 512.13it/s, train loss=tensor(0.7797), validation loss=tensor(0.8027)]\n",
      "[Epoch 100/100]: 100%|██████████████████████████████████████████████████████████████████████████████████████████████████████████████████████████████████████| 57427/57427 [01:50<00:00, 519.51it/s, train loss=tensor(0.7797), validation loss=tensor(0.8026)]\n"
     ]
    }
   ],
   "source": [
    "load_path = 'models/fixedShiftRight_checkpoint_2022_11_08__234630.pt'\n",
    "checkpoint = torch.load(load_path)\n",
    "model.load_state_dict(checkpoint['model_state_dict'])\n",
    "optimizer.load_state_dict(checkpoint['optimizer_state_dict'])\n",
    "epoch = checkpoint['epoch']\n",
    "train_loss_arr = checkpoint['train_loss_arr']\n",
    "val_loss_arr = checkpoint['val_loss_arr']\n",
    "\n",
    "cur_step = 1\n",
    "for epoch_idx in range(config['EPOCHS']):\n",
    "    \n",
    "    # skip the trained epochs\n",
    "    if epoch_idx <= epoch:\n",
    "        for _ in range(len(train_dl)):\n",
    "            cur_step += 1\n",
    "            if cur_step % config['GRAD_ACCUMULATION_STEPS']==0:\n",
    "                scheduler.step()\n",
    "        continue\n",
    "        \n",
    "    with tqdm(total=len(train_dl.dataset), desc=f\"[Epoch {epoch_idx+1:3d}/{config['EPOCHS']}]\") as pbar:\n",
    "        # Train\n",
    "        train_loss=0\n",
    "        model.train()\n",
    "        for batch_idx, batch in enumerate(train_dl):\n",
    "            xb,yb=batch\n",
    "            xb,yb =xb.to(device),yb.to(device)\n",
    "            preds=model(xb,yb) # (batch_size, seq_len, vocab_size)\n",
    "\n",
    "            loss=loss_func(\n",
    "                preds.reshape(-1, preds.size(-1)), # Reshaping for loss\n",
    "                yb[:, 1:].contiguous().view(-1) # Shifting right (without BOS)\n",
    "            )\n",
    "            train_loss+=loss.detach().cpu()\n",
    "\n",
    "\n",
    "            loss.backward()\n",
    "            if cur_step % config['GRAD_ACCUMULATION_STEPS']==0:\n",
    "                optimizer.step()\n",
    "                scheduler.step()\n",
    "                optimizer.zero_grad()\n",
    "            cur_step+=1\n",
    "                \n",
    "            pbar.set_postfix({'running loss': train_loss/(batch_idx+1)})\n",
    "            pbar.update(xb.shape[0])\n",
    "\n",
    "        # Validation\n",
    "        val_loss=0\n",
    "        with torch.no_grad():\n",
    "            model.eval() # to ignore dropout layers\n",
    "            for batch_idx, batch in enumerate(val_dl):\n",
    "                xb,yb=batch\n",
    "                xb,yb =xb.to(device),yb.to(device)\n",
    "                preds=model(xb,yb)\n",
    "\n",
    "                loss=loss_func(\n",
    "                    preds.reshape(-1, preds.size(-1)), # Reshaping for loss\n",
    "                    yb[:, 1:].contiguous().view(-1) # Shifting right (without BOS)\n",
    "                )\n",
    "                val_loss+=loss.detach().cpu()\n",
    "        \n",
    "        train_loss = train_loss / len(train_dl)\n",
    "        val_loss = val_loss / len(val_dl)\n",
    "        train_loss_arr.append(train_loss)\n",
    "        val_loss_arr.append(val_loss)\n",
    "        pbar.set_postfix({'train loss': train_loss, 'validation loss': val_loss})\n",
    "                \n",
    "        # save model every 20 epochs\n",
    "        if (epoch_idx+1) % 20 == 0:\n",
    "            model_save_path = f'models/fixedShiftRight_epoch{epoch_idx}_{datetime.datetime.now().strftime(\"%Y_%m_%d__%H%M%S\")}.pth'\n",
    "            torch.save(model.state_dict(), model_save_path)"
   ]
  },
  {
   "cell_type": "code",
   "execution_count": 34,
   "metadata": {
    "tags": []
   },
   "outputs": [
    {
     "data": {
      "image/png": "[encoded data removed]",
      "text/plain": [
       "<Figure size 640x480 with 1 Axes>"
      ]
     },
     "metadata": {},
     "output_type": "display_data"
    }
   ],
   "source": [
    "# train 2\n",
    "plt.plot(train_loss_arr, label=\"training loss\")\n",
    "plt.plot(val_loss_arr, label=\"validation loss\")\n",
    "plt.legend()\n",
    "plt.show()"
   ]
  },
  {
   "cell_type": "code",
   "execution_count": 35,
   "metadata": {},
   "outputs": [],
   "source": [
    "path = f'models/fixedShiftRight_checkpoint_{datetime.datetime.now().strftime(\"%Y_%m_%d__%H%M%S\")}.pt'\n",
    "torch.save({\n",
    "    'epoch': 100,\n",
    "    'model_state_dict': model.state_dict(),\n",
    "    'optimizer_state_dict': optimizer.state_dict(),\n",
    "    'train_loss_arr': train_loss_arr,\n",
    "    'val_loss_arr': val_loss_arr,\n",
    "    }, path)"
   ]
  },
  {
   "cell_type": "markdown",
   "metadata": {
    "tags": []
   },
   "source": [
    "## Test Accuracy"
   ]
  },
  {
   "cell_type": "code",
   "execution_count": 41,
   "metadata": {},
   "outputs": [],
   "source": [
    "load_path = 'models/gcc_403_3blocks_epoch100_2022_12_02__010717.pt'\n",
    "checkpoint = torch.load(load_path)\n",
    "model.load_state_dict(checkpoint['model_state_dict'])\n",
    "epoch = checkpoint['epoch']\n",
    "train_loss_arr = checkpoint['train_loss_arr']\n",
    "val_loss_arr = checkpoint['val_loss_arr']"
   ]
  },
  {
   "cell_type": "code",
   "execution_count": 33,
   "metadata": {},
   "outputs": [],
   "source": [
    "torch.save(model.state_dict(), 'models/gcc_403_3blocks_latest.pth')"
   ]
  },
  {
   "cell_type": "code",
   "execution_count": 63,
   "metadata": {},
   "outputs": [
    {
     "data": {
      "text/plain": [
       "<All keys matched successfully>"
      ]
     },
     "execution_count": 63,
     "metadata": {},
     "output_type": "execute_result"
    }
   ],
   "source": [
    "pth = torch.load('models/useDataCollectedByMe_latest.pth')\n",
    "model.load_state_dict(pth)"
   ]
  },
  {
   "cell_type": "code",
   "execution_count": 64,
   "metadata": {},
   "outputs": [],
   "source": [
    "def translate(model: nn.Module, sentence):\n",
    "    \n",
    "    model.eval()\n",
    "    # Infer the device of the model\n",
    "    device = next(model.parameters()).device\n",
    "\n",
    "    # sanity check\n",
    "    if len(sentence) != (config['INPUT_ADDR_NUM']+1) * config['ADDR_CHUNKS']:\n",
    "        print(f\"You should provide {config['INPUT_ADDR_NUM']+1} addresses in a row as input.\\n\")\n",
    "\n",
    "    # Initialize target sequence with SOS token.\n",
    "    src_token_ids = sentence[:(-config['ADDR_CHUNKS'])].unsqueeze(0).to(device) # (1, INPUT_ADDR_NUM * ADDR_CHUNKS)\n",
    "    trg_token_ids = sentence[(-config['ADDR_CHUNKS']):].unsqueeze(0).to(device) # (1, 1 * ADDR_CHUNKS)\n",
    "\n",
    "    # Obtain src mask\n",
    "    # src_mask=model._get_pad_mask(src_token_ids) # (batch_size, src_seq_len)\n",
    "\n",
    "    # with torch.no_grad():\n",
    "    encoder_output=model.transformer_encoder_decoder.encode(src_token_ids, src_mask=None) # (batch_size, src_seq_len, d_model)\n",
    "\n",
    "    for _ in range((config['OUTPUT_ADDR_NUM']-1) * config['ADDR_CHUNKS']):\n",
    "\n",
    "        # Obtain decoder output.\n",
    "        trg_mask=model._get_lookahead_mask(trg_token_ids)  # Can also be set to None but for my config I found this works better.\n",
    "        decoder_output=model.transformer_encoder_decoder.decode(trg_token_ids, encoder_output, src_mask=None, trg_mask=trg_mask)\n",
    "\n",
    "        # Identify token with highest probability.\n",
    "        softmax_output=nn.functional.log_softmax(decoder_output, dim=-1) # (batch_size, trg_seq_len, trg_vocab_size)\n",
    "        softmax_output_last=softmax_output[:, -1, :] # (batch_size, trg_vocab_size)\n",
    "        _, token_id=softmax_output_last.max(dim=-1) # (batch_size, trg_seq_len)\n",
    "\n",
    "        # Check if token is EOS or we reached the maximum number of tokens.\n",
    "        # if token_id.item() == eos_id or trg_token_ids.size(1) == max_tokens:\n",
    "        #     trg_token_ids=torch.cat([trg_token_ids, token_id.unsqueeze(0)], dim=-1) # (batch_size, trg_seq_len+1)\n",
    "        #     break\n",
    "\n",
    "        # Add token to target sequence.\n",
    "        trg_token_ids=torch.cat([trg_token_ids, token_id.unsqueeze(0)], dim=-1) # (batch_size, trg_seq_len+1)\n",
    "\n",
    "    # Detokenize sentence.\n",
    "    # decoded_output=tokenizer.decode(trg_token_ids.squeeze(0).detach().cpu().numpy(), skip_special_tokens=skip_special_tokens)\n",
    "\n",
    "    return trg_token_ids"
   ]
  },
  {
   "cell_type": "markdown",
   "metadata": {},
   "source": [
    "**Prediction of the next after next address:**"
   ]
  },
  {
   "cell_type": "code",
   "execution_count": 75,
   "metadata": {},
   "outputs": [
    {
     "name": "stdout",
     "output_type": "stream",
     "text": [
      "accuracy (11716/16827):  0.6962619599453259\n"
     ]
    }
   ],
   "source": [
    "correct = 0\n",
    "for xt, yt in test_ds:\n",
    "    sentence = torch.cat([xt[:], yt[:5]]).to(device)\n",
    "    pred = translate(model, sentence).squeeze(0).cpu()\n",
    "    truth = yt[15:20]\n",
    "    # print('pred: ', pred)\n",
    "    # print('truth: ', truth)\n",
    "    if torch.all(torch.eq(pred[15:20], truth)):\n",
    "        correct += 1\n",
    "\n",
    "print(f\"accuracy ({correct}/{len(test_ds)}): \", correct / len(test_ds))"
   ]
  },
  {
   "cell_type": "markdown",
   "metadata": {},
   "source": [
    "**Prediction of next address:**"
   ]
  },
  {
   "cell_type": "code",
   "execution_count": 74,
   "metadata": {},
   "outputs": [
    {
     "name": "stderr",
     "output_type": "stream",
     "text": [
      "100%|█████████████████████████████████████████████████████████████████████████████████████████████████████████████████| 16827/16827 [16:40<00:00, 16.82it/s]"
     ]
    },
    {
     "name": "stdout",
     "output_type": "stream",
     "text": [
      "accuracy (13238/16827):  0.7867118321744815\n"
     ]
    },
    {
     "name": "stderr",
     "output_type": "stream",
     "text": [
      "\n"
     ]
    }
   ],
   "source": [
    "correct = 0\n",
    "for xt, yt in tqdm(test_ds):\n",
    "    sentence = torch.cat([xt[:], yt[:5]]).to(device)\n",
    "    pred = translate(model, sentence).squeeze(0).cpu()\n",
    "    truth = yt[5:10]\n",
    "    # print('pred: ', pred)\n",
    "    # print('truth: ', truth)\n",
    "    if torch.all(torch.eq(pred[5:10], truth)):\n",
    "        correct += 1\n",
    "\n",
    "print(f\"accuracy ({correct}/{len(test_ds)}): \", correct / len(test_ds))"
   ]
  },
  {
   "cell_type": "markdown",
   "metadata": {
    "tags": []
   },
   "source": [
    "## Other tests"
   ]
  },
  {
   "cell_type": "code",
   "execution_count": 81,
   "metadata": {},
   "outputs": [],
   "source": [
    "def tensor2address(sequence):\n",
    "    sequence = sequence.squeeze(0).tolist()\n",
    "    addrs = []\n",
    "    for i in range(4):\n",
    "        addr = 0\n",
    "        for j in range(4, -1, -1):\n",
    "            addr |= sequence[5*i+j]\n",
    "            addr <<= 6\n",
    "        addrs.append(addr)\n",
    "    return addrs\n",
    "    \n",
    "def split_address(addr):\n",
    "    split_addr = []\n",
    "    addr = addr >> 6\n",
    "    for i in range(5): # try ADDR_CHUNKS=5 to eliminate the zeros\n",
    "        split_addr.append(addr & 0x3F)\n",
    "        addr = addr >> 6\n",
    "    return split_addr\n",
    "        \n",
    "\n",
    "def address2tensor(addrs): # array of 17 addresses\n",
    "\n",
    "    sentence = []\n",
    "    for i in range(17):\n",
    "        sentence.extend(split_address(addrs[i]))\n",
    "\n",
    "    return torch.tensor(sentence)"
   ]
  },
  {
   "cell_type": "code",
   "execution_count": 93,
   "metadata": {},
   "outputs": [],
   "source": [
    "def translate2(model: nn.Module, sentence):\n",
    "    \n",
    "    model.eval()\n",
    "    # Infer the device of the model\n",
    "    device = next(model.parameters()).device\n",
    "\n",
    "    # sanity check\n",
    "    if len(sentence) != (config['INPUT_ADDR_NUM']+1):\n",
    "        print(f\"You should provide {config['INPUT_ADDR_NUM']+1} addresses in a row as input.\\n\")\n",
    "\n",
    "    # Initialize target sequence with SOS token.\n",
    "    sentence = address2tensor(sentence)\n",
    "    src_token_ids = sentence[:(-config['ADDR_CHUNKS'])].unsqueeze(0).to(device) # (1, INPUT_ADDR_NUM * ADDR_CHUNKS)\n",
    "    trg_token_ids = sentence[(-config['ADDR_CHUNKS']):].unsqueeze(0).to(device) # (1, 1 * ADDR_CHUNKS)\n",
    "\n",
    "    # Obtain src mask\n",
    "    # src_mask=model._get_pad_mask(src_token_ids) # (batch_size, src_seq_len)\n",
    "\n",
    "    # with torch.no_grad():\n",
    "    encoder_output=model.transformer_encoder_decoder.encode(src_token_ids, src_mask=None) # (batch_size, src_seq_len, d_model)\n",
    "\n",
    "    for _ in range((config['OUTPUT_ADDR_NUM']-1) * config['ADDR_CHUNKS']):\n",
    "\n",
    "        # Obtain decoder output.\n",
    "        trg_mask=model._get_lookahead_mask(trg_token_ids)  # Can also be set to None but for my config I found this works better.\n",
    "        decoder_output=model.transformer_encoder_decoder.decode(trg_token_ids, encoder_output, src_mask=None, trg_mask=trg_mask)\n",
    "\n",
    "        # Identify token with highest probability.\n",
    "        softmax_output=nn.functional.log_softmax(decoder_output, dim=-1) # (batch_size, trg_seq_len, trg_vocab_size)\n",
    "        softmax_output_last=softmax_output[:, -1, :] # (batch_size, trg_vocab_size)\n",
    "        _, token_id=softmax_output_last.max(dim=-1) # (batch_size, trg_seq_len)\n",
    "\n",
    "        # Check if token is EOS or we reached the maximum number of tokens.\n",
    "        # if token_id.item() == eos_id or trg_token_ids.size(1) == max_tokens:\n",
    "        #     trg_token_ids=torch.cat([trg_token_ids, token_id.unsqueeze(0)], dim=-1) # (batch_size, trg_seq_len+1)\n",
    "        #     break\n",
    "\n",
    "        # Add token to target sequence.\n",
    "        trg_token_ids=torch.cat([trg_token_ids, token_id.unsqueeze(0)], dim=-1) # (batch_size, trg_seq_len+1)\n",
    "\n",
    "    # Detokenize sentence.\n",
    "    # decoded_output=tokenizer.decode(trg_token_ids.squeeze(0).detach().cpu().numpy(), skip_special_tokens=skip_special_tokens)\n",
    "\n",
    "    return tensor2address(trg_token_ids)"
   ]
  },
  {
   "cell_type": "code",
   "execution_count": 83,
   "metadata": {},
   "outputs": [
    {
     "name": "stdout",
     "output_type": "stream",
     "text": [
      "[6705970816, 6705970880, 6705968896, 6705968512, 6705968576, 6705968640, 1684653952, 1684654016, 5840117248, 6705968960, 6705970688, 6705970752, 5210693696, 7625493888, 5210694400, 4643160832, 4643160896]\n",
      "[7468720832, 7468720320, 5471505920, 5471505664]\n"
     ]
    }
   ],
   "source": [
    "test_input = data['addr'][:17]\n",
    "truth_output = data['addr'][17:21]\n",
    "print(test_input)\n",
    "print(truth_output)"
   ]
  },
  {
   "cell_type": "code",
   "execution_count": 94,
   "metadata": {},
   "outputs": [
    {
     "data": {
      "text/plain": [
       "[4643160896, 7468720832, 7468720320, 5471505920]"
      ]
     },
     "execution_count": 94,
     "metadata": {},
     "output_type": "execute_result"
    }
   ],
   "source": [
    "translate2(model, test_input)"
   ]
  },
  {
   "cell_type": "code",
   "execution_count": 136,
   "metadata": {},
   "outputs": [
    {
     "name": "stdout",
     "output_type": "stream",
     "text": [
      "[1743895872, 1743895936, 7003590912, 6985208192, 6109025280, 6109025408, 6109025472, 2633967296, 2633967360, 5517112704, 2633967488, 5517112640, 2633967552, 2633967424, 6109024512, 6109024576, 6109024640]\n"
     ]
    },
    {
     "data": {
      "text/plain": [
       "[6109024640, 6113563200, 3120986176, 3120986112]"
      ]
     },
     "execution_count": 136,
     "metadata": {},
     "output_type": "execute_result"
    }
   ],
   "source": [
    "test_input = '1743895872,1743895936,7003590912,6985208192,6109025280,6109025408,6109025472,2633967296,2633967360,5517112704,2633967488,5517112640,2633967552,2633967424,6109024512,6109024576,6109024640'\n",
    "test_input = [int(x) for x in test_input.split(',')]\n",
    "print(test_input)\n",
    "translate2(model, test_input)"
   ]
  },
  {
   "cell_type": "code",
   "execution_count": 148,
   "metadata": {},
   "outputs": [
    {
     "data": {
      "text/plain": [
       "False"
      ]
     },
     "execution_count": 148,
     "metadata": {},
     "output_type": "execute_result"
    }
   ],
   "source": [
    "6109024448 in data['addr']"
   ]
  },
  {
   "cell_type": "code",
   "execution_count": 138,
   "metadata": {},
   "outputs": [
    {
     "name": "stdout",
     "output_type": "stream",
     "text": [
      "17\n"
     ]
    }
   ],
   "source": [
    "numFalse = 0\n",
    "for addr in test_input:\n",
    "    if addr not in data['addr']:\n",
    "        numFalse += 1\n",
    "print(numFalse)"
   ]
  },
  {
   "cell_type": "code",
   "execution_count": 144,
   "metadata": {},
   "outputs": [
    {
     "data": {
      "text/plain": [
       "4124726208"
      ]
     },
     "execution_count": 144,
     "metadata": {},
     "output_type": "execute_result"
    }
   ],
   "source": [
    "data['addr'][20000]"
   ]
  },
  {
   "cell_type": "code",
   "execution_count": null,
   "metadata": {},
   "outputs": [],
   "source": []
  }
 ],
 "metadata": {
  "kernelspec": {
   "display_name": "Python 3 (ipykernel)",
   "language": "python",
   "name": "python3"
  },
  "language_info": {
   "codemirror_mode": {
    "name": "ipython",
    "version": 3
   },
   "file_extension": ".py",
   "mimetype": "text/x-python",
   "name": "python",
   "nbconvert_exporter": "python",
   "pygments_lexer": "ipython3",
   "version": "3.10.6"
  }
 },
 "nbformat": 4,
 "nbformat_minor": 4
}
